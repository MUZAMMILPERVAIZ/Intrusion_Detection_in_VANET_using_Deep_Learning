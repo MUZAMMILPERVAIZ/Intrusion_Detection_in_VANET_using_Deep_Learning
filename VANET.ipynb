{
 "cells": [
  {
   "cell_type": "code",
   "execution_count": 1,
   "outputs": [],
   "source": [
    "import os\n",
    "\n",
    "\n",
    "os.environ['TF_CPP_MIN_LOG_LEVEL'] = '3'\n",
    "# 0 = all messages are logged (default behavior)\n",
    "# 1 = INFO messages are not printed\n",
    "# 2 = INFO and WARNING messages are not printed\n",
    "# 3 = INFO, WARNING, and ERROR messages are not printed"
   ],
   "metadata": {
    "collapsed": false,
    "pycharm": {
     "name": "#%%\n"
    }
   }
  },
  {
   "cell_type": "code",
   "execution_count": 3,
   "metadata": {
    "collapsed": true,
    "pycharm": {
     "name": "#%%\n"
    }
   },
   "outputs": [],
   "source": [
    "import pandas as pd\n",
    "import numpy as np\n",
    "import seaborn as sns\n",
    "from PIL import Image\n",
    "from sklearn.metrics import accuracy_score, classification_report, confusion_matrix\n",
    "from sklearn.model_selection import train_test_split\n",
    "from matplotlib import pyplot as plt\n",
    "from sklearn.preprocessing import MinMaxScaler, LabelEncoder, LabelBinarizer\n",
    "import tensorflow as tf\n",
    "from tensorflow import keras\n",
    "from keras.models import Sequential\n",
    "from keras.layers import Dense, activation, Input, Bidirectional, GRU, LSTM, Dropout, Embedding, ConvLSTM1D, Conv1D,Flatten, MaxPooling1D, SpatialDropout1D, InputLayer"
   ]
  },
  {
   "cell_type": "code",
   "execution_count": 4,
   "outputs": [
    {
     "name": "stdout",
     "output_type": "stream",
     "text": [
      "2.10.0\n"
     ]
    }
   ],
   "source": [
    "print(tf.__version__)"
   ],
   "metadata": {
    "collapsed": false,
    "pycharm": {
     "name": "#%%\n"
    }
   }
  },
  {
   "cell_type": "code",
   "execution_count": 6,
   "outputs": [
    {
     "data": {
      "text/plain": "   0    1    2     3         4          5          6           7      8\n0  3  189  187  1859  9.941176  17.056668  34.451336  355.306833  30000\n1  3  189  187  1859  9.941176  19.017631  34.451336  109.731664  40000\n2  3  189  187  1859  9.941176  34.874903  34.451336   22.972370  20000\n3  3   96   94   936  9.957447   6.678918  32.171998  158.660533  40000\n4  3    3    1     3  3.000000  11.836256   0.782531  502.115994  20000",
      "text/html": "<div>\n<style scoped>\n    .dataframe tbody tr th:only-of-type {\n        vertical-align: middle;\n    }\n\n    .dataframe tbody tr th {\n        vertical-align: top;\n    }\n\n    .dataframe thead th {\n        text-align: right;\n    }\n</style>\n<table border=\"1\" class=\"dataframe\">\n  <thead>\n    <tr style=\"text-align: right;\">\n      <th></th>\n      <th>0</th>\n      <th>1</th>\n      <th>2</th>\n      <th>3</th>\n      <th>4</th>\n      <th>5</th>\n      <th>6</th>\n      <th>7</th>\n      <th>8</th>\n    </tr>\n  </thead>\n  <tbody>\n    <tr>\n      <th>0</th>\n      <td>3</td>\n      <td>189</td>\n      <td>187</td>\n      <td>1859</td>\n      <td>9.941176</td>\n      <td>17.056668</td>\n      <td>34.451336</td>\n      <td>355.306833</td>\n      <td>30000</td>\n    </tr>\n    <tr>\n      <th>1</th>\n      <td>3</td>\n      <td>189</td>\n      <td>187</td>\n      <td>1859</td>\n      <td>9.941176</td>\n      <td>19.017631</td>\n      <td>34.451336</td>\n      <td>109.731664</td>\n      <td>40000</td>\n    </tr>\n    <tr>\n      <th>2</th>\n      <td>3</td>\n      <td>189</td>\n      <td>187</td>\n      <td>1859</td>\n      <td>9.941176</td>\n      <td>34.874903</td>\n      <td>34.451336</td>\n      <td>22.972370</td>\n      <td>20000</td>\n    </tr>\n    <tr>\n      <th>3</th>\n      <td>3</td>\n      <td>96</td>\n      <td>94</td>\n      <td>936</td>\n      <td>9.957447</td>\n      <td>6.678918</td>\n      <td>32.171998</td>\n      <td>158.660533</td>\n      <td>40000</td>\n    </tr>\n    <tr>\n      <th>4</th>\n      <td>3</td>\n      <td>3</td>\n      <td>1</td>\n      <td>3</td>\n      <td>3.000000</td>\n      <td>11.836256</td>\n      <td>0.782531</td>\n      <td>502.115994</td>\n      <td>20000</td>\n    </tr>\n  </tbody>\n</table>\n</div>"
     },
     "execution_count": 6,
     "metadata": {},
     "output_type": "execute_result"
    }
   ],
   "source": [
    "df_32 = pd.read_csv(\"datasets-for-VANET-master/datasets-for-VANET-master/32/32V_10PPS_Processed_C30_disc.csv\", header=None)\n",
    "df_32.head()"
   ],
   "metadata": {
    "collapsed": false,
    "pycharm": {
     "name": "#%%\n"
    }
   }
  },
  {
   "cell_type": "code",
   "execution_count": 7,
   "outputs": [],
   "source": [
    "df_64 = pd.read_csv(\"datasets-for-VANET-master/datasets-for-VANET-master/64/64V_10PPS_Processed_C63_disc.csv\", header=None)\n",
    "df_128 = pd.read_csv(\"datasets-for-VANET-master/datasets-for-VANET-master/128/128V_10PPS_Processed_C105_disc.csv\", header=None)\n",
    "df_Bolgona = pd.read_csv(\"datasets-for-VANET-master/datasets-for-VANET-master/Bologna/Bologna_10PPS_Processed_4_513_disc.csv\",\n",
    "                         header=None)\n",
    "df_Erlangen = pd.read_csv(\n",
    "    \"datasets-for-VANET-master/datasets-for-VANET-master/Erlangen/Erlangen_10PPS_Processed_C150_disc.csv\", header=None)"
   ],
   "metadata": {
    "collapsed": false,
    "pycharm": {
     "name": "#%%\n"
    }
   }
  },
  {
   "cell_type": "code",
   "execution_count": 8,
   "outputs": [
    {
     "data": {
      "text/plain": "        0    1  2   3         4         5          6           7      8\n1857  795  803  9  73  8.111111  3.113066  16.876904   91.312845  30000\n1858  796  796  1   1  1.000000  3.180732   2.024479  159.505698  20000\n1859  796  803  8  70  8.750000  3.098926  16.876904  165.988660  30000\n1860  796  803  8  67  8.375000  3.100116  16.876904  168.901338  30000\n1861  800  803  4  28  7.000000  3.095410  16.876904  173.784501  30000",
      "text/html": "<div>\n<style scoped>\n    .dataframe tbody tr th:only-of-type {\n        vertical-align: middle;\n    }\n\n    .dataframe tbody tr th {\n        vertical-align: top;\n    }\n\n    .dataframe thead th {\n        text-align: right;\n    }\n</style>\n<table border=\"1\" class=\"dataframe\">\n  <thead>\n    <tr style=\"text-align: right;\">\n      <th></th>\n      <th>0</th>\n      <th>1</th>\n      <th>2</th>\n      <th>3</th>\n      <th>4</th>\n      <th>5</th>\n      <th>6</th>\n      <th>7</th>\n      <th>8</th>\n    </tr>\n  </thead>\n  <tbody>\n    <tr>\n      <th>1857</th>\n      <td>795</td>\n      <td>803</td>\n      <td>9</td>\n      <td>73</td>\n      <td>8.111111</td>\n      <td>3.113066</td>\n      <td>16.876904</td>\n      <td>91.312845</td>\n      <td>30000</td>\n    </tr>\n    <tr>\n      <th>1858</th>\n      <td>796</td>\n      <td>796</td>\n      <td>1</td>\n      <td>1</td>\n      <td>1.000000</td>\n      <td>3.180732</td>\n      <td>2.024479</td>\n      <td>159.505698</td>\n      <td>20000</td>\n    </tr>\n    <tr>\n      <th>1859</th>\n      <td>796</td>\n      <td>803</td>\n      <td>8</td>\n      <td>70</td>\n      <td>8.750000</td>\n      <td>3.098926</td>\n      <td>16.876904</td>\n      <td>165.988660</td>\n      <td>30000</td>\n    </tr>\n    <tr>\n      <th>1860</th>\n      <td>796</td>\n      <td>803</td>\n      <td>8</td>\n      <td>67</td>\n      <td>8.375000</td>\n      <td>3.100116</td>\n      <td>16.876904</td>\n      <td>168.901338</td>\n      <td>30000</td>\n    </tr>\n    <tr>\n      <th>1861</th>\n      <td>800</td>\n      <td>803</td>\n      <td>4</td>\n      <td>28</td>\n      <td>7.000000</td>\n      <td>3.095410</td>\n      <td>16.876904</td>\n      <td>173.784501</td>\n      <td>30000</td>\n    </tr>\n  </tbody>\n</table>\n</div>"
     },
     "execution_count": 8,
     "metadata": {},
     "output_type": "execute_result"
    }
   ],
   "source": [
    "mergedDf = pd.concat([df_32, df_64, df_128, df_Bolgona, df_Erlangen], ignore_index=True)\n",
    "mergedDf.tail()"
   ],
   "metadata": {
    "collapsed": false,
    "pycharm": {
     "name": "#%%\n"
    }
   }
  },
  {
   "cell_type": "code",
   "execution_count": 9,
   "outputs": [
    {
     "data": {
      "text/plain": "(1862, 9)"
     },
     "execution_count": 9,
     "metadata": {},
     "output_type": "execute_result"
    }
   ],
   "source": [
    "mergedDf.shape"
   ],
   "metadata": {
    "collapsed": false,
    "pycharm": {
     "name": "#%%\n"
    }
   }
  },
  {
   "cell_type": "code",
   "execution_count": 10,
   "outputs": [
    {
     "data": {
      "text/plain": "   Start time  End time  Time Period  Packets      Rate     Sender   Receiver  \\\n0           3       189          187     1859  9.941176  17.056668  34.451336   \n1           3       189          187     1859  9.941176  19.017631  34.451336   \n2           3       189          187     1859  9.941176  34.874903  34.451336   \n3           3        96           94      936  9.957447   6.678918  32.171998   \n4           3         3            1        3  3.000000  11.836256   0.782531   \n\n   Actual Distance  Severity  \n0       355.306833     30000  \n1       109.731664     40000  \n2        22.972370     20000  \n3       158.660533     40000  \n4       502.115994     20000  ",
      "text/html": "<div>\n<style scoped>\n    .dataframe tbody tr th:only-of-type {\n        vertical-align: middle;\n    }\n\n    .dataframe tbody tr th {\n        vertical-align: top;\n    }\n\n    .dataframe thead th {\n        text-align: right;\n    }\n</style>\n<table border=\"1\" class=\"dataframe\">\n  <thead>\n    <tr style=\"text-align: right;\">\n      <th></th>\n      <th>Start time</th>\n      <th>End time</th>\n      <th>Time Period</th>\n      <th>Packets</th>\n      <th>Rate</th>\n      <th>Sender</th>\n      <th>Receiver</th>\n      <th>Actual Distance</th>\n      <th>Severity</th>\n    </tr>\n  </thead>\n  <tbody>\n    <tr>\n      <th>0</th>\n      <td>3</td>\n      <td>189</td>\n      <td>187</td>\n      <td>1859</td>\n      <td>9.941176</td>\n      <td>17.056668</td>\n      <td>34.451336</td>\n      <td>355.306833</td>\n      <td>30000</td>\n    </tr>\n    <tr>\n      <th>1</th>\n      <td>3</td>\n      <td>189</td>\n      <td>187</td>\n      <td>1859</td>\n      <td>9.941176</td>\n      <td>19.017631</td>\n      <td>34.451336</td>\n      <td>109.731664</td>\n      <td>40000</td>\n    </tr>\n    <tr>\n      <th>2</th>\n      <td>3</td>\n      <td>189</td>\n      <td>187</td>\n      <td>1859</td>\n      <td>9.941176</td>\n      <td>34.874903</td>\n      <td>34.451336</td>\n      <td>22.972370</td>\n      <td>20000</td>\n    </tr>\n    <tr>\n      <th>3</th>\n      <td>3</td>\n      <td>96</td>\n      <td>94</td>\n      <td>936</td>\n      <td>9.957447</td>\n      <td>6.678918</td>\n      <td>32.171998</td>\n      <td>158.660533</td>\n      <td>40000</td>\n    </tr>\n    <tr>\n      <th>4</th>\n      <td>3</td>\n      <td>3</td>\n      <td>1</td>\n      <td>3</td>\n      <td>3.000000</td>\n      <td>11.836256</td>\n      <td>0.782531</td>\n      <td>502.115994</td>\n      <td>20000</td>\n    </tr>\n  </tbody>\n</table>\n</div>"
     },
     "execution_count": 10,
     "metadata": {},
     "output_type": "execute_result"
    }
   ],
   "source": [
    "columnNames = ['Start time', 'End time', 'Time Period', 'Packets', 'Rate', 'Sender', 'Receiver', 'Actual Distance',\n",
    "               'Severity']\n",
    "mergedDf.columns = columnNames\n",
    "mergedDf.head()"
   ],
   "metadata": {
    "collapsed": false,
    "pycharm": {
     "name": "#%%\n"
    }
   }
  },
  {
   "cell_type": "code",
   "execution_count": 11,
   "outputs": [],
   "source": [
    "mergedDf.dropna(inplace=True)"
   ],
   "metadata": {
    "collapsed": false,
    "pycharm": {
     "name": "#%%\n"
    }
   }
  },
  {
   "cell_type": "code",
   "execution_count": 12,
   "outputs": [
    {
     "data": {
      "text/plain": "<Figure size 1800x1440 with 9 Axes>",
      "image/png": "[encoded data removed]"
     },
     "metadata": {},
     "output_type": "display_data"
    }
   ],
   "source": [
    "mergedDf.hist(bins=20, figsize=(25, 20), edgecolor='black', linewidth=2)\n",
    "plt.show()"
   ],
   "metadata": {
    "collapsed": false,
    "pycharm": {
     "name": "#%%\n"
    }
   }
  },
  {
   "cell_type": "code",
   "execution_count": 13,
   "outputs": [],
   "source": [
    "# n_time_steps = 7\n",
    "# n_features = 6\n",
    "# (n_features, n_time_steps)"
   ],
   "metadata": {
    "collapsed": false,
    "pycharm": {
     "name": "#%%\n"
    }
   }
  },
  {
   "cell_type": "code",
   "execution_count": 14,
   "outputs": [
    {
     "data": {
      "text/plain": "array([30000, 40000, 20000], dtype=int64)"
     },
     "execution_count": 14,
     "metadata": {},
     "output_type": "execute_result"
    }
   ],
   "source": [
    "mergedDf['Severity'].unique()"
   ],
   "metadata": {
    "collapsed": false,
    "pycharm": {
     "name": "#%%\n"
    }
   }
  },
  {
   "cell_type": "code",
   "execution_count": 15,
   "outputs": [
    {
     "data": {
      "text/plain": "(1862, 9)"
     },
     "execution_count": 15,
     "metadata": {},
     "output_type": "execute_result"
    }
   ],
   "source": [
    "mergedDf.shape"
   ],
   "metadata": {
    "collapsed": false,
    "pycharm": {
     "name": "#%%\n"
    }
   }
  },
  {
   "cell_type": "code",
   "execution_count": 16,
   "outputs": [],
   "source": [
    "scaler = MinMaxScaler()\n",
    "encoder = LabelBinarizer()"
   ],
   "metadata": {
    "collapsed": false,
    "pycharm": {
     "name": "#%%\n"
    }
   }
  },
  {
   "cell_type": "markdown",
   "source": [],
   "metadata": {
    "collapsed": false,
    "pycharm": {
     "name": "#%% md\n"
    }
   }
  },
  {
   "cell_type": "code",
   "execution_count": 73,
   "outputs": [
    {
     "data": {
      "text/plain": "   Start time  End time  Time Period  Packets      Rate     Sender   Receiver  \\\n0           3       189          187     1859  9.941176  17.056668  34.451336   \n1           3       189          187     1859  9.941176  19.017631  34.451336   \n2           3       189          187     1859  9.941176  34.874903  34.451336   \n3           3        96           94      936  9.957447   6.678918  32.171998   \n4           3         3            1        3  3.000000  11.836256   0.782531   \n\n   Actual Distance  \n0       355.306833  \n1       109.731664  \n2        22.972370  \n3       158.660533  \n4       502.115994  ",
      "text/html": "<div>\n<style scoped>\n    .dataframe tbody tr th:only-of-type {\n        vertical-align: middle;\n    }\n\n    .dataframe tbody tr th {\n        vertical-align: top;\n    }\n\n    .dataframe thead th {\n        text-align: right;\n    }\n</style>\n<table border=\"1\" class=\"dataframe\">\n  <thead>\n    <tr style=\"text-align: right;\">\n      <th></th>\n      <th>Start time</th>\n      <th>End time</th>\n      <th>Time Period</th>\n      <th>Packets</th>\n      <th>Rate</th>\n      <th>Sender</th>\n      <th>Receiver</th>\n      <th>Actual Distance</th>\n    </tr>\n  </thead>\n  <tbody>\n    <tr>\n      <th>0</th>\n      <td>3</td>\n      <td>189</td>\n      <td>187</td>\n      <td>1859</td>\n      <td>9.941176</td>\n      <td>17.056668</td>\n      <td>34.451336</td>\n      <td>355.306833</td>\n    </tr>\n    <tr>\n      <th>1</th>\n      <td>3</td>\n      <td>189</td>\n      <td>187</td>\n      <td>1859</td>\n      <td>9.941176</td>\n      <td>19.017631</td>\n      <td>34.451336</td>\n      <td>109.731664</td>\n    </tr>\n    <tr>\n      <th>2</th>\n      <td>3</td>\n      <td>189</td>\n      <td>187</td>\n      <td>1859</td>\n      <td>9.941176</td>\n      <td>34.874903</td>\n      <td>34.451336</td>\n      <td>22.972370</td>\n    </tr>\n    <tr>\n      <th>3</th>\n      <td>3</td>\n      <td>96</td>\n      <td>94</td>\n      <td>936</td>\n      <td>9.957447</td>\n      <td>6.678918</td>\n      <td>32.171998</td>\n      <td>158.660533</td>\n    </tr>\n    <tr>\n      <th>4</th>\n      <td>3</td>\n      <td>3</td>\n      <td>1</td>\n      <td>3</td>\n      <td>3.000000</td>\n      <td>11.836256</td>\n      <td>0.782531</td>\n      <td>502.115994</td>\n    </tr>\n  </tbody>\n</table>\n</div>"
     },
     "execution_count": 73,
     "metadata": {},
     "output_type": "execute_result"
    }
   ],
   "source": [
    "X = mergedDf[['Start time','End time','Time Period', 'Packets', 'Rate', 'Sender', 'Receiver', 'Actual Distance']]\n",
    "Y = mergedDf.Severity\n",
    "X.head()"
   ],
   "metadata": {
    "collapsed": false,
    "pycharm": {
     "name": "#%%\n"
    }
   }
  },
  {
   "cell_type": "code",
   "execution_count": 74,
   "outputs": [
    {
     "data": {
      "text/plain": "array([30000, 40000, 20000], dtype=int64)"
     },
     "execution_count": 74,
     "metadata": {},
     "output_type": "execute_result"
    }
   ],
   "source": [
    "Y.unique()"
   ],
   "metadata": {
    "collapsed": false,
    "pycharm": {
     "name": "#%%\n"
    }
   }
  },
  {
   "cell_type": "code",
   "execution_count": 74,
   "outputs": [],
   "source": [],
   "metadata": {
    "collapsed": false,
    "pycharm": {
     "name": "#%%\n"
    }
   }
  },
  {
   "cell_type": "code",
   "execution_count": 75,
   "outputs": [
    {
     "data": {
      "text/plain": "(1862, 8)"
     },
     "execution_count": 75,
     "metadata": {},
     "output_type": "execute_result"
    }
   ],
   "source": [
    "X.shape"
   ],
   "metadata": {
    "collapsed": false,
    "pycharm": {
     "name": "#%%\n"
    }
   }
  },
  {
   "cell_type": "code",
   "execution_count": 76,
   "outputs": [],
   "source": [
    "minMaxScaler = MinMaxScaler()"
   ],
   "metadata": {
    "collapsed": false,
    "pycharm": {
     "name": "#%%\n"
    }
   }
  },
  {
   "cell_type": "code",
   "execution_count": 77,
   "outputs": [],
   "source": [
    "Y = pd.get_dummies(Y)\n",
    "X = minMaxScaler.fit_transform(X)"
   ],
   "metadata": {
    "collapsed": false,
    "pycharm": {
     "name": "#%%\n"
    }
   }
  },
  {
   "cell_type": "code",
   "execution_count": 78,
   "outputs": [],
   "source": [
    "X_train, X_test, Y_train, Y_test = train_test_split(X, Y, test_size=0.2, random_state=42, shuffle=True)"
   ],
   "metadata": {
    "collapsed": false,
    "pycharm": {
     "name": "#%%\n"
    }
   }
  },
  {
   "cell_type": "code",
   "execution_count": 79,
   "outputs": [
    {
     "name": "stdout",
     "output_type": "stream",
     "text": [
      "X-train: (1489, 8)\n",
      "y-train: (1489, 3)\n",
      "------------------------\n",
      "X-test: (373, 8)\n",
      "y-test: (373, 3)\n"
     ]
    }
   ],
   "source": [
    "print(\"X-train:\", X_train.shape)\n",
    "print(\"y-train:\", Y_train.shape)\n",
    "print(\"------------------------\")\n",
    "print(\"X-test:\", X_test.shape)\n",
    "print(\"y-test:\", Y_test.shape)"
   ],
   "metadata": {
    "collapsed": false,
    "pycharm": {
     "name": "#%%\n"
    }
   }
  },
  {
   "cell_type": "code",
   "execution_count": 80,
   "outputs": [
    {
     "data": {
      "text/plain": "(1489, 8)"
     },
     "execution_count": 80,
     "metadata": {},
     "output_type": "execute_result"
    }
   ],
   "source": [
    "X_train.shape"
   ],
   "metadata": {
    "collapsed": false,
    "pycharm": {
     "name": "#%%\n"
    }
   }
  },
  {
   "cell_type": "code",
   "execution_count": 81,
   "outputs": [
    {
     "data": {
      "text/plain": "(8,)"
     },
     "execution_count": 81,
     "metadata": {},
     "output_type": "execute_result"
    }
   ],
   "source": [
    "X_train[0].shape"
   ],
   "metadata": {
    "collapsed": false,
    "pycharm": {
     "name": "#%%\n"
    }
   }
  },
  {
   "cell_type": "code",
   "execution_count": 82,
   "outputs": [
    {
     "data": {
      "text/plain": "array([[9.29736512e-01, 9.27500000e-01, 4.52488688e-03, 2.72108844e-03,\n        2.77777778e-01, 5.00900850e-02, 8.88098323e-02, 1.79254857e-02],\n       [2.50941029e-02, 1.28750000e-01, 3.75565611e-01, 3.77324263e-01,\n        9.90740741e-01, 1.03854035e-01, 2.53430101e-01, 7.22666451e-01],\n       [1.38017566e-01, 1.38750000e-01, 4.52488688e-03, 4.53514739e-04,\n        0.00000000e+00, 3.19819377e-01, 6.32360829e-01, 6.94607359e-01],\n       [1.83186951e-01, 1.82500000e-01, 0.00000000e+00, 0.00000000e+00,\n        0.00000000e+00, 5.64093332e-01, 9.77404128e-01, 6.30194026e-01],\n       [1.60602258e-01, 1.81250000e-01, 7.69230769e-02, 7.75510204e-02,\n        9.50617284e-01, 5.63950212e-01, 8.20642432e-06, 8.27076919e-01]])"
     },
     "execution_count": 82,
     "metadata": {},
     "output_type": "execute_result"
    }
   ],
   "source": [
    "X_train[:5]"
   ],
   "metadata": {
    "collapsed": false,
    "pycharm": {
     "name": "#%%\n"
    }
   }
  },
  {
   "cell_type": "code",
   "execution_count": 83,
   "outputs": [
    {
     "data": {
      "text/plain": "      20000  30000  40000\n1790      1      0      0\n244       1      0      0\n710       1      0      0\n1023      1      0      0\n720       0      1      0",
      "text/html": "<div>\n<style scoped>\n    .dataframe tbody tr th:only-of-type {\n        vertical-align: middle;\n    }\n\n    .dataframe tbody tr th {\n        vertical-align: top;\n    }\n\n    .dataframe thead th {\n        text-align: right;\n    }\n</style>\n<table border=\"1\" class=\"dataframe\">\n  <thead>\n    <tr style=\"text-align: right;\">\n      <th></th>\n      <th>20000</th>\n      <th>30000</th>\n      <th>40000</th>\n    </tr>\n  </thead>\n  <tbody>\n    <tr>\n      <th>1790</th>\n      <td>1</td>\n      <td>0</td>\n      <td>0</td>\n    </tr>\n    <tr>\n      <th>244</th>\n      <td>1</td>\n      <td>0</td>\n      <td>0</td>\n    </tr>\n    <tr>\n      <th>710</th>\n      <td>1</td>\n      <td>0</td>\n      <td>0</td>\n    </tr>\n    <tr>\n      <th>1023</th>\n      <td>1</td>\n      <td>0</td>\n      <td>0</td>\n    </tr>\n    <tr>\n      <th>720</th>\n      <td>0</td>\n      <td>1</td>\n      <td>0</td>\n    </tr>\n  </tbody>\n</table>\n</div>"
     },
     "execution_count": 83,
     "metadata": {},
     "output_type": "execute_result"
    }
   ],
   "source": [
    "Y_train[:5]"
   ],
   "metadata": {
    "collapsed": false,
    "pycharm": {
     "name": "#%%\n"
    }
   }
  },
  {
   "cell_type": "code",
   "execution_count": 84,
   "outputs": [],
   "source": [
    "#X_train =X_train.reshape(-1,6,6)"
   ],
   "metadata": {
    "collapsed": false,
    "pycharm": {
     "name": "#%%\n"
    }
   }
  },
  {
   "cell_type": "code",
   "execution_count": 85,
   "outputs": [],
   "source": [
    "#X_test = X_test.reshape(-1,6,1)"
   ],
   "metadata": {
    "collapsed": false,
    "pycharm": {
     "name": "#%%\n"
    }
   }
  },
  {
   "cell_type": "code",
   "execution_count": 86,
   "outputs": [
    {
     "data": {
      "text/plain": "(1489, 8)"
     },
     "execution_count": 86,
     "metadata": {},
     "output_type": "execute_result"
    }
   ],
   "source": [
    "X_train.shape"
   ],
   "metadata": {
    "collapsed": false,
    "pycharm": {
     "name": "#%%\n"
    }
   }
  },
  {
   "cell_type": "code",
   "execution_count": 87,
   "outputs": [
    {
     "data": {
      "text/plain": "(8,)"
     },
     "execution_count": 87,
     "metadata": {},
     "output_type": "execute_result"
    }
   ],
   "source": [
    "X_train[0].shape"
   ],
   "metadata": {
    "collapsed": false,
    "pycharm": {
     "name": "#%%\n"
    }
   }
  },
  {
   "cell_type": "code",
   "execution_count": 88,
   "outputs": [
    {
     "data": {
      "text/plain": "<matplotlib.image.AxesImage at 0x21749771790>"
     },
     "execution_count": 88,
     "metadata": {},
     "output_type": "execute_result"
    },
    {
     "data": {
      "text/plain": "<Figure size 1080x720 with 1 Axes>",
      "image/png": "[encoded data removed]"
     },
     "metadata": {},
     "output_type": "display_data"
    }
   ],
   "source": [
    "from PIL import Image\n",
    "\n",
    "img = Image.fromarray(X_train[1], 'L')\n",
    "plt.figure(figsize=(15, 10))\n",
    "plt.imshow(img, 'gray')"
   ],
   "metadata": {
    "collapsed": false,
    "pycharm": {
     "name": "#%%\n"
    }
   }
  },
  {
   "cell_type": "code",
   "execution_count": 89,
   "outputs": [
    {
     "name": "stdout",
     "output_type": "stream",
     "text": [
      "Model: \"sequential_1\"\n",
      "_________________________________________________________________\n",
      " Layer (type)                Output Shape              Param #   \n",
      "=================================================================\n",
      " dense_4 (Dense)             (None, 512)               4608      \n",
      "                                                                 \n",
      " dropout_3 (Dropout)         (None, 512)               0         \n",
      "                                                                 \n",
      " dense_5 (Dense)             (None, 256)               131328    \n",
      "                                                                 \n",
      " dropout_4 (Dropout)         (None, 256)               0         \n",
      "                                                                 \n",
      " dense_6 (Dense)             (None, 128)               32896     \n",
      "                                                                 \n",
      " dropout_5 (Dropout)         (None, 128)               0         \n",
      "                                                                 \n",
      " dense_7 (Dense)             (None, 3)                 387       \n",
      "                                                                 \n",
      "=================================================================\n",
      "Total params: 169,219\n",
      "Trainable params: 169,219\n",
      "Non-trainable params: 0\n",
      "_________________________________________________________________\n"
     ]
    }
   ],
   "source": [
    "model = Sequential([\n",
    "    InputLayer(input_shape=(8,)),\n",
    "    Dense(512, activation=\"relu\"),\n",
    "    Dropout(0.3),\n",
    "    Dense(256, activation=\"relu\"),\n",
    "    Dropout(0.3),\n",
    "    Dense(128, activation=\"relu\"),\n",
    "    Dropout(0.3),\n",
    "    Dense(3, activation=\"softmax\")\n",
    "])\n",
    "model.compile(\n",
    "    optimizer='adam',\n",
    "    loss=\"categorical_crossentropy\",\n",
    "    metrics=['accuracy']\n",
    ")\n",
    "model.summary()"
   ],
   "metadata": {
    "collapsed": false,
    "pycharm": {
     "name": "#%%\n"
    }
   }
  },
  {
   "cell_type": "code",
   "execution_count": 90,
   "outputs": [
    {
     "name": "stdout",
     "output_type": "stream",
     "text": [
      "You must install pydot (`pip install pydot`) and install graphviz (see instructions at https://graphviz.gitlab.io/download/) for plot_model to work.\n"
     ]
    }
   ],
   "source": [
    "tf.keras.utils.plot_model(model)"
   ],
   "metadata": {
    "collapsed": false,
    "pycharm": {
     "name": "#%%\n"
    }
   }
  },
  {
   "cell_type": "code",
   "execution_count": 91,
   "outputs": [
    {
     "name": "stdout",
     "output_type": "stream",
     "text": [
      "Epoch 1/500\n",
      "2/2 [==============================] - 2s 250ms/step - loss: 1.1131 - accuracy: 0.2639 - val_loss: 1.0120 - val_accuracy: 0.6676\n",
      "Epoch 2/500\n",
      "2/2 [==============================] - 0s 47ms/step - loss: 1.0102 - accuracy: 0.6044 - val_loss: 0.9127 - val_accuracy: 0.6676\n",
      "Epoch 3/500\n",
      "2/2 [==============================] - 0s 62ms/step - loss: 0.9319 - accuracy: 0.6031 - val_loss: 0.8328 - val_accuracy: 0.6676\n",
      "Epoch 4/500\n",
      "2/2 [==============================] - 0s 86ms/step - loss: 0.8750 - accuracy: 0.6031 - val_loss: 0.7809 - val_accuracy: 0.6676\n",
      "Epoch 5/500\n",
      "2/2 [==============================] - 0s 47ms/step - loss: 0.8603 - accuracy: 0.6031 - val_loss: 0.7508 - val_accuracy: 0.6676\n",
      "Epoch 6/500\n",
      "2/2 [==============================] - 0s 63ms/step - loss: 0.8428 - accuracy: 0.6031 - val_loss: 0.7297 - val_accuracy: 0.6676\n",
      "Epoch 7/500\n",
      "2/2 [==============================] - 0s 62ms/step - loss: 0.8116 - accuracy: 0.6064 - val_loss: 0.7192 - val_accuracy: 0.6810\n",
      "Epoch 8/500\n",
      "2/2 [==============================] - 0s 62ms/step - loss: 0.7866 - accuracy: 0.6239 - val_loss: 0.7038 - val_accuracy: 0.7346\n",
      "Epoch 9/500\n",
      "2/2 [==============================] - 0s 47ms/step - loss: 0.7569 - accuracy: 0.6575 - val_loss: 0.6724 - val_accuracy: 0.7480\n",
      "Epoch 10/500\n",
      "2/2 [==============================] - 0s 47ms/step - loss: 0.7319 - accuracy: 0.6716 - val_loss: 0.6349 - val_accuracy: 0.7480\n",
      "Epoch 11/500\n",
      "2/2 [==============================] - 0s 62ms/step - loss: 0.7064 - accuracy: 0.6783 - val_loss: 0.6059 - val_accuracy: 0.7614\n",
      "Epoch 12/500\n",
      "2/2 [==============================] - 0s 47ms/step - loss: 0.6863 - accuracy: 0.6944 - val_loss: 0.5839 - val_accuracy: 0.7614\n",
      "Epoch 13/500\n",
      "2/2 [==============================] - 0s 32ms/step - loss: 0.6523 - accuracy: 0.7213 - val_loss: 0.5650 - val_accuracy: 0.7855\n",
      "Epoch 14/500\n",
      "2/2 [==============================] - 0s 52ms/step - loss: 0.6356 - accuracy: 0.7428 - val_loss: 0.5468 - val_accuracy: 0.8123\n",
      "Epoch 15/500\n",
      "2/2 [==============================] - 0s 47ms/step - loss: 0.6105 - accuracy: 0.7582 - val_loss: 0.5264 - val_accuracy: 0.7962\n",
      "Epoch 16/500\n",
      "2/2 [==============================] - 0s 94ms/step - loss: 0.6005 - accuracy: 0.7623 - val_loss: 0.5064 - val_accuracy: 0.7909\n",
      "Epoch 17/500\n",
      "2/2 [==============================] - 0s 62ms/step - loss: 0.5815 - accuracy: 0.7690 - val_loss: 0.4926 - val_accuracy: 0.7882\n",
      "Epoch 18/500\n",
      "2/2 [==============================] - 0s 47ms/step - loss: 0.5650 - accuracy: 0.7663 - val_loss: 0.4795 - val_accuracy: 0.7909\n",
      "Epoch 19/500\n",
      "2/2 [==============================] - 0s 65ms/step - loss: 0.5542 - accuracy: 0.7683 - val_loss: 0.4655 - val_accuracy: 0.7962\n",
      "Epoch 20/500\n",
      "2/2 [==============================] - 0s 63ms/step - loss: 0.5378 - accuracy: 0.7790 - val_loss: 0.4510 - val_accuracy: 0.8097\n",
      "Epoch 21/500\n",
      "2/2 [==============================] - 0s 63ms/step - loss: 0.5210 - accuracy: 0.7811 - val_loss: 0.4377 - val_accuracy: 0.8043\n",
      "Epoch 22/500\n",
      "2/2 [==============================] - 0s 62ms/step - loss: 0.5123 - accuracy: 0.7804 - val_loss: 0.4268 - val_accuracy: 0.8070\n",
      "Epoch 23/500\n",
      "2/2 [==============================] - 0s 47ms/step - loss: 0.4950 - accuracy: 0.7891 - val_loss: 0.4168 - val_accuracy: 0.8257\n",
      "Epoch 24/500\n",
      "2/2 [==============================] - 0s 59ms/step - loss: 0.4888 - accuracy: 0.7905 - val_loss: 0.3986 - val_accuracy: 0.8204\n",
      "Epoch 25/500\n",
      "2/2 [==============================] - 0s 47ms/step - loss: 0.4693 - accuracy: 0.7925 - val_loss: 0.3868 - val_accuracy: 0.8177\n",
      "Epoch 26/500\n",
      "2/2 [==============================] - 0s 47ms/step - loss: 0.4662 - accuracy: 0.7898 - val_loss: 0.3765 - val_accuracy: 0.8338\n",
      "Epoch 27/500\n",
      "2/2 [==============================] - 0s 47ms/step - loss: 0.4518 - accuracy: 0.8026 - val_loss: 0.3688 - val_accuracy: 0.8338\n",
      "Epoch 28/500\n",
      "2/2 [==============================] - 0s 47ms/step - loss: 0.4321 - accuracy: 0.8099 - val_loss: 0.3486 - val_accuracy: 0.8391\n",
      "Epoch 29/500\n",
      "2/2 [==============================] - 0s 78ms/step - loss: 0.4193 - accuracy: 0.8059 - val_loss: 0.3365 - val_accuracy: 0.8445\n",
      "Epoch 30/500\n",
      "2/2 [==============================] - 0s 62ms/step - loss: 0.4132 - accuracy: 0.8301 - val_loss: 0.3275 - val_accuracy: 0.8525\n",
      "Epoch 31/500\n",
      "2/2 [==============================] - 0s 62ms/step - loss: 0.4123 - accuracy: 0.8234 - val_loss: 0.3271 - val_accuracy: 0.8472\n",
      "Epoch 32/500\n",
      "2/2 [==============================] - 0s 47ms/step - loss: 0.4048 - accuracy: 0.8193 - val_loss: 0.3087 - val_accuracy: 0.8552\n",
      "Epoch 33/500\n",
      "2/2 [==============================] - 0s 63ms/step - loss: 0.3861 - accuracy: 0.8348 - val_loss: 0.3007 - val_accuracy: 0.8794\n",
      "Epoch 34/500\n",
      "2/2 [==============================] - 0s 59ms/step - loss: 0.3917 - accuracy: 0.8449 - val_loss: 0.2951 - val_accuracy: 0.8794\n",
      "Epoch 35/500\n",
      "2/2 [==============================] - 0s 47ms/step - loss: 0.3668 - accuracy: 0.8536 - val_loss: 0.2938 - val_accuracy: 0.8820\n",
      "Epoch 36/500\n",
      "2/2 [==============================] - 0s 47ms/step - loss: 0.3566 - accuracy: 0.8529 - val_loss: 0.2826 - val_accuracy: 0.8847\n",
      "Epoch 37/500\n",
      "2/2 [==============================] - 0s 63ms/step - loss: 0.3529 - accuracy: 0.8590 - val_loss: 0.2775 - val_accuracy: 0.8847\n",
      "Epoch 38/500\n",
      "2/2 [==============================] - 0s 47ms/step - loss: 0.3475 - accuracy: 0.8496 - val_loss: 0.2870 - val_accuracy: 0.8713\n",
      "Epoch 39/500\n",
      "2/2 [==============================] - 0s 47ms/step - loss: 0.3478 - accuracy: 0.8650 - val_loss: 0.2655 - val_accuracy: 0.8928\n",
      "Epoch 40/500\n",
      "2/2 [==============================] - 0s 63ms/step - loss: 0.3330 - accuracy: 0.8617 - val_loss: 0.2602 - val_accuracy: 0.9008\n",
      "Epoch 41/500\n",
      "2/2 [==============================] - 0s 62ms/step - loss: 0.3439 - accuracy: 0.8610 - val_loss: 0.2587 - val_accuracy: 0.8901\n",
      "Epoch 42/500\n",
      "2/2 [==============================] - 0s 47ms/step - loss: 0.3359 - accuracy: 0.8637 - val_loss: 0.2662 - val_accuracy: 0.8794\n",
      "Epoch 43/500\n",
      "2/2 [==============================] - 0s 47ms/step - loss: 0.3257 - accuracy: 0.8637 - val_loss: 0.2501 - val_accuracy: 0.8928\n",
      "Epoch 44/500\n",
      "2/2 [==============================] - 0s 47ms/step - loss: 0.3049 - accuracy: 0.8731 - val_loss: 0.2435 - val_accuracy: 0.8981\n",
      "Epoch 45/500\n",
      "2/2 [==============================] - 0s 47ms/step - loss: 0.3190 - accuracy: 0.8596 - val_loss: 0.2413 - val_accuracy: 0.8874\n",
      "Epoch 46/500\n",
      "2/2 [==============================] - 0s 61ms/step - loss: 0.3238 - accuracy: 0.8596 - val_loss: 0.2374 - val_accuracy: 0.8981\n",
      "Epoch 47/500\n",
      "2/2 [==============================] - 0s 62ms/step - loss: 0.3042 - accuracy: 0.8711 - val_loss: 0.2366 - val_accuracy: 0.8981\n",
      "Epoch 48/500\n",
      "2/2 [==============================] - 0s 47ms/step - loss: 0.3089 - accuracy: 0.8704 - val_loss: 0.2416 - val_accuracy: 0.8928\n",
      "Epoch 49/500\n",
      "2/2 [==============================] - 0s 62ms/step - loss: 0.3021 - accuracy: 0.8818 - val_loss: 0.2322 - val_accuracy: 0.8901\n",
      "Epoch 50/500\n",
      "2/2 [==============================] - 0s 47ms/step - loss: 0.2896 - accuracy: 0.8778 - val_loss: 0.2280 - val_accuracy: 0.8954\n",
      "Epoch 51/500\n",
      "2/2 [==============================] - 0s 47ms/step - loss: 0.2958 - accuracy: 0.8838 - val_loss: 0.2321 - val_accuracy: 0.8928\n",
      "Epoch 52/500\n",
      "2/2 [==============================] - 0s 47ms/step - loss: 0.2857 - accuracy: 0.8825 - val_loss: 0.2279 - val_accuracy: 0.8981\n",
      "Epoch 53/500\n",
      "2/2 [==============================] - 0s 47ms/step - loss: 0.2873 - accuracy: 0.8831 - val_loss: 0.2232 - val_accuracy: 0.8981\n",
      "Epoch 54/500\n",
      "2/2 [==============================] - 0s 63ms/step - loss: 0.2745 - accuracy: 0.8852 - val_loss: 0.2243 - val_accuracy: 0.9035\n",
      "Epoch 55/500\n",
      "2/2 [==============================] - 0s 111ms/step - loss: 0.2926 - accuracy: 0.8791 - val_loss: 0.2223 - val_accuracy: 0.9062\n",
      "Epoch 56/500\n",
      "2/2 [==============================] - 0s 63ms/step - loss: 0.2745 - accuracy: 0.8784 - val_loss: 0.2131 - val_accuracy: 0.9088\n",
      "Epoch 57/500\n",
      "2/2 [==============================] - 0s 62ms/step - loss: 0.2850 - accuracy: 0.8838 - val_loss: 0.2101 - val_accuracy: 0.9062\n",
      "Epoch 58/500\n",
      "2/2 [==============================] - 0s 99ms/step - loss: 0.2583 - accuracy: 0.8925 - val_loss: 0.2234 - val_accuracy: 0.9062\n",
      "Epoch 59/500\n",
      "2/2 [==============================] - 0s 82ms/step - loss: 0.2569 - accuracy: 0.8999 - val_loss: 0.2077 - val_accuracy: 0.9115\n",
      "Epoch 60/500\n",
      "2/2 [==============================] - 0s 47ms/step - loss: 0.2623 - accuracy: 0.8925 - val_loss: 0.2037 - val_accuracy: 0.9196\n",
      "Epoch 61/500\n",
      "2/2 [==============================] - 0s 63ms/step - loss: 0.2616 - accuracy: 0.9019 - val_loss: 0.2087 - val_accuracy: 0.9062\n",
      "Epoch 62/500\n",
      "2/2 [==============================] - 0s 47ms/step - loss: 0.2630 - accuracy: 0.8919 - val_loss: 0.2099 - val_accuracy: 0.9088\n",
      "Epoch 63/500\n",
      "2/2 [==============================] - 0s 47ms/step - loss: 0.2585 - accuracy: 0.8932 - val_loss: 0.2026 - val_accuracy: 0.9115\n",
      "Epoch 64/500\n",
      "2/2 [==============================] - 0s 47ms/step - loss: 0.2509 - accuracy: 0.8905 - val_loss: 0.1979 - val_accuracy: 0.9169\n",
      "Epoch 65/500\n",
      "2/2 [==============================] - 0s 78ms/step - loss: 0.2684 - accuracy: 0.8865 - val_loss: 0.1962 - val_accuracy: 0.9142\n",
      "Epoch 66/500\n",
      "2/2 [==============================] - 0s 47ms/step - loss: 0.2639 - accuracy: 0.8892 - val_loss: 0.2032 - val_accuracy: 0.9088\n",
      "Epoch 67/500\n",
      "2/2 [==============================] - 0s 63ms/step - loss: 0.2568 - accuracy: 0.8939 - val_loss: 0.1953 - val_accuracy: 0.9115\n",
      "Epoch 68/500\n",
      "2/2 [==============================] - 0s 63ms/step - loss: 0.2455 - accuracy: 0.9040 - val_loss: 0.1927 - val_accuracy: 0.9169\n",
      "Epoch 69/500\n",
      "2/2 [==============================] - 0s 47ms/step - loss: 0.2498 - accuracy: 0.9026 - val_loss: 0.1920 - val_accuracy: 0.9196\n",
      "Epoch 70/500\n",
      "2/2 [==============================] - 0s 86ms/step - loss: 0.2504 - accuracy: 0.8986 - val_loss: 0.1929 - val_accuracy: 0.9115\n",
      "Epoch 71/500\n",
      "2/2 [==============================] - 0s 63ms/step - loss: 0.2449 - accuracy: 0.9120 - val_loss: 0.1888 - val_accuracy: 0.9196\n",
      "Epoch 72/500\n",
      "2/2 [==============================] - 0s 62ms/step - loss: 0.2396 - accuracy: 0.9060 - val_loss: 0.1897 - val_accuracy: 0.9223\n",
      "Epoch 73/500\n",
      "2/2 [==============================] - 0s 47ms/step - loss: 0.2334 - accuracy: 0.9140 - val_loss: 0.1878 - val_accuracy: 0.9223\n",
      "Epoch 74/500\n",
      "2/2 [==============================] - 0s 63ms/step - loss: 0.2341 - accuracy: 0.9026 - val_loss: 0.1867 - val_accuracy: 0.9223\n",
      "Epoch 75/500\n",
      "2/2 [==============================] - 0s 63ms/step - loss: 0.2354 - accuracy: 0.9066 - val_loss: 0.1844 - val_accuracy: 0.9196\n",
      "Epoch 76/500\n",
      "2/2 [==============================] - 0s 62ms/step - loss: 0.2244 - accuracy: 0.9140 - val_loss: 0.1824 - val_accuracy: 0.9303\n",
      "Epoch 77/500\n",
      "2/2 [==============================] - 0s 94ms/step - loss: 0.2310 - accuracy: 0.9026 - val_loss: 0.1840 - val_accuracy: 0.9330\n",
      "Epoch 78/500\n",
      "2/2 [==============================] - 0s 47ms/step - loss: 0.2318 - accuracy: 0.9026 - val_loss: 0.1935 - val_accuracy: 0.9249\n",
      "Epoch 79/500\n",
      "2/2 [==============================] - 0s 47ms/step - loss: 0.2338 - accuracy: 0.9019 - val_loss: 0.1812 - val_accuracy: 0.9276\n",
      "Epoch 80/500\n",
      "2/2 [==============================] - 0s 61ms/step - loss: 0.2395 - accuracy: 0.9093 - val_loss: 0.1797 - val_accuracy: 0.9249\n",
      "Epoch 81/500\n",
      "2/2 [==============================] - 0s 47ms/step - loss: 0.2263 - accuracy: 0.9087 - val_loss: 0.1863 - val_accuracy: 0.9223\n",
      "Epoch 82/500\n",
      "2/2 [==============================] - 0s 47ms/step - loss: 0.2367 - accuracy: 0.9080 - val_loss: 0.1881 - val_accuracy: 0.9249\n",
      "Epoch 83/500\n",
      "2/2 [==============================] - 0s 47ms/step - loss: 0.2264 - accuracy: 0.9019 - val_loss: 0.1768 - val_accuracy: 0.9249\n",
      "Epoch 84/500\n",
      "2/2 [==============================] - 0s 47ms/step - loss: 0.2295 - accuracy: 0.9080 - val_loss: 0.1766 - val_accuracy: 0.9303\n",
      "Epoch 85/500\n",
      "2/2 [==============================] - 0s 63ms/step - loss: 0.2200 - accuracy: 0.9080 - val_loss: 0.1860 - val_accuracy: 0.9276\n",
      "Epoch 86/500\n",
      "2/2 [==============================] - 0s 47ms/step - loss: 0.2270 - accuracy: 0.9100 - val_loss: 0.1745 - val_accuracy: 0.9276\n",
      "Epoch 87/500\n",
      "2/2 [==============================] - 0s 63ms/step - loss: 0.2152 - accuracy: 0.9154 - val_loss: 0.1746 - val_accuracy: 0.9223\n",
      "Epoch 88/500\n",
      "2/2 [==============================] - 0s 47ms/step - loss: 0.2104 - accuracy: 0.9093 - val_loss: 0.1781 - val_accuracy: 0.9169\n",
      "Epoch 89/500\n",
      "2/2 [==============================] - 0s 62ms/step - loss: 0.2296 - accuracy: 0.9060 - val_loss: 0.1808 - val_accuracy: 0.9223\n",
      "Epoch 90/500\n",
      "2/2 [==============================] - 0s 47ms/step - loss: 0.2180 - accuracy: 0.9140 - val_loss: 0.1712 - val_accuracy: 0.9276\n",
      "Epoch 91/500\n",
      "2/2 [==============================] - 0s 62ms/step - loss: 0.2177 - accuracy: 0.9127 - val_loss: 0.1691 - val_accuracy: 0.9249\n",
      "Epoch 92/500\n",
      "2/2 [==============================] - 0s 47ms/step - loss: 0.2122 - accuracy: 0.9187 - val_loss: 0.1787 - val_accuracy: 0.9169\n",
      "Epoch 93/500\n",
      "2/2 [==============================] - 0s 47ms/step - loss: 0.2157 - accuracy: 0.9100 - val_loss: 0.1661 - val_accuracy: 0.9249\n",
      "Epoch 94/500\n",
      "2/2 [==============================] - 0s 62ms/step - loss: 0.2217 - accuracy: 0.9174 - val_loss: 0.1657 - val_accuracy: 0.9330\n",
      "Epoch 95/500\n",
      "2/2 [==============================] - 0s 47ms/step - loss: 0.2130 - accuracy: 0.9174 - val_loss: 0.1679 - val_accuracy: 0.9249\n",
      "Epoch 96/500\n",
      "2/2 [==============================] - 0s 78ms/step - loss: 0.2196 - accuracy: 0.9100 - val_loss: 0.1740 - val_accuracy: 0.9276\n",
      "Epoch 97/500\n",
      "2/2 [==============================] - 0s 53ms/step - loss: 0.2061 - accuracy: 0.9194 - val_loss: 0.1695 - val_accuracy: 0.9249\n",
      "Epoch 98/500\n",
      "2/2 [==============================] - 0s 63ms/step - loss: 0.2090 - accuracy: 0.9161 - val_loss: 0.1673 - val_accuracy: 0.9223\n",
      "Epoch 99/500\n",
      "2/2 [==============================] - 0s 62ms/step - loss: 0.2097 - accuracy: 0.9113 - val_loss: 0.1720 - val_accuracy: 0.9303\n",
      "Epoch 100/500\n",
      "2/2 [==============================] - 0s 63ms/step - loss: 0.2064 - accuracy: 0.9208 - val_loss: 0.1734 - val_accuracy: 0.9303\n",
      "Epoch 101/500\n",
      "2/2 [==============================] - 0s 62ms/step - loss: 0.2157 - accuracy: 0.9127 - val_loss: 0.1634 - val_accuracy: 0.9276\n",
      "Epoch 102/500\n",
      "2/2 [==============================] - 0s 65ms/step - loss: 0.2162 - accuracy: 0.9120 - val_loss: 0.1631 - val_accuracy: 0.9276\n",
      "Epoch 103/500\n",
      "2/2 [==============================] - 0s 62ms/step - loss: 0.2006 - accuracy: 0.9221 - val_loss: 0.1670 - val_accuracy: 0.9249\n",
      "Epoch 104/500\n",
      "2/2 [==============================] - 0s 47ms/step - loss: 0.2015 - accuracy: 0.9248 - val_loss: 0.1704 - val_accuracy: 0.9276\n",
      "Epoch 105/500\n",
      "2/2 [==============================] - 0s 62ms/step - loss: 0.2001 - accuracy: 0.9208 - val_loss: 0.1632 - val_accuracy: 0.9223\n",
      "Epoch 106/500\n",
      "2/2 [==============================] - 0s 62ms/step - loss: 0.2140 - accuracy: 0.9140 - val_loss: 0.1602 - val_accuracy: 0.9276\n",
      "Epoch 107/500\n",
      "2/2 [==============================] - 0s 86ms/step - loss: 0.1982 - accuracy: 0.9275 - val_loss: 0.1664 - val_accuracy: 0.9276\n",
      "Epoch 108/500\n",
      "2/2 [==============================] - 0s 63ms/step - loss: 0.2031 - accuracy: 0.9187 - val_loss: 0.1563 - val_accuracy: 0.9357\n",
      "Epoch 109/500\n",
      "2/2 [==============================] - 0s 63ms/step - loss: 0.2102 - accuracy: 0.9167 - val_loss: 0.1550 - val_accuracy: 0.9276\n",
      "Epoch 110/500\n",
      "2/2 [==============================] - 0s 63ms/step - loss: 0.1985 - accuracy: 0.9194 - val_loss: 0.1617 - val_accuracy: 0.9276\n",
      "Epoch 111/500\n",
      "2/2 [==============================] - 0s 62ms/step - loss: 0.2021 - accuracy: 0.9174 - val_loss: 0.1572 - val_accuracy: 0.9276\n",
      "Epoch 112/500\n",
      "2/2 [==============================] - 0s 87ms/step - loss: 0.1952 - accuracy: 0.9194 - val_loss: 0.1565 - val_accuracy: 0.9303\n",
      "Epoch 113/500\n",
      "2/2 [==============================] - 0s 94ms/step - loss: 0.1882 - accuracy: 0.9234 - val_loss: 0.1552 - val_accuracy: 0.9330\n",
      "Epoch 114/500\n",
      "2/2 [==============================] - 0s 94ms/step - loss: 0.1894 - accuracy: 0.9275 - val_loss: 0.1558 - val_accuracy: 0.9330\n",
      "Epoch 115/500\n",
      "2/2 [==============================] - 0s 111ms/step - loss: 0.2081 - accuracy: 0.9093 - val_loss: 0.1606 - val_accuracy: 0.9357\n",
      "Epoch 116/500\n",
      "2/2 [==============================] - 0s 78ms/step - loss: 0.1976 - accuracy: 0.9161 - val_loss: 0.1519 - val_accuracy: 0.9383\n",
      "Epoch 117/500\n",
      "2/2 [==============================] - 0s 96ms/step - loss: 0.1998 - accuracy: 0.9201 - val_loss: 0.1522 - val_accuracy: 0.9357\n",
      "Epoch 118/500\n",
      "2/2 [==============================] - 0s 62ms/step - loss: 0.1890 - accuracy: 0.9228 - val_loss: 0.1523 - val_accuracy: 0.9357\n",
      "Epoch 119/500\n",
      "2/2 [==============================] - 0s 94ms/step - loss: 0.1999 - accuracy: 0.9174 - val_loss: 0.1590 - val_accuracy: 0.9303\n",
      "Epoch 120/500\n",
      "2/2 [==============================] - 0s 109ms/step - loss: 0.1862 - accuracy: 0.9295 - val_loss: 0.1543 - val_accuracy: 0.9357\n",
      "Epoch 121/500\n",
      "2/2 [==============================] - 0s 96ms/step - loss: 0.1913 - accuracy: 0.9241 - val_loss: 0.1544 - val_accuracy: 0.9437\n",
      "Epoch 122/500\n",
      "2/2 [==============================] - 0s 48ms/step - loss: 0.1956 - accuracy: 0.9241 - val_loss: 0.1544 - val_accuracy: 0.9303\n",
      "Epoch 123/500\n",
      "2/2 [==============================] - 0s 55ms/step - loss: 0.1927 - accuracy: 0.9281 - val_loss: 0.1565 - val_accuracy: 0.9303\n",
      "Epoch 124/500\n",
      "2/2 [==============================] - 0s 63ms/step - loss: 0.1859 - accuracy: 0.9234 - val_loss: 0.1516 - val_accuracy: 0.9357\n",
      "Epoch 125/500\n",
      "2/2 [==============================] - 0s 62ms/step - loss: 0.1914 - accuracy: 0.9187 - val_loss: 0.1526 - val_accuracy: 0.9410\n",
      "Epoch 126/500\n",
      "2/2 [==============================] - 0s 78ms/step - loss: 0.1816 - accuracy: 0.9315 - val_loss: 0.1483 - val_accuracy: 0.9383\n",
      "Epoch 127/500\n",
      "2/2 [==============================] - 0s 77ms/step - loss: 0.1851 - accuracy: 0.9268 - val_loss: 0.1468 - val_accuracy: 0.9383\n",
      "Epoch 128/500\n",
      "2/2 [==============================] - 0s 62ms/step - loss: 0.1907 - accuracy: 0.9241 - val_loss: 0.1480 - val_accuracy: 0.9303\n",
      "Epoch 129/500\n",
      "2/2 [==============================] - 0s 63ms/step - loss: 0.1796 - accuracy: 0.9355 - val_loss: 0.1492 - val_accuracy: 0.9383\n",
      "Epoch 130/500\n",
      "2/2 [==============================] - 0s 62ms/step - loss: 0.1925 - accuracy: 0.9234 - val_loss: 0.1456 - val_accuracy: 0.9410\n",
      "Epoch 131/500\n",
      "2/2 [==============================] - 0s 62ms/step - loss: 0.1899 - accuracy: 0.9281 - val_loss: 0.1433 - val_accuracy: 0.9383\n",
      "Epoch 132/500\n",
      "2/2 [==============================] - 0s 47ms/step - loss: 0.1834 - accuracy: 0.9288 - val_loss: 0.1428 - val_accuracy: 0.9410\n",
      "Epoch 133/500\n",
      "2/2 [==============================] - 0s 63ms/step - loss: 0.1807 - accuracy: 0.9349 - val_loss: 0.1444 - val_accuracy: 0.9330\n",
      "Epoch 134/500\n",
      "2/2 [==============================] - 0s 78ms/step - loss: 0.1879 - accuracy: 0.9187 - val_loss: 0.1472 - val_accuracy: 0.9330\n",
      "Epoch 135/500\n",
      "2/2 [==============================] - 0s 78ms/step - loss: 0.1770 - accuracy: 0.9248 - val_loss: 0.1493 - val_accuracy: 0.9249\n",
      "Epoch 136/500\n",
      "2/2 [==============================] - 0s 78ms/step - loss: 0.1712 - accuracy: 0.9355 - val_loss: 0.1477 - val_accuracy: 0.9357\n",
      "Epoch 137/500\n",
      "2/2 [==============================] - 0s 56ms/step - loss: 0.1884 - accuracy: 0.9234 - val_loss: 0.1477 - val_accuracy: 0.9330\n",
      "Epoch 138/500\n",
      "2/2 [==============================] - 0s 63ms/step - loss: 0.1742 - accuracy: 0.9275 - val_loss: 0.1488 - val_accuracy: 0.9357\n",
      "Epoch 139/500\n",
      "2/2 [==============================] - 0s 63ms/step - loss: 0.1829 - accuracy: 0.9228 - val_loss: 0.1485 - val_accuracy: 0.9276\n",
      "Epoch 140/500\n",
      "2/2 [==============================] - 0s 62ms/step - loss: 0.1793 - accuracy: 0.9241 - val_loss: 0.1456 - val_accuracy: 0.9437\n",
      "Epoch 141/500\n",
      "2/2 [==============================] - 0s 62ms/step - loss: 0.1811 - accuracy: 0.9322 - val_loss: 0.1449 - val_accuracy: 0.9383\n",
      "Epoch 142/500\n",
      "2/2 [==============================] - 0s 63ms/step - loss: 0.1853 - accuracy: 0.9248 - val_loss: 0.1535 - val_accuracy: 0.9303\n",
      "Epoch 143/500\n",
      "2/2 [==============================] - 0s 94ms/step - loss: 0.1799 - accuracy: 0.9248 - val_loss: 0.1460 - val_accuracy: 0.9410\n",
      "Epoch 144/500\n",
      "2/2 [==============================] - 0s 62ms/step - loss: 0.1854 - accuracy: 0.9234 - val_loss: 0.1421 - val_accuracy: 0.9383\n",
      "Epoch 145/500\n",
      "2/2 [==============================] - 0s 62ms/step - loss: 0.1733 - accuracy: 0.9322 - val_loss: 0.1423 - val_accuracy: 0.9437\n",
      "Epoch 146/500\n",
      "2/2 [==============================] - 0s 62ms/step - loss: 0.1742 - accuracy: 0.9255 - val_loss: 0.1481 - val_accuracy: 0.9303\n",
      "Epoch 147/500\n",
      "2/2 [==============================] - 0s 62ms/step - loss: 0.1774 - accuracy: 0.9308 - val_loss: 0.1450 - val_accuracy: 0.9303\n",
      "Epoch 148/500\n",
      "2/2 [==============================] - 0s 63ms/step - loss: 0.1802 - accuracy: 0.9308 - val_loss: 0.1415 - val_accuracy: 0.9464\n",
      "Epoch 149/500\n",
      "2/2 [==============================] - 0s 63ms/step - loss: 0.1796 - accuracy: 0.9362 - val_loss: 0.1432 - val_accuracy: 0.9410\n",
      "Epoch 150/500\n",
      "2/2 [==============================] - 0s 63ms/step - loss: 0.1700 - accuracy: 0.9315 - val_loss: 0.1493 - val_accuracy: 0.9330\n",
      "Epoch 151/500\n",
      "2/2 [==============================] - 0s 62ms/step - loss: 0.1697 - accuracy: 0.9281 - val_loss: 0.1475 - val_accuracy: 0.9383\n",
      "Epoch 152/500\n",
      "2/2 [==============================] - 0s 45ms/step - loss: 0.1808 - accuracy: 0.9241 - val_loss: 0.1437 - val_accuracy: 0.9491\n",
      "Epoch 153/500\n",
      "2/2 [==============================] - 0s 47ms/step - loss: 0.1829 - accuracy: 0.9248 - val_loss: 0.1399 - val_accuracy: 0.9437\n",
      "Epoch 154/500\n",
      "2/2 [==============================] - 0s 63ms/step - loss: 0.1648 - accuracy: 0.9375 - val_loss: 0.1441 - val_accuracy: 0.9383\n",
      "Epoch 155/500\n",
      "2/2 [==============================] - 0s 94ms/step - loss: 0.1689 - accuracy: 0.9422 - val_loss: 0.1409 - val_accuracy: 0.9410\n",
      "Epoch 156/500\n",
      "2/2 [==============================] - 0s 83ms/step - loss: 0.1756 - accuracy: 0.9342 - val_loss: 0.1422 - val_accuracy: 0.9464\n",
      "Epoch 157/500\n",
      "2/2 [==============================] - 0s 47ms/step - loss: 0.1723 - accuracy: 0.9335 - val_loss: 0.1393 - val_accuracy: 0.9437\n",
      "Epoch 158/500\n",
      "2/2 [==============================] - 0s 78ms/step - loss: 0.1782 - accuracy: 0.9308 - val_loss: 0.1445 - val_accuracy: 0.9303\n",
      "Epoch 159/500\n",
      "2/2 [==============================] - 0s 78ms/step - loss: 0.1787 - accuracy: 0.9255 - val_loss: 0.1396 - val_accuracy: 0.9410\n",
      "Epoch 160/500\n",
      "2/2 [==============================] - 0s 172ms/step - loss: 0.1634 - accuracy: 0.9409 - val_loss: 0.1395 - val_accuracy: 0.9410\n",
      "Epoch 161/500\n",
      "2/2 [==============================] - 0s 78ms/step - loss: 0.1704 - accuracy: 0.9281 - val_loss: 0.1404 - val_accuracy: 0.9330\n",
      "Epoch 162/500\n",
      "2/2 [==============================] - 0s 129ms/step - loss: 0.1616 - accuracy: 0.9349 - val_loss: 0.1358 - val_accuracy: 0.9491\n",
      "Epoch 163/500\n",
      "2/2 [==============================] - 0s 62ms/step - loss: 0.1629 - accuracy: 0.9355 - val_loss: 0.1366 - val_accuracy: 0.9544\n",
      "Epoch 164/500\n",
      "2/2 [==============================] - 0s 64ms/step - loss: 0.1624 - accuracy: 0.9349 - val_loss: 0.1351 - val_accuracy: 0.9491\n",
      "Epoch 165/500\n",
      "2/2 [==============================] - 0s 62ms/step - loss: 0.1649 - accuracy: 0.9355 - val_loss: 0.1383 - val_accuracy: 0.9437\n",
      "Epoch 166/500\n",
      "2/2 [==============================] - 0s 63ms/step - loss: 0.1671 - accuracy: 0.9396 - val_loss: 0.1396 - val_accuracy: 0.9330\n",
      "Epoch 167/500\n",
      "2/2 [==============================] - 0s 62ms/step - loss: 0.1657 - accuracy: 0.9322 - val_loss: 0.1427 - val_accuracy: 0.9330\n",
      "Epoch 168/500\n",
      "2/2 [==============================] - 0s 78ms/step - loss: 0.1690 - accuracy: 0.9288 - val_loss: 0.1383 - val_accuracy: 0.9330\n",
      "Epoch 169/500\n",
      "2/2 [==============================] - 0s 78ms/step - loss: 0.1548 - accuracy: 0.9396 - val_loss: 0.1336 - val_accuracy: 0.9437\n",
      "Epoch 170/500\n",
      "2/2 [==============================] - 0s 62ms/step - loss: 0.1555 - accuracy: 0.9355 - val_loss: 0.1332 - val_accuracy: 0.9517\n",
      "Epoch 171/500\n",
      "2/2 [==============================] - 0s 89ms/step - loss: 0.1655 - accuracy: 0.9281 - val_loss: 0.1320 - val_accuracy: 0.9464\n",
      "Epoch 172/500\n",
      "2/2 [==============================] - 0s 78ms/step - loss: 0.1666 - accuracy: 0.9369 - val_loss: 0.1446 - val_accuracy: 0.9303\n",
      "Epoch 173/500\n",
      "2/2 [==============================] - 0s 62ms/step - loss: 0.1803 - accuracy: 0.9228 - val_loss: 0.1334 - val_accuracy: 0.9383\n",
      "Epoch 174/500\n",
      "2/2 [==============================] - 0s 78ms/step - loss: 0.1520 - accuracy: 0.9389 - val_loss: 0.1359 - val_accuracy: 0.9491\n",
      "Epoch 175/500\n",
      "2/2 [==============================] - 0s 78ms/step - loss: 0.1658 - accuracy: 0.9362 - val_loss: 0.1300 - val_accuracy: 0.9598\n",
      "Epoch 176/500\n",
      "2/2 [==============================] - 0s 78ms/step - loss: 0.1547 - accuracy: 0.9315 - val_loss: 0.1357 - val_accuracy: 0.9357\n",
      "Epoch 177/500\n",
      "2/2 [==============================] - 0s 63ms/step - loss: 0.1538 - accuracy: 0.9342 - val_loss: 0.1309 - val_accuracy: 0.9464\n",
      "Epoch 178/500\n",
      "2/2 [==============================] - 0s 62ms/step - loss: 0.1487 - accuracy: 0.9396 - val_loss: 0.1302 - val_accuracy: 0.9571\n",
      "Epoch 179/500\n",
      "2/2 [==============================] - 0s 63ms/step - loss: 0.1563 - accuracy: 0.9375 - val_loss: 0.1302 - val_accuracy: 0.9464\n",
      "Epoch 180/500\n",
      "2/2 [==============================] - 0s 86ms/step - loss: 0.1527 - accuracy: 0.9429 - val_loss: 0.1306 - val_accuracy: 0.9437\n",
      "Epoch 181/500\n",
      "2/2 [==============================] - 0s 78ms/step - loss: 0.1511 - accuracy: 0.9389 - val_loss: 0.1296 - val_accuracy: 0.9410\n",
      "Epoch 182/500\n",
      "2/2 [==============================] - 0s 62ms/step - loss: 0.1450 - accuracy: 0.9409 - val_loss: 0.1310 - val_accuracy: 0.9383\n",
      "Epoch 183/500\n",
      "2/2 [==============================] - 0s 63ms/step - loss: 0.1557 - accuracy: 0.9349 - val_loss: 0.1317 - val_accuracy: 0.9464\n",
      "Epoch 184/500\n",
      "2/2 [==============================] - 0s 63ms/step - loss: 0.1562 - accuracy: 0.9328 - val_loss: 0.1266 - val_accuracy: 0.9544\n",
      "Epoch 185/500\n",
      "2/2 [==============================] - 0s 47ms/step - loss: 0.1474 - accuracy: 0.9449 - val_loss: 0.1260 - val_accuracy: 0.9544\n",
      "Epoch 186/500\n",
      "2/2 [==============================] - 0s 78ms/step - loss: 0.1495 - accuracy: 0.9369 - val_loss: 0.1267 - val_accuracy: 0.9517\n",
      "Epoch 187/500\n",
      "2/2 [==============================] - 0s 63ms/step - loss: 0.1458 - accuracy: 0.9396 - val_loss: 0.1269 - val_accuracy: 0.9517\n",
      "Epoch 188/500\n",
      "2/2 [==============================] - 0s 78ms/step - loss: 0.1439 - accuracy: 0.9483 - val_loss: 0.1293 - val_accuracy: 0.9464\n",
      "Epoch 189/500\n",
      "2/2 [==============================] - 0s 70ms/step - loss: 0.1430 - accuracy: 0.9436 - val_loss: 0.1260 - val_accuracy: 0.9517\n",
      "Epoch 190/500\n",
      "2/2 [==============================] - 0s 47ms/step - loss: 0.1507 - accuracy: 0.9369 - val_loss: 0.1220 - val_accuracy: 0.9598\n",
      "Epoch 191/500\n",
      "2/2 [==============================] - 0s 62ms/step - loss: 0.1448 - accuracy: 0.9429 - val_loss: 0.1225 - val_accuracy: 0.9544\n",
      "Epoch 192/500\n",
      "2/2 [==============================] - 0s 63ms/step - loss: 0.1480 - accuracy: 0.9409 - val_loss: 0.1240 - val_accuracy: 0.9464\n",
      "Epoch 193/500\n",
      "2/2 [==============================] - 0s 47ms/step - loss: 0.1410 - accuracy: 0.9449 - val_loss: 0.1236 - val_accuracy: 0.9491\n",
      "Epoch 194/500\n",
      "2/2 [==============================] - 0s 53ms/step - loss: 0.1388 - accuracy: 0.9483 - val_loss: 0.1240 - val_accuracy: 0.9437\n",
      "Epoch 195/500\n",
      "2/2 [==============================] - 0s 63ms/step - loss: 0.1404 - accuracy: 0.9429 - val_loss: 0.1252 - val_accuracy: 0.9464\n",
      "Epoch 196/500\n",
      "2/2 [==============================] - 0s 62ms/step - loss: 0.1390 - accuracy: 0.9463 - val_loss: 0.1281 - val_accuracy: 0.9544\n",
      "Epoch 197/500\n",
      "2/2 [==============================] - 0s 47ms/step - loss: 0.1524 - accuracy: 0.9369 - val_loss: 0.1289 - val_accuracy: 0.9464\n",
      "Epoch 198/500\n",
      "2/2 [==============================] - 0s 94ms/step - loss: 0.1399 - accuracy: 0.9476 - val_loss: 0.1265 - val_accuracy: 0.9517\n",
      "Epoch 199/500\n",
      "2/2 [==============================] - 0s 66ms/step - loss: 0.1421 - accuracy: 0.9389 - val_loss: 0.1228 - val_accuracy: 0.9598\n",
      "Epoch 200/500\n",
      "2/2 [==============================] - 0s 62ms/step - loss: 0.1340 - accuracy: 0.9456 - val_loss: 0.1212 - val_accuracy: 0.9491\n",
      "Epoch 201/500\n",
      "2/2 [==============================] - 0s 62ms/step - loss: 0.1380 - accuracy: 0.9449 - val_loss: 0.1213 - val_accuracy: 0.9517\n",
      "Epoch 202/500\n",
      "2/2 [==============================] - 0s 62ms/step - loss: 0.1360 - accuracy: 0.9456 - val_loss: 0.1216 - val_accuracy: 0.9571\n",
      "Epoch 203/500\n",
      "2/2 [==============================] - 0s 78ms/step - loss: 0.1326 - accuracy: 0.9496 - val_loss: 0.1241 - val_accuracy: 0.9464\n",
      "Epoch 204/500\n",
      "2/2 [==============================] - 0s 62ms/step - loss: 0.1315 - accuracy: 0.9463 - val_loss: 0.1235 - val_accuracy: 0.9625\n",
      "Epoch 205/500\n",
      "2/2 [==============================] - 0s 94ms/step - loss: 0.1358 - accuracy: 0.9416 - val_loss: 0.1250 - val_accuracy: 0.9517\n",
      "Epoch 206/500\n",
      "2/2 [==============================] - 0s 62ms/step - loss: 0.1393 - accuracy: 0.9449 - val_loss: 0.1219 - val_accuracy: 0.9571\n",
      "Epoch 207/500\n",
      "2/2 [==============================] - 0s 62ms/step - loss: 0.1367 - accuracy: 0.9463 - val_loss: 0.1233 - val_accuracy: 0.9464\n",
      "Epoch 208/500\n",
      "2/2 [==============================] - 0s 96ms/step - loss: 0.1439 - accuracy: 0.9389 - val_loss: 0.1200 - val_accuracy: 0.9544\n",
      "Epoch 209/500\n",
      "2/2 [==============================] - 0s 63ms/step - loss: 0.1401 - accuracy: 0.9389 - val_loss: 0.1228 - val_accuracy: 0.9544\n",
      "Epoch 210/500\n",
      "2/2 [==============================] - 0s 47ms/step - loss: 0.1328 - accuracy: 0.9523 - val_loss: 0.1229 - val_accuracy: 0.9571\n",
      "Epoch 211/500\n",
      "2/2 [==============================] - 0s 63ms/step - loss: 0.1341 - accuracy: 0.9530 - val_loss: 0.1262 - val_accuracy: 0.9598\n",
      "Epoch 212/500\n",
      "2/2 [==============================] - 0s 47ms/step - loss: 0.1271 - accuracy: 0.9496 - val_loss: 0.1208 - val_accuracy: 0.9598\n",
      "Epoch 213/500\n",
      "2/2 [==============================] - 0s 70ms/step - loss: 0.1282 - accuracy: 0.9577 - val_loss: 0.1190 - val_accuracy: 0.9571\n",
      "Epoch 214/500\n",
      "2/2 [==============================] - 0s 78ms/step - loss: 0.1304 - accuracy: 0.9490 - val_loss: 0.1178 - val_accuracy: 0.9598\n",
      "Epoch 215/500\n",
      "2/2 [==============================] - 0s 62ms/step - loss: 0.1269 - accuracy: 0.9503 - val_loss: 0.1195 - val_accuracy: 0.9598\n",
      "Epoch 216/500\n",
      "2/2 [==============================] - 0s 78ms/step - loss: 0.1375 - accuracy: 0.9436 - val_loss: 0.1174 - val_accuracy: 0.9544\n",
      "Epoch 217/500\n",
      "2/2 [==============================] - 0s 47ms/step - loss: 0.1295 - accuracy: 0.9449 - val_loss: 0.1149 - val_accuracy: 0.9598\n",
      "Epoch 218/500\n",
      "2/2 [==============================] - 0s 65ms/step - loss: 0.1324 - accuracy: 0.9483 - val_loss: 0.1170 - val_accuracy: 0.9571\n",
      "Epoch 219/500\n",
      "2/2 [==============================] - 0s 63ms/step - loss: 0.1273 - accuracy: 0.9443 - val_loss: 0.1219 - val_accuracy: 0.9571\n",
      "Epoch 220/500\n",
      "2/2 [==============================] - 0s 62ms/step - loss: 0.1258 - accuracy: 0.9543 - val_loss: 0.1262 - val_accuracy: 0.9491\n",
      "Epoch 221/500\n",
      "2/2 [==============================] - 0s 78ms/step - loss: 0.1298 - accuracy: 0.9543 - val_loss: 0.1219 - val_accuracy: 0.9598\n",
      "Epoch 222/500\n",
      "2/2 [==============================] - 0s 63ms/step - loss: 0.1333 - accuracy: 0.9409 - val_loss: 0.1158 - val_accuracy: 0.9678\n",
      "Epoch 223/500\n",
      "2/2 [==============================] - 0s 47ms/step - loss: 0.1344 - accuracy: 0.9416 - val_loss: 0.1148 - val_accuracy: 0.9544\n",
      "Epoch 224/500\n",
      "2/2 [==============================] - 0s 47ms/step - loss: 0.1438 - accuracy: 0.9402 - val_loss: 0.1180 - val_accuracy: 0.9517\n",
      "Epoch 225/500\n",
      "2/2 [==============================] - 0s 47ms/step - loss: 0.1227 - accuracy: 0.9523 - val_loss: 0.1230 - val_accuracy: 0.9544\n",
      "Epoch 226/500\n",
      "2/2 [==============================] - 0s 63ms/step - loss: 0.1250 - accuracy: 0.9516 - val_loss: 0.1231 - val_accuracy: 0.9517\n",
      "Epoch 227/500\n",
      "2/2 [==============================] - 0s 110ms/step - loss: 0.1277 - accuracy: 0.9463 - val_loss: 0.1164 - val_accuracy: 0.9544\n",
      "Epoch 228/500\n",
      "2/2 [==============================] - 0s 78ms/step - loss: 0.1152 - accuracy: 0.9530 - val_loss: 0.1107 - val_accuracy: 0.9598\n",
      "Epoch 229/500\n",
      "2/2 [==============================] - 0s 78ms/step - loss: 0.1290 - accuracy: 0.9483 - val_loss: 0.1114 - val_accuracy: 0.9544\n",
      "Epoch 230/500\n",
      "2/2 [==============================] - 0s 62ms/step - loss: 0.1274 - accuracy: 0.9490 - val_loss: 0.1173 - val_accuracy: 0.9464\n",
      "Epoch 231/500\n",
      "2/2 [==============================] - 0s 78ms/step - loss: 0.1308 - accuracy: 0.9503 - val_loss: 0.1210 - val_accuracy: 0.9544\n",
      "Epoch 232/500\n",
      "2/2 [==============================] - 0s 78ms/step - loss: 0.1313 - accuracy: 0.9402 - val_loss: 0.1225 - val_accuracy: 0.9517\n",
      "Epoch 233/500\n",
      "2/2 [==============================] - 0s 62ms/step - loss: 0.1295 - accuracy: 0.9449 - val_loss: 0.1150 - val_accuracy: 0.9544\n",
      "Epoch 234/500\n",
      "2/2 [==============================] - 0s 47ms/step - loss: 0.1279 - accuracy: 0.9537 - val_loss: 0.1160 - val_accuracy: 0.9544\n",
      "Epoch 235/500\n",
      "2/2 [==============================] - 0s 63ms/step - loss: 0.1306 - accuracy: 0.9490 - val_loss: 0.1135 - val_accuracy: 0.9625\n",
      "Epoch 236/500\n",
      "2/2 [==============================] - 0s 69ms/step - loss: 0.1183 - accuracy: 0.9604 - val_loss: 0.1184 - val_accuracy: 0.9544\n",
      "Epoch 237/500\n",
      "2/2 [==============================] - 0s 63ms/step - loss: 0.1185 - accuracy: 0.9557 - val_loss: 0.1287 - val_accuracy: 0.9410\n",
      "Epoch 238/500\n",
      "2/2 [==============================] - 0s 63ms/step - loss: 0.1262 - accuracy: 0.9463 - val_loss: 0.1188 - val_accuracy: 0.9517\n",
      "Epoch 239/500\n",
      "2/2 [==============================] - 0s 63ms/step - loss: 0.1311 - accuracy: 0.9483 - val_loss: 0.1145 - val_accuracy: 0.9598\n",
      "Epoch 240/500\n",
      "2/2 [==============================] - 0s 62ms/step - loss: 0.1199 - accuracy: 0.9469 - val_loss: 0.1143 - val_accuracy: 0.9625\n",
      "Epoch 241/500\n",
      "2/2 [==============================] - 0s 57ms/step - loss: 0.1154 - accuracy: 0.9543 - val_loss: 0.1241 - val_accuracy: 0.9544\n",
      "Epoch 242/500\n",
      "2/2 [==============================] - 0s 47ms/step - loss: 0.1184 - accuracy: 0.9590 - val_loss: 0.1370 - val_accuracy: 0.9571\n",
      "Epoch 243/500\n",
      "2/2 [==============================] - 0s 63ms/step - loss: 0.1260 - accuracy: 0.9557 - val_loss: 0.1310 - val_accuracy: 0.9544\n",
      "Epoch 244/500\n",
      "2/2 [==============================] - 0s 47ms/step - loss: 0.1170 - accuracy: 0.9557 - val_loss: 0.1241 - val_accuracy: 0.9491\n",
      "Epoch 245/500\n",
      "2/2 [==============================] - 0s 63ms/step - loss: 0.1291 - accuracy: 0.9469 - val_loss: 0.1153 - val_accuracy: 0.9491\n",
      "Epoch 246/500\n",
      "2/2 [==============================] - 0s 63ms/step - loss: 0.1281 - accuracy: 0.9483 - val_loss: 0.1163 - val_accuracy: 0.9598\n",
      "Epoch 247/500\n",
      "2/2 [==============================] - 0s 59ms/step - loss: 0.1133 - accuracy: 0.9550 - val_loss: 0.1146 - val_accuracy: 0.9625\n",
      "Epoch 248/500\n",
      "2/2 [==============================] - 0s 47ms/step - loss: 0.1195 - accuracy: 0.9523 - val_loss: 0.1148 - val_accuracy: 0.9517\n",
      "Epoch 249/500\n",
      "2/2 [==============================] - 0s 47ms/step - loss: 0.1046 - accuracy: 0.9617 - val_loss: 0.1096 - val_accuracy: 0.9598\n",
      "Epoch 250/500\n",
      "2/2 [==============================] - 0s 47ms/step - loss: 0.1171 - accuracy: 0.9516 - val_loss: 0.1099 - val_accuracy: 0.9544\n",
      "Epoch 251/500\n",
      "2/2 [==============================] - 0s 47ms/step - loss: 0.1246 - accuracy: 0.9490 - val_loss: 0.1102 - val_accuracy: 0.9571\n",
      "Epoch 252/500\n",
      "2/2 [==============================] - 0s 62ms/step - loss: 0.1086 - accuracy: 0.9617 - val_loss: 0.1164 - val_accuracy: 0.9571\n",
      "Epoch 253/500\n",
      "2/2 [==============================] - 0s 47ms/step - loss: 0.1152 - accuracy: 0.9577 - val_loss: 0.1097 - val_accuracy: 0.9625\n",
      "Epoch 254/500\n",
      "2/2 [==============================] - 0s 62ms/step - loss: 0.1112 - accuracy: 0.9597 - val_loss: 0.1048 - val_accuracy: 0.9705\n",
      "Epoch 255/500\n",
      "2/2 [==============================] - 0s 62ms/step - loss: 0.1145 - accuracy: 0.9510 - val_loss: 0.1055 - val_accuracy: 0.9571\n",
      "Epoch 256/500\n",
      "2/2 [==============================] - 0s 47ms/step - loss: 0.1188 - accuracy: 0.9537 - val_loss: 0.1113 - val_accuracy: 0.9544\n",
      "Epoch 257/500\n",
      "2/2 [==============================] - 0s 69ms/step - loss: 0.1107 - accuracy: 0.9597 - val_loss: 0.1135 - val_accuracy: 0.9544\n",
      "Epoch 258/500\n",
      "2/2 [==============================] - 0s 47ms/step - loss: 0.1239 - accuracy: 0.9516 - val_loss: 0.1102 - val_accuracy: 0.9625\n",
      "Epoch 259/500\n",
      "2/2 [==============================] - 0s 47ms/step - loss: 0.1072 - accuracy: 0.9624 - val_loss: 0.1087 - val_accuracy: 0.9571\n",
      "Epoch 260/500\n",
      "2/2 [==============================] - 0s 62ms/step - loss: 0.1127 - accuracy: 0.9543 - val_loss: 0.1057 - val_accuracy: 0.9598\n",
      "Epoch 261/500\n",
      "2/2 [==============================] - 0s 78ms/step - loss: 0.1174 - accuracy: 0.9577 - val_loss: 0.1030 - val_accuracy: 0.9598\n",
      "Epoch 262/500\n",
      "2/2 [==============================] - 0s 51ms/step - loss: 0.1018 - accuracy: 0.9590 - val_loss: 0.1054 - val_accuracy: 0.9598\n",
      "Epoch 263/500\n",
      "2/2 [==============================] - 0s 62ms/step - loss: 0.1122 - accuracy: 0.9577 - val_loss: 0.1080 - val_accuracy: 0.9598\n",
      "Epoch 264/500\n",
      "2/2 [==============================] - 0s 62ms/step - loss: 0.0944 - accuracy: 0.9691 - val_loss: 0.1084 - val_accuracy: 0.9598\n",
      "Epoch 265/500\n",
      "2/2 [==============================] - 0s 62ms/step - loss: 0.0999 - accuracy: 0.9590 - val_loss: 0.1125 - val_accuracy: 0.9598\n",
      "Epoch 266/500\n",
      "2/2 [==============================] - 0s 94ms/step - loss: 0.1128 - accuracy: 0.9563 - val_loss: 0.1119 - val_accuracy: 0.9571\n",
      "Epoch 267/500\n",
      "2/2 [==============================] - 0s 47ms/step - loss: 0.1017 - accuracy: 0.9590 - val_loss: 0.1080 - val_accuracy: 0.9625\n",
      "Epoch 268/500\n",
      "2/2 [==============================] - 0s 109ms/step - loss: 0.1084 - accuracy: 0.9476 - val_loss: 0.1037 - val_accuracy: 0.9598\n",
      "Epoch 269/500\n",
      "2/2 [==============================] - 0s 63ms/step - loss: 0.1138 - accuracy: 0.9530 - val_loss: 0.1098 - val_accuracy: 0.9678\n",
      "Epoch 270/500\n",
      "2/2 [==============================] - 0s 63ms/step - loss: 0.1044 - accuracy: 0.9590 - val_loss: 0.1022 - val_accuracy: 0.9571\n",
      "Epoch 271/500\n",
      "2/2 [==============================] - 0s 63ms/step - loss: 0.1028 - accuracy: 0.9610 - val_loss: 0.1092 - val_accuracy: 0.9491\n",
      "Epoch 272/500\n",
      "2/2 [==============================] - 0s 47ms/step - loss: 0.1142 - accuracy: 0.9550 - val_loss: 0.1076 - val_accuracy: 0.9517\n",
      "Epoch 273/500\n",
      "2/2 [==============================] - 0s 47ms/step - loss: 0.1167 - accuracy: 0.9516 - val_loss: 0.1121 - val_accuracy: 0.9625\n",
      "Epoch 274/500\n",
      "2/2 [==============================] - 0s 63ms/step - loss: 0.1080 - accuracy: 0.9577 - val_loss: 0.1128 - val_accuracy: 0.9517\n",
      "Epoch 275/500\n",
      "2/2 [==============================] - 0s 62ms/step - loss: 0.0974 - accuracy: 0.9664 - val_loss: 0.1100 - val_accuracy: 0.9517\n",
      "Epoch 276/500\n",
      "2/2 [==============================] - 0s 63ms/step - loss: 0.0957 - accuracy: 0.9617 - val_loss: 0.1140 - val_accuracy: 0.9598\n",
      "Epoch 277/500\n",
      "2/2 [==============================] - 0s 58ms/step - loss: 0.1051 - accuracy: 0.9577 - val_loss: 0.1129 - val_accuracy: 0.9571\n",
      "Epoch 278/500\n",
      "2/2 [==============================] - 0s 62ms/step - loss: 0.1027 - accuracy: 0.9570 - val_loss: 0.1078 - val_accuracy: 0.9571\n",
      "Epoch 279/500\n",
      "2/2 [==============================] - 0s 47ms/step - loss: 0.1100 - accuracy: 0.9570 - val_loss: 0.1049 - val_accuracy: 0.9544\n",
      "Epoch 280/500\n",
      "2/2 [==============================] - 0s 62ms/step - loss: 0.1019 - accuracy: 0.9604 - val_loss: 0.1111 - val_accuracy: 0.9571\n",
      "Epoch 281/500\n",
      "2/2 [==============================] - 0s 63ms/step - loss: 0.0995 - accuracy: 0.9624 - val_loss: 0.1126 - val_accuracy: 0.9517\n",
      "Epoch 282/500\n",
      "2/2 [==============================] - 0s 66ms/step - loss: 0.1020 - accuracy: 0.9644 - val_loss: 0.1067 - val_accuracy: 0.9571\n",
      "Epoch 283/500\n",
      "2/2 [==============================] - 0s 78ms/step - loss: 0.0968 - accuracy: 0.9657 - val_loss: 0.1010 - val_accuracy: 0.9625\n",
      "Epoch 284/500\n",
      "2/2 [==============================] - 0s 78ms/step - loss: 0.1083 - accuracy: 0.9570 - val_loss: 0.1012 - val_accuracy: 0.9625\n",
      "Epoch 285/500\n",
      "2/2 [==============================] - 0s 78ms/step - loss: 0.0884 - accuracy: 0.9657 - val_loss: 0.1032 - val_accuracy: 0.9517\n",
      "Epoch 286/500\n",
      "2/2 [==============================] - 0s 94ms/step - loss: 0.0909 - accuracy: 0.9684 - val_loss: 0.1042 - val_accuracy: 0.9491\n",
      "Epoch 287/500\n",
      "2/2 [==============================] - 0s 63ms/step - loss: 0.1011 - accuracy: 0.9584 - val_loss: 0.1071 - val_accuracy: 0.9544\n",
      "Epoch 288/500\n",
      "2/2 [==============================] - 0s 63ms/step - loss: 0.0959 - accuracy: 0.9604 - val_loss: 0.1133 - val_accuracy: 0.9571\n",
      "Epoch 289/500\n",
      "2/2 [==============================] - 0s 47ms/step - loss: 0.0974 - accuracy: 0.9597 - val_loss: 0.1192 - val_accuracy: 0.9437\n",
      "Epoch 290/500\n",
      "2/2 [==============================] - 0s 47ms/step - loss: 0.0977 - accuracy: 0.9664 - val_loss: 0.1169 - val_accuracy: 0.9517\n",
      "Epoch 291/500\n",
      "2/2 [==============================] - 0s 83ms/step - loss: 0.1011 - accuracy: 0.9557 - val_loss: 0.1095 - val_accuracy: 0.9571\n",
      "Epoch 292/500\n",
      "2/2 [==============================] - 0s 94ms/step - loss: 0.1010 - accuracy: 0.9637 - val_loss: 0.1089 - val_accuracy: 0.9598\n",
      "Epoch 293/500\n",
      "2/2 [==============================] - 0s 47ms/step - loss: 0.0970 - accuracy: 0.9637 - val_loss: 0.1117 - val_accuracy: 0.9598\n",
      "Epoch 294/500\n",
      "2/2 [==============================] - 0s 78ms/step - loss: 0.1010 - accuracy: 0.9610 - val_loss: 0.1173 - val_accuracy: 0.9544\n",
      "Epoch 295/500\n",
      "2/2 [==============================] - 0s 47ms/step - loss: 0.0955 - accuracy: 0.9597 - val_loss: 0.1211 - val_accuracy: 0.9517\n",
      "Epoch 296/500\n",
      "2/2 [==============================] - 0s 54ms/step - loss: 0.0959 - accuracy: 0.9617 - val_loss: 0.1214 - val_accuracy: 0.9517\n",
      "Epoch 297/500\n",
      "2/2 [==============================] - 0s 47ms/step - loss: 0.0952 - accuracy: 0.9631 - val_loss: 0.1160 - val_accuracy: 0.9571\n",
      "Epoch 298/500\n",
      "2/2 [==============================] - 0s 47ms/step - loss: 0.0907 - accuracy: 0.9617 - val_loss: 0.1109 - val_accuracy: 0.9598\n",
      "Epoch 299/500\n",
      "2/2 [==============================] - 0s 63ms/step - loss: 0.1050 - accuracy: 0.9590 - val_loss: 0.1090 - val_accuracy: 0.9678\n",
      "Epoch 300/500\n",
      "2/2 [==============================] - 0s 94ms/step - loss: 0.0899 - accuracy: 0.9664 - val_loss: 0.1040 - val_accuracy: 0.9678\n",
      "Epoch 301/500\n",
      "2/2 [==============================] - 0s 84ms/step - loss: 0.0990 - accuracy: 0.9604 - val_loss: 0.1047 - val_accuracy: 0.9544\n",
      "Epoch 302/500\n",
      "2/2 [==============================] - 0s 78ms/step - loss: 0.0911 - accuracy: 0.9671 - val_loss: 0.1114 - val_accuracy: 0.9491\n",
      "Epoch 303/500\n",
      "2/2 [==============================] - 0s 94ms/step - loss: 0.0903 - accuracy: 0.9671 - val_loss: 0.1136 - val_accuracy: 0.9571\n",
      "Epoch 304/500\n",
      "2/2 [==============================] - 0s 78ms/step - loss: 0.0836 - accuracy: 0.9725 - val_loss: 0.1071 - val_accuracy: 0.9571\n",
      "Epoch 305/500\n",
      "2/2 [==============================] - 0s 94ms/step - loss: 0.0895 - accuracy: 0.9725 - val_loss: 0.1025 - val_accuracy: 0.9544\n",
      "Epoch 306/500\n",
      "2/2 [==============================] - 0s 63ms/step - loss: 0.0931 - accuracy: 0.9651 - val_loss: 0.0989 - val_accuracy: 0.9544\n",
      "Epoch 307/500\n",
      "2/2 [==============================] - 0s 79ms/step - loss: 0.0901 - accuracy: 0.9657 - val_loss: 0.1061 - val_accuracy: 0.9571\n",
      "Epoch 308/500\n",
      "2/2 [==============================] - 0s 78ms/step - loss: 0.0989 - accuracy: 0.9597 - val_loss: 0.1136 - val_accuracy: 0.9517\n",
      "Epoch 309/500\n",
      "2/2 [==============================] - 0s 94ms/step - loss: 0.0984 - accuracy: 0.9584 - val_loss: 0.1185 - val_accuracy: 0.9464\n",
      "Epoch 310/500\n",
      "2/2 [==============================] - 0s 62ms/step - loss: 0.0921 - accuracy: 0.9691 - val_loss: 0.1056 - val_accuracy: 0.9678\n",
      "Epoch 311/500\n",
      "2/2 [==============================] - 0s 63ms/step - loss: 0.0887 - accuracy: 0.9671 - val_loss: 0.1136 - val_accuracy: 0.9651\n",
      "Epoch 312/500\n",
      "2/2 [==============================] - 0s 47ms/step - loss: 0.0905 - accuracy: 0.9651 - val_loss: 0.1103 - val_accuracy: 0.9571\n",
      "Epoch 313/500\n",
      "2/2 [==============================] - 0s 63ms/step - loss: 0.0913 - accuracy: 0.9644 - val_loss: 0.1236 - val_accuracy: 0.9464\n",
      "Epoch 314/500\n",
      "2/2 [==============================] - 0s 63ms/step - loss: 0.1009 - accuracy: 0.9604 - val_loss: 0.1175 - val_accuracy: 0.9464\n",
      "Epoch 315/500\n",
      "2/2 [==============================] - 0s 63ms/step - loss: 0.0858 - accuracy: 0.9718 - val_loss: 0.1041 - val_accuracy: 0.9544\n",
      "Epoch 316/500\n",
      "2/2 [==============================] - 0s 62ms/step - loss: 0.0897 - accuracy: 0.9651 - val_loss: 0.1012 - val_accuracy: 0.9651\n",
      "Epoch 317/500\n",
      "2/2 [==============================] - 0s 50ms/step - loss: 0.1020 - accuracy: 0.9563 - val_loss: 0.1019 - val_accuracy: 0.9678\n",
      "Epoch 318/500\n",
      "2/2 [==============================] - 0s 47ms/step - loss: 0.0889 - accuracy: 0.9644 - val_loss: 0.1176 - val_accuracy: 0.9491\n",
      "Epoch 319/500\n",
      "2/2 [==============================] - 0s 47ms/step - loss: 0.0995 - accuracy: 0.9651 - val_loss: 0.1253 - val_accuracy: 0.9571\n",
      "Epoch 320/500\n",
      "2/2 [==============================] - 0s 96ms/step - loss: 0.0951 - accuracy: 0.9624 - val_loss: 0.1148 - val_accuracy: 0.9544\n",
      "Epoch 321/500\n",
      "2/2 [==============================] - 0s 62ms/step - loss: 0.0987 - accuracy: 0.9557 - val_loss: 0.1089 - val_accuracy: 0.9544\n",
      "Epoch 322/500\n",
      "2/2 [==============================] - 0s 66ms/step - loss: 0.0945 - accuracy: 0.9617 - val_loss: 0.1071 - val_accuracy: 0.9544\n",
      "Epoch 323/500\n",
      "2/2 [==============================] - 0s 62ms/step - loss: 0.0961 - accuracy: 0.9664 - val_loss: 0.1157 - val_accuracy: 0.9625\n",
      "Epoch 324/500\n",
      "2/2 [==============================] - 0s 47ms/step - loss: 0.0906 - accuracy: 0.9684 - val_loss: 0.1321 - val_accuracy: 0.9598\n",
      "Epoch 325/500\n",
      "2/2 [==============================] - 0s 63ms/step - loss: 0.0985 - accuracy: 0.9577 - val_loss: 0.1262 - val_accuracy: 0.9517\n",
      "Epoch 326/500\n",
      "2/2 [==============================] - 0s 63ms/step - loss: 0.0906 - accuracy: 0.9691 - val_loss: 0.1080 - val_accuracy: 0.9544\n",
      "Epoch 327/500\n",
      "2/2 [==============================] - 0s 67ms/step - loss: 0.0955 - accuracy: 0.9604 - val_loss: 0.1026 - val_accuracy: 0.9517\n",
      "Epoch 328/500\n",
      "2/2 [==============================] - 0s 47ms/step - loss: 0.0971 - accuracy: 0.9631 - val_loss: 0.1104 - val_accuracy: 0.9544\n",
      "Epoch 329/500\n",
      "2/2 [==============================] - 0s 47ms/step - loss: 0.0844 - accuracy: 0.9691 - val_loss: 0.1228 - val_accuracy: 0.9571\n",
      "Epoch 330/500\n",
      "2/2 [==============================] - 0s 110ms/step - loss: 0.1001 - accuracy: 0.9610 - val_loss: 0.1147 - val_accuracy: 0.9544\n",
      "Epoch 331/500\n",
      "2/2 [==============================] - 0s 111ms/step - loss: 0.0816 - accuracy: 0.9704 - val_loss: 0.1033 - val_accuracy: 0.9571\n",
      "Epoch 332/500\n",
      "2/2 [==============================] - 0s 47ms/step - loss: 0.0934 - accuracy: 0.9604 - val_loss: 0.1001 - val_accuracy: 0.9598\n",
      "Epoch 333/500\n",
      "2/2 [==============================] - 0s 47ms/step - loss: 0.0895 - accuracy: 0.9664 - val_loss: 0.1071 - val_accuracy: 0.9598\n",
      "Epoch 334/500\n",
      "2/2 [==============================] - 0s 47ms/step - loss: 0.0943 - accuracy: 0.9610 - val_loss: 0.1235 - val_accuracy: 0.9544\n",
      "Epoch 335/500\n",
      "2/2 [==============================] - 0s 47ms/step - loss: 0.0918 - accuracy: 0.9644 - val_loss: 0.1208 - val_accuracy: 0.9544\n",
      "Epoch 336/500\n",
      "2/2 [==============================] - 0s 47ms/step - loss: 0.0818 - accuracy: 0.9718 - val_loss: 0.0984 - val_accuracy: 0.9598\n",
      "Epoch 337/500\n",
      "2/2 [==============================] - 0s 62ms/step - loss: 0.0920 - accuracy: 0.9637 - val_loss: 0.1035 - val_accuracy: 0.9598\n",
      "Epoch 338/500\n",
      "2/2 [==============================] - 0s 63ms/step - loss: 0.0973 - accuracy: 0.9617 - val_loss: 0.1024 - val_accuracy: 0.9678\n",
      "Epoch 339/500\n",
      "2/2 [==============================] - 0s 63ms/step - loss: 0.0878 - accuracy: 0.9671 - val_loss: 0.1103 - val_accuracy: 0.9571\n",
      "Epoch 340/500\n",
      "2/2 [==============================] - 0s 62ms/step - loss: 0.0849 - accuracy: 0.9657 - val_loss: 0.1184 - val_accuracy: 0.9571\n",
      "Epoch 341/500\n",
      "2/2 [==============================] - 0s 63ms/step - loss: 0.0814 - accuracy: 0.9704 - val_loss: 0.1211 - val_accuracy: 0.9517\n",
      "Epoch 342/500\n",
      "2/2 [==============================] - 0s 73ms/step - loss: 0.0820 - accuracy: 0.9698 - val_loss: 0.1142 - val_accuracy: 0.9517\n",
      "Epoch 343/500\n",
      "2/2 [==============================] - 0s 47ms/step - loss: 0.0906 - accuracy: 0.9651 - val_loss: 0.1035 - val_accuracy: 0.9598\n",
      "Epoch 344/500\n",
      "2/2 [==============================] - 0s 47ms/step - loss: 0.0927 - accuracy: 0.9624 - val_loss: 0.1023 - val_accuracy: 0.9625\n",
      "Epoch 345/500\n",
      "2/2 [==============================] - 0s 63ms/step - loss: 0.0889 - accuracy: 0.9718 - val_loss: 0.1046 - val_accuracy: 0.9625\n",
      "Epoch 346/500\n",
      "2/2 [==============================] - 0s 47ms/step - loss: 0.0871 - accuracy: 0.9698 - val_loss: 0.1086 - val_accuracy: 0.9571\n",
      "Epoch 347/500\n",
      "2/2 [==============================] - 0s 62ms/step - loss: 0.0842 - accuracy: 0.9651 - val_loss: 0.1095 - val_accuracy: 0.9544\n",
      "Epoch 348/500\n",
      "2/2 [==============================] - 0s 47ms/step - loss: 0.0762 - accuracy: 0.9684 - val_loss: 0.1076 - val_accuracy: 0.9517\n",
      "Epoch 349/500\n",
      "2/2 [==============================] - 0s 63ms/step - loss: 0.0781 - accuracy: 0.9738 - val_loss: 0.1082 - val_accuracy: 0.9517\n",
      "Epoch 350/500\n",
      "2/2 [==============================] - 0s 62ms/step - loss: 0.0809 - accuracy: 0.9691 - val_loss: 0.1019 - val_accuracy: 0.9571\n",
      "Epoch 351/500\n",
      "2/2 [==============================] - 0s 63ms/step - loss: 0.0848 - accuracy: 0.9684 - val_loss: 0.0994 - val_accuracy: 0.9544\n",
      "Epoch 352/500\n",
      "2/2 [==============================] - 0s 103ms/step - loss: 0.0878 - accuracy: 0.9637 - val_loss: 0.0977 - val_accuracy: 0.9544\n",
      "Epoch 353/500\n",
      "2/2 [==============================] - 0s 47ms/step - loss: 0.0714 - accuracy: 0.9738 - val_loss: 0.1003 - val_accuracy: 0.9598\n",
      "Epoch 354/500\n",
      "2/2 [==============================] - 0s 62ms/step - loss: 0.0832 - accuracy: 0.9684 - val_loss: 0.1036 - val_accuracy: 0.9544\n",
      "Epoch 355/500\n",
      "2/2 [==============================] - 0s 63ms/step - loss: 0.0829 - accuracy: 0.9691 - val_loss: 0.1088 - val_accuracy: 0.9544\n",
      "Epoch 356/500\n",
      "2/2 [==============================] - 0s 63ms/step - loss: 0.0823 - accuracy: 0.9711 - val_loss: 0.1114 - val_accuracy: 0.9517\n",
      "Epoch 357/500\n",
      "2/2 [==============================] - 0s 67ms/step - loss: 0.0742 - accuracy: 0.9745 - val_loss: 0.1063 - val_accuracy: 0.9517\n",
      "Epoch 358/500\n",
      "2/2 [==============================] - 0s 62ms/step - loss: 0.0751 - accuracy: 0.9725 - val_loss: 0.1008 - val_accuracy: 0.9625\n",
      "Epoch 359/500\n",
      "2/2 [==============================] - 0s 63ms/step - loss: 0.0862 - accuracy: 0.9671 - val_loss: 0.0933 - val_accuracy: 0.9651\n",
      "Epoch 360/500\n",
      "2/2 [==============================] - 0s 63ms/step - loss: 0.0730 - accuracy: 0.9758 - val_loss: 0.0977 - val_accuracy: 0.9598\n",
      "Epoch 361/500\n",
      "2/2 [==============================] - 0s 66ms/step - loss: 0.0810 - accuracy: 0.9731 - val_loss: 0.1038 - val_accuracy: 0.9571\n",
      "Epoch 362/500\n",
      "2/2 [==============================] - 0s 47ms/step - loss: 0.0864 - accuracy: 0.9644 - val_loss: 0.1035 - val_accuracy: 0.9517\n",
      "Epoch 363/500\n",
      "2/2 [==============================] - 0s 47ms/step - loss: 0.0713 - accuracy: 0.9725 - val_loss: 0.1102 - val_accuracy: 0.9598\n",
      "Epoch 364/500\n",
      "2/2 [==============================] - 0s 94ms/step - loss: 0.0841 - accuracy: 0.9691 - val_loss: 0.1119 - val_accuracy: 0.9598\n",
      "Epoch 365/500\n",
      "2/2 [==============================] - 0s 62ms/step - loss: 0.0920 - accuracy: 0.9657 - val_loss: 0.1025 - val_accuracy: 0.9544\n",
      "Epoch 366/500\n",
      "2/2 [==============================] - 0s 94ms/step - loss: 0.0782 - accuracy: 0.9725 - val_loss: 0.0986 - val_accuracy: 0.9544\n",
      "Epoch 367/500\n",
      "2/2 [==============================] - 0s 63ms/step - loss: 0.0800 - accuracy: 0.9684 - val_loss: 0.0952 - val_accuracy: 0.9571\n",
      "Epoch 368/500\n",
      "2/2 [==============================] - 0s 94ms/step - loss: 0.0790 - accuracy: 0.9711 - val_loss: 0.0993 - val_accuracy: 0.9625\n",
      "Epoch 369/500\n",
      "2/2 [==============================] - 0s 47ms/step - loss: 0.0814 - accuracy: 0.9691 - val_loss: 0.0974 - val_accuracy: 0.9544\n",
      "Epoch 370/500\n",
      "2/2 [==============================] - 0s 63ms/step - loss: 0.0849 - accuracy: 0.9684 - val_loss: 0.0915 - val_accuracy: 0.9571\n",
      "Epoch 371/500\n",
      "2/2 [==============================] - 0s 104ms/step - loss: 0.0824 - accuracy: 0.9657 - val_loss: 0.0923 - val_accuracy: 0.9625\n",
      "Epoch 372/500\n",
      "2/2 [==============================] - 0s 78ms/step - loss: 0.0750 - accuracy: 0.9725 - val_loss: 0.0972 - val_accuracy: 0.9598\n",
      "Epoch 373/500\n",
      "2/2 [==============================] - 0s 78ms/step - loss: 0.0740 - accuracy: 0.9745 - val_loss: 0.1003 - val_accuracy: 0.9598\n",
      "Epoch 374/500\n",
      "2/2 [==============================] - 0s 78ms/step - loss: 0.0706 - accuracy: 0.9738 - val_loss: 0.1055 - val_accuracy: 0.9544\n",
      "Epoch 375/500\n",
      "2/2 [==============================] - 0s 62ms/step - loss: 0.0657 - accuracy: 0.9765 - val_loss: 0.1016 - val_accuracy: 0.9651\n",
      "Epoch 376/500\n",
      "2/2 [==============================] - 0s 94ms/step - loss: 0.0757 - accuracy: 0.9745 - val_loss: 0.0972 - val_accuracy: 0.9678\n",
      "Epoch 377/500\n",
      "2/2 [==============================] - 0s 47ms/step - loss: 0.0745 - accuracy: 0.9684 - val_loss: 0.0957 - val_accuracy: 0.9625\n",
      "Epoch 378/500\n",
      "2/2 [==============================] - 0s 47ms/step - loss: 0.0756 - accuracy: 0.9711 - val_loss: 0.0976 - val_accuracy: 0.9571\n",
      "Epoch 379/500\n",
      "2/2 [==============================] - 0s 62ms/step - loss: 0.0649 - accuracy: 0.9805 - val_loss: 0.0971 - val_accuracy: 0.9625\n",
      "Epoch 380/500\n",
      "2/2 [==============================] - 0s 68ms/step - loss: 0.0757 - accuracy: 0.9731 - val_loss: 0.1011 - val_accuracy: 0.9571\n",
      "Epoch 381/500\n",
      "2/2 [==============================] - 0s 63ms/step - loss: 0.0752 - accuracy: 0.9704 - val_loss: 0.1038 - val_accuracy: 0.9598\n",
      "Epoch 382/500\n",
      "2/2 [==============================] - 0s 62ms/step - loss: 0.0789 - accuracy: 0.9718 - val_loss: 0.1040 - val_accuracy: 0.9598\n",
      "Epoch 383/500\n",
      "2/2 [==============================] - 0s 62ms/step - loss: 0.0725 - accuracy: 0.9738 - val_loss: 0.1003 - val_accuracy: 0.9598\n",
      "Epoch 384/500\n",
      "2/2 [==============================] - 0s 78ms/step - loss: 0.0765 - accuracy: 0.9698 - val_loss: 0.1004 - val_accuracy: 0.9598\n",
      "Epoch 385/500\n",
      "2/2 [==============================] - 0s 51ms/step - loss: 0.0730 - accuracy: 0.9752 - val_loss: 0.0991 - val_accuracy: 0.9598\n",
      "Epoch 386/500\n",
      "2/2 [==============================] - 0s 62ms/step - loss: 0.0714 - accuracy: 0.9731 - val_loss: 0.1011 - val_accuracy: 0.9571\n",
      "Epoch 387/500\n",
      "2/2 [==============================] - 0s 63ms/step - loss: 0.0694 - accuracy: 0.9738 - val_loss: 0.1033 - val_accuracy: 0.9571\n",
      "Epoch 388/500\n",
      "2/2 [==============================] - 0s 47ms/step - loss: 0.0734 - accuracy: 0.9704 - val_loss: 0.0980 - val_accuracy: 0.9598\n",
      "Epoch 389/500\n",
      "2/2 [==============================] - 0s 47ms/step - loss: 0.0653 - accuracy: 0.9778 - val_loss: 0.1010 - val_accuracy: 0.9625\n",
      "Epoch 390/500\n",
      "2/2 [==============================] - 0s 66ms/step - loss: 0.0649 - accuracy: 0.9758 - val_loss: 0.1012 - val_accuracy: 0.9625\n",
      "Epoch 391/500\n",
      "2/2 [==============================] - 0s 63ms/step - loss: 0.0735 - accuracy: 0.9752 - val_loss: 0.1068 - val_accuracy: 0.9544\n",
      "Epoch 392/500\n",
      "2/2 [==============================] - 0s 63ms/step - loss: 0.0696 - accuracy: 0.9745 - val_loss: 0.1094 - val_accuracy: 0.9544\n",
      "Epoch 393/500\n",
      "2/2 [==============================] - 0s 47ms/step - loss: 0.0726 - accuracy: 0.9704 - val_loss: 0.0999 - val_accuracy: 0.9625\n",
      "Epoch 394/500\n",
      "2/2 [==============================] - 0s 63ms/step - loss: 0.0608 - accuracy: 0.9772 - val_loss: 0.0963 - val_accuracy: 0.9705\n",
      "Epoch 395/500\n",
      "2/2 [==============================] - 0s 63ms/step - loss: 0.0743 - accuracy: 0.9745 - val_loss: 0.0975 - val_accuracy: 0.9705\n",
      "Epoch 396/500\n",
      "2/2 [==============================] - 0s 47ms/step - loss: 0.0677 - accuracy: 0.9752 - val_loss: 0.1025 - val_accuracy: 0.9651\n",
      "Epoch 397/500\n",
      "2/2 [==============================] - 0s 47ms/step - loss: 0.0800 - accuracy: 0.9725 - val_loss: 0.1030 - val_accuracy: 0.9598\n",
      "Epoch 398/500\n",
      "2/2 [==============================] - 0s 47ms/step - loss: 0.0640 - accuracy: 0.9785 - val_loss: 0.1027 - val_accuracy: 0.9625\n",
      "Epoch 399/500\n",
      "2/2 [==============================] - 0s 47ms/step - loss: 0.0749 - accuracy: 0.9671 - val_loss: 0.1105 - val_accuracy: 0.9571\n",
      "Epoch 400/500\n",
      "2/2 [==============================] - 0s 63ms/step - loss: 0.0661 - accuracy: 0.9758 - val_loss: 0.1079 - val_accuracy: 0.9598\n",
      "Epoch 401/500\n",
      "2/2 [==============================] - 0s 62ms/step - loss: 0.0673 - accuracy: 0.9778 - val_loss: 0.0947 - val_accuracy: 0.9705\n",
      "Epoch 402/500\n",
      "2/2 [==============================] - 0s 94ms/step - loss: 0.0688 - accuracy: 0.9745 - val_loss: 0.0910 - val_accuracy: 0.9732\n",
      "Epoch 403/500\n",
      "2/2 [==============================] - 0s 94ms/step - loss: 0.0814 - accuracy: 0.9691 - val_loss: 0.0848 - val_accuracy: 0.9678\n",
      "Epoch 404/500\n",
      "2/2 [==============================] - 0s 63ms/step - loss: 0.0713 - accuracy: 0.9752 - val_loss: 0.0957 - val_accuracy: 0.9625\n",
      "Epoch 405/500\n",
      "2/2 [==============================] - 0s 62ms/step - loss: 0.0684 - accuracy: 0.9758 - val_loss: 0.0995 - val_accuracy: 0.9625\n",
      "Epoch 406/500\n",
      "2/2 [==============================] - 0s 63ms/step - loss: 0.0639 - accuracy: 0.9752 - val_loss: 0.0967 - val_accuracy: 0.9625\n",
      "Epoch 407/500\n",
      "2/2 [==============================] - 0s 62ms/step - loss: 0.0758 - accuracy: 0.9711 - val_loss: 0.0987 - val_accuracy: 0.9678\n",
      "Epoch 408/500\n",
      "2/2 [==============================] - 0s 47ms/step - loss: 0.0654 - accuracy: 0.9738 - val_loss: 0.1029 - val_accuracy: 0.9705\n",
      "Epoch 409/500\n",
      "2/2 [==============================] - 0s 63ms/step - loss: 0.0636 - accuracy: 0.9778 - val_loss: 0.1098 - val_accuracy: 0.9651\n",
      "Epoch 410/500\n",
      "2/2 [==============================] - 0s 63ms/step - loss: 0.0618 - accuracy: 0.9778 - val_loss: 0.1167 - val_accuracy: 0.9517\n",
      "Epoch 411/500\n",
      "2/2 [==============================] - 0s 94ms/step - loss: 0.0640 - accuracy: 0.9805 - val_loss: 0.1110 - val_accuracy: 0.9571\n",
      "Epoch 412/500\n",
      "2/2 [==============================] - 0s 78ms/step - loss: 0.0654 - accuracy: 0.9772 - val_loss: 0.1050 - val_accuracy: 0.9598\n",
      "Epoch 413/500\n",
      "2/2 [==============================] - 0s 47ms/step - loss: 0.0688 - accuracy: 0.9772 - val_loss: 0.1050 - val_accuracy: 0.9678\n",
      "Epoch 414/500\n",
      "2/2 [==============================] - 0s 89ms/step - loss: 0.0674 - accuracy: 0.9778 - val_loss: 0.1089 - val_accuracy: 0.9678\n",
      "Epoch 415/500\n",
      "2/2 [==============================] - 0s 47ms/step - loss: 0.0633 - accuracy: 0.9765 - val_loss: 0.1078 - val_accuracy: 0.9705\n",
      "Epoch 416/500\n",
      "2/2 [==============================] - 0s 62ms/step - loss: 0.0715 - accuracy: 0.9752 - val_loss: 0.1154 - val_accuracy: 0.9598\n",
      "Epoch 417/500\n",
      "2/2 [==============================] - 0s 47ms/step - loss: 0.0690 - accuracy: 0.9738 - val_loss: 0.1278 - val_accuracy: 0.9571\n",
      "Epoch 418/500\n",
      "2/2 [==============================] - 0s 47ms/step - loss: 0.0638 - accuracy: 0.9765 - val_loss: 0.1254 - val_accuracy: 0.9571\n",
      "Epoch 419/500\n",
      "2/2 [==============================] - 0s 52ms/step - loss: 0.0674 - accuracy: 0.9765 - val_loss: 0.1166 - val_accuracy: 0.9625\n",
      "Epoch 420/500\n",
      "2/2 [==============================] - 0s 78ms/step - loss: 0.0692 - accuracy: 0.9738 - val_loss: 0.1117 - val_accuracy: 0.9625\n",
      "Epoch 421/500\n",
      "2/2 [==============================] - 0s 47ms/step - loss: 0.0676 - accuracy: 0.9758 - val_loss: 0.1081 - val_accuracy: 0.9625\n",
      "Epoch 422/500\n",
      "2/2 [==============================] - 0s 47ms/step - loss: 0.0664 - accuracy: 0.9758 - val_loss: 0.1104 - val_accuracy: 0.9544\n",
      "Epoch 423/500\n",
      "2/2 [==============================] - 0s 47ms/step - loss: 0.0628 - accuracy: 0.9752 - val_loss: 0.1040 - val_accuracy: 0.9571\n",
      "Epoch 424/500\n",
      "2/2 [==============================] - 0s 62ms/step - loss: 0.0663 - accuracy: 0.9778 - val_loss: 0.0941 - val_accuracy: 0.9625\n",
      "Epoch 425/500\n",
      "2/2 [==============================] - 0s 70ms/step - loss: 0.0664 - accuracy: 0.9738 - val_loss: 0.0924 - val_accuracy: 0.9705\n",
      "Epoch 426/500\n",
      "2/2 [==============================] - 0s 94ms/step - loss: 0.0647 - accuracy: 0.9738 - val_loss: 0.0934 - val_accuracy: 0.9705\n",
      "Epoch 427/500\n",
      "2/2 [==============================] - 0s 94ms/step - loss: 0.0635 - accuracy: 0.9785 - val_loss: 0.0958 - val_accuracy: 0.9651\n",
      "Epoch 428/500\n",
      "2/2 [==============================] - 0s 98ms/step - loss: 0.0583 - accuracy: 0.9778 - val_loss: 0.1034 - val_accuracy: 0.9625\n",
      "Epoch 429/500\n",
      "2/2 [==============================] - 0s 63ms/step - loss: 0.0685 - accuracy: 0.9758 - val_loss: 0.0961 - val_accuracy: 0.9651\n",
      "Epoch 430/500\n",
      "2/2 [==============================] - 0s 63ms/step - loss: 0.0624 - accuracy: 0.9799 - val_loss: 0.0900 - val_accuracy: 0.9705\n",
      "Epoch 431/500\n",
      "2/2 [==============================] - 0s 94ms/step - loss: 0.0702 - accuracy: 0.9725 - val_loss: 0.0891 - val_accuracy: 0.9786\n",
      "Epoch 432/500\n",
      "2/2 [==============================] - 0s 109ms/step - loss: 0.0686 - accuracy: 0.9711 - val_loss: 0.0895 - val_accuracy: 0.9678\n",
      "Epoch 433/500\n",
      "2/2 [==============================] - 0s 76ms/step - loss: 0.0613 - accuracy: 0.9792 - val_loss: 0.1025 - val_accuracy: 0.9598\n",
      "Epoch 434/500\n",
      "2/2 [==============================] - 0s 62ms/step - loss: 0.0761 - accuracy: 0.9718 - val_loss: 0.1078 - val_accuracy: 0.9598\n",
      "Epoch 435/500\n",
      "2/2 [==============================] - 0s 109ms/step - loss: 0.0760 - accuracy: 0.9691 - val_loss: 0.1170 - val_accuracy: 0.9651\n",
      "Epoch 436/500\n",
      "2/2 [==============================] - 0s 89ms/step - loss: 0.0705 - accuracy: 0.9711 - val_loss: 0.1219 - val_accuracy: 0.9571\n",
      "Epoch 437/500\n",
      "2/2 [==============================] - 0s 47ms/step - loss: 0.0698 - accuracy: 0.9718 - val_loss: 0.1099 - val_accuracy: 0.9625\n",
      "Epoch 438/500\n",
      "2/2 [==============================] - 0s 62ms/step - loss: 0.0766 - accuracy: 0.9738 - val_loss: 0.0950 - val_accuracy: 0.9651\n",
      "Epoch 439/500\n",
      "2/2 [==============================] - 0s 47ms/step - loss: 0.0638 - accuracy: 0.9778 - val_loss: 0.0892 - val_accuracy: 0.9705\n",
      "Epoch 440/500\n",
      "2/2 [==============================] - 0s 63ms/step - loss: 0.0631 - accuracy: 0.9772 - val_loss: 0.0973 - val_accuracy: 0.9598\n",
      "Epoch 441/500\n",
      "2/2 [==============================] - 0s 59ms/step - loss: 0.0635 - accuracy: 0.9765 - val_loss: 0.1045 - val_accuracy: 0.9651\n",
      "Epoch 442/500\n",
      "2/2 [==============================] - 0s 47ms/step - loss: 0.0650 - accuracy: 0.9799 - val_loss: 0.1080 - val_accuracy: 0.9678\n",
      "Epoch 443/500\n",
      "2/2 [==============================] - 0s 47ms/step - loss: 0.0683 - accuracy: 0.9738 - val_loss: 0.1045 - val_accuracy: 0.9651\n",
      "Epoch 444/500\n",
      "2/2 [==============================] - 0s 62ms/step - loss: 0.0605 - accuracy: 0.9799 - val_loss: 0.1083 - val_accuracy: 0.9571\n",
      "Epoch 445/500\n",
      "2/2 [==============================] - 0s 62ms/step - loss: 0.0697 - accuracy: 0.9765 - val_loss: 0.0945 - val_accuracy: 0.9678\n",
      "Epoch 446/500\n",
      "2/2 [==============================] - 0s 63ms/step - loss: 0.0604 - accuracy: 0.9785 - val_loss: 0.0934 - val_accuracy: 0.9732\n",
      "Epoch 447/500\n",
      "2/2 [==============================] - 0s 55ms/step - loss: 0.0649 - accuracy: 0.9778 - val_loss: 0.0988 - val_accuracy: 0.9625\n",
      "Epoch 448/500\n",
      "2/2 [==============================] - 0s 62ms/step - loss: 0.0632 - accuracy: 0.9765 - val_loss: 0.1050 - val_accuracy: 0.9625\n",
      "Epoch 449/500\n",
      "2/2 [==============================] - 0s 47ms/step - loss: 0.0578 - accuracy: 0.9799 - val_loss: 0.1108 - val_accuracy: 0.9598\n",
      "Epoch 450/500\n",
      "2/2 [==============================] - 0s 63ms/step - loss: 0.0558 - accuracy: 0.9819 - val_loss: 0.1109 - val_accuracy: 0.9598\n",
      "Epoch 451/500\n",
      "2/2 [==============================] - 0s 56ms/step - loss: 0.0663 - accuracy: 0.9752 - val_loss: 0.1134 - val_accuracy: 0.9625\n",
      "Epoch 452/500\n",
      "2/2 [==============================] - 0s 70ms/step - loss: 0.0657 - accuracy: 0.9738 - val_loss: 0.1256 - val_accuracy: 0.9598\n",
      "Epoch 453/500\n",
      "2/2 [==============================] - 0s 63ms/step - loss: 0.0586 - accuracy: 0.9778 - val_loss: 0.1222 - val_accuracy: 0.9571\n",
      "Epoch 454/500\n",
      "2/2 [==============================] - 0s 63ms/step - loss: 0.0527 - accuracy: 0.9805 - val_loss: 0.1080 - val_accuracy: 0.9651\n",
      "Epoch 455/500\n",
      "2/2 [==============================] - 0s 47ms/step - loss: 0.0659 - accuracy: 0.9765 - val_loss: 0.0946 - val_accuracy: 0.9705\n",
      "Epoch 456/500\n",
      "2/2 [==============================] - 0s 68ms/step - loss: 0.0644 - accuracy: 0.9738 - val_loss: 0.0983 - val_accuracy: 0.9598\n",
      "Epoch 457/500\n",
      "2/2 [==============================] - 0s 47ms/step - loss: 0.0737 - accuracy: 0.9731 - val_loss: 0.1069 - val_accuracy: 0.9598\n",
      "Epoch 458/500\n",
      "2/2 [==============================] - 0s 63ms/step - loss: 0.0746 - accuracy: 0.9698 - val_loss: 0.1175 - val_accuracy: 0.9651\n",
      "Epoch 459/500\n",
      "2/2 [==============================] - 0s 78ms/step - loss: 0.0738 - accuracy: 0.9704 - val_loss: 0.1157 - val_accuracy: 0.9678\n",
      "Epoch 460/500\n",
      "2/2 [==============================] - 0s 62ms/step - loss: 0.0566 - accuracy: 0.9812 - val_loss: 0.1075 - val_accuracy: 0.9625\n",
      "Epoch 461/500\n",
      "2/2 [==============================] - 0s 69ms/step - loss: 0.0667 - accuracy: 0.9805 - val_loss: 0.1012 - val_accuracy: 0.9625\n",
      "Epoch 462/500\n",
      "2/2 [==============================] - 0s 63ms/step - loss: 0.0597 - accuracy: 0.9778 - val_loss: 0.1042 - val_accuracy: 0.9598\n",
      "Epoch 463/500\n",
      "2/2 [==============================] - 0s 47ms/step - loss: 0.0563 - accuracy: 0.9825 - val_loss: 0.1143 - val_accuracy: 0.9571\n",
      "Epoch 464/500\n",
      "2/2 [==============================] - 0s 47ms/step - loss: 0.0684 - accuracy: 0.9792 - val_loss: 0.1149 - val_accuracy: 0.9571\n",
      "Epoch 465/500\n",
      "2/2 [==============================] - 0s 63ms/step - loss: 0.0679 - accuracy: 0.9758 - val_loss: 0.1055 - val_accuracy: 0.9678\n",
      "Epoch 466/500\n",
      "2/2 [==============================] - 0s 77ms/step - loss: 0.0566 - accuracy: 0.9785 - val_loss: 0.0989 - val_accuracy: 0.9678\n",
      "Epoch 467/500\n",
      "2/2 [==============================] - 0s 62ms/step - loss: 0.0593 - accuracy: 0.9765 - val_loss: 0.0949 - val_accuracy: 0.9571\n",
      "Epoch 468/500\n",
      "2/2 [==============================] - 0s 94ms/step - loss: 0.0588 - accuracy: 0.9778 - val_loss: 0.0986 - val_accuracy: 0.9544\n",
      "Epoch 469/500\n",
      "2/2 [==============================] - 0s 94ms/step - loss: 0.0665 - accuracy: 0.9765 - val_loss: 0.1041 - val_accuracy: 0.9598\n",
      "Epoch 470/500\n",
      "2/2 [==============================] - 0s 47ms/step - loss: 0.0549 - accuracy: 0.9819 - val_loss: 0.1090 - val_accuracy: 0.9571\n",
      "Epoch 471/500\n",
      "2/2 [==============================] - 0s 47ms/step - loss: 0.0667 - accuracy: 0.9765 - val_loss: 0.1153 - val_accuracy: 0.9651\n",
      "Epoch 472/500\n",
      "2/2 [==============================] - 0s 47ms/step - loss: 0.0596 - accuracy: 0.9765 - val_loss: 0.1023 - val_accuracy: 0.9732\n",
      "Epoch 473/500\n",
      "2/2 [==============================] - 0s 47ms/step - loss: 0.0629 - accuracy: 0.9725 - val_loss: 0.0970 - val_accuracy: 0.9625\n",
      "Epoch 474/500\n",
      "2/2 [==============================] - 0s 63ms/step - loss: 0.0612 - accuracy: 0.9772 - val_loss: 0.0999 - val_accuracy: 0.9598\n",
      "Epoch 475/500\n",
      "2/2 [==============================] - 0s 47ms/step - loss: 0.0582 - accuracy: 0.9785 - val_loss: 0.0982 - val_accuracy: 0.9705\n",
      "Epoch 476/500\n",
      "2/2 [==============================] - 0s 63ms/step - loss: 0.0623 - accuracy: 0.9731 - val_loss: 0.1036 - val_accuracy: 0.9678\n",
      "Epoch 477/500\n",
      "2/2 [==============================] - 0s 62ms/step - loss: 0.0544 - accuracy: 0.9778 - val_loss: 0.1033 - val_accuracy: 0.9651\n",
      "Epoch 478/500\n",
      "2/2 [==============================] - 0s 62ms/step - loss: 0.0536 - accuracy: 0.9819 - val_loss: 0.0939 - val_accuracy: 0.9678\n",
      "Epoch 479/500\n",
      "2/2 [==============================] - 0s 62ms/step - loss: 0.0612 - accuracy: 0.9778 - val_loss: 0.0958 - val_accuracy: 0.9678\n",
      "Epoch 480/500\n",
      "2/2 [==============================] - 0s 47ms/step - loss: 0.0445 - accuracy: 0.9866 - val_loss: 0.1030 - val_accuracy: 0.9651\n",
      "Epoch 481/500\n",
      "2/2 [==============================] - 0s 74ms/step - loss: 0.0614 - accuracy: 0.9772 - val_loss: 0.1140 - val_accuracy: 0.9571\n",
      "Epoch 482/500\n",
      "2/2 [==============================] - 0s 63ms/step - loss: 0.0574 - accuracy: 0.9778 - val_loss: 0.1214 - val_accuracy: 0.9571\n",
      "Epoch 483/500\n",
      "2/2 [==============================] - 0s 63ms/step - loss: 0.0582 - accuracy: 0.9819 - val_loss: 0.1073 - val_accuracy: 0.9598\n",
      "Epoch 484/500\n",
      "2/2 [==============================] - 0s 63ms/step - loss: 0.0530 - accuracy: 0.9839 - val_loss: 0.1007 - val_accuracy: 0.9625\n",
      "Epoch 485/500\n",
      "2/2 [==============================] - 0s 47ms/step - loss: 0.0589 - accuracy: 0.9772 - val_loss: 0.1042 - val_accuracy: 0.9678\n",
      "Epoch 486/500\n",
      "2/2 [==============================] - 0s 47ms/step - loss: 0.0571 - accuracy: 0.9805 - val_loss: 0.1046 - val_accuracy: 0.9705\n",
      "Epoch 487/500\n",
      "2/2 [==============================] - 0s 110ms/step - loss: 0.0540 - accuracy: 0.9832 - val_loss: 0.1084 - val_accuracy: 0.9625\n",
      "Epoch 488/500\n",
      "2/2 [==============================] - 0s 47ms/step - loss: 0.0519 - accuracy: 0.9805 - val_loss: 0.1126 - val_accuracy: 0.9517\n",
      "Epoch 489/500\n",
      "2/2 [==============================] - 0s 63ms/step - loss: 0.0641 - accuracy: 0.9731 - val_loss: 0.1005 - val_accuracy: 0.9598\n",
      "Epoch 490/500\n",
      "2/2 [==============================] - 0s 63ms/step - loss: 0.0595 - accuracy: 0.9785 - val_loss: 0.1002 - val_accuracy: 0.9678\n",
      "Epoch 491/500\n",
      "2/2 [==============================] - 0s 78ms/step - loss: 0.0623 - accuracy: 0.9765 - val_loss: 0.1080 - val_accuracy: 0.9651\n",
      "Epoch 492/500\n",
      "2/2 [==============================] - 0s 87ms/step - loss: 0.0564 - accuracy: 0.9778 - val_loss: 0.1119 - val_accuracy: 0.9625\n",
      "Epoch 493/500\n",
      "2/2 [==============================] - 0s 62ms/step - loss: 0.0579 - accuracy: 0.9772 - val_loss: 0.1168 - val_accuracy: 0.9598\n",
      "Epoch 494/500\n",
      "2/2 [==============================] - 0s 47ms/step - loss: 0.0630 - accuracy: 0.9725 - val_loss: 0.1139 - val_accuracy: 0.9598\n",
      "Epoch 495/500\n",
      "2/2 [==============================] - 0s 79ms/step - loss: 0.0540 - accuracy: 0.9812 - val_loss: 0.1090 - val_accuracy: 0.9491\n",
      "Epoch 496/500\n",
      "2/2 [==============================] - 0s 70ms/step - loss: 0.0589 - accuracy: 0.9778 - val_loss: 0.1147 - val_accuracy: 0.9544\n",
      "Epoch 497/500\n",
      "2/2 [==============================] - 0s 78ms/step - loss: 0.0669 - accuracy: 0.9758 - val_loss: 0.1140 - val_accuracy: 0.9544\n",
      "Epoch 498/500\n",
      "2/2 [==============================] - 0s 62ms/step - loss: 0.0667 - accuracy: 0.9725 - val_loss: 0.1017 - val_accuracy: 0.9732\n",
      "Epoch 499/500\n",
      "2/2 [==============================] - 0s 62ms/step - loss: 0.0654 - accuracy: 0.9765 - val_loss: 0.0990 - val_accuracy: 0.9678\n",
      "Epoch 500/500\n",
      "2/2 [==============================] - 0s 78ms/step - loss: 0.0491 - accuracy: 0.9839 - val_loss: 0.1093 - val_accuracy: 0.9571\n"
     ]
    }
   ],
   "source": [
    "history = model.fit(X_train, Y_train, validation_data=(X_test, Y_test), epochs=500, batch_size=1024)"
   ],
   "metadata": {
    "collapsed": false,
    "pycharm": {
     "name": "#%%\n"
    }
   }
  },
  {
   "cell_type": "code",
   "execution_count": 326,
   "outputs": [
    {
     "name": "stdout",
     "output_type": "stream",
     "text": [
      "Epoch 1/500\n",
      "2/2 [==============================] - 0s 105ms/step - loss: 0.0572 - accuracy: 0.9772 - val_loss: 0.1225 - val_accuracy: 0.9598\n",
      "Epoch 2/500\n",
      "2/2 [==============================] - 0s 85ms/step - loss: 0.0514 - accuracy: 0.9812 - val_loss: 0.1158 - val_accuracy: 0.9571\n",
      "Epoch 3/500\n",
      "2/2 [==============================] - 0s 64ms/step - loss: 0.0585 - accuracy: 0.9772 - val_loss: 0.1020 - val_accuracy: 0.9598\n",
      "Epoch 4/500\n",
      "2/2 [==============================] - 0s 58ms/step - loss: 0.0593 - accuracy: 0.9792 - val_loss: 0.1052 - val_accuracy: 0.9651\n",
      "Epoch 5/500\n",
      "2/2 [==============================] - 0s 48ms/step - loss: 0.0560 - accuracy: 0.9778 - val_loss: 0.1117 - val_accuracy: 0.9678\n",
      "Epoch 6/500\n",
      "2/2 [==============================] - 0s 46ms/step - loss: 0.0661 - accuracy: 0.9704 - val_loss: 0.1060 - val_accuracy: 0.9678\n",
      "Epoch 7/500\n",
      "2/2 [==============================] - 0s 48ms/step - loss: 0.0630 - accuracy: 0.9738 - val_loss: 0.1032 - val_accuracy: 0.9625\n",
      "Epoch 8/500\n",
      "2/2 [==============================] - 0s 89ms/step - loss: 0.0530 - accuracy: 0.9785 - val_loss: 0.1007 - val_accuracy: 0.9544\n",
      "Epoch 9/500\n",
      "2/2 [==============================] - 0s 51ms/step - loss: 0.0557 - accuracy: 0.9812 - val_loss: 0.0997 - val_accuracy: 0.9651\n",
      "Epoch 10/500\n",
      "2/2 [==============================] - 0s 50ms/step - loss: 0.0469 - accuracy: 0.9819 - val_loss: 0.1059 - val_accuracy: 0.9651\n",
      "Epoch 11/500\n",
      "2/2 [==============================] - 0s 46ms/step - loss: 0.0521 - accuracy: 0.9799 - val_loss: 0.1085 - val_accuracy: 0.9625\n",
      "Epoch 12/500\n",
      "2/2 [==============================] - 0s 48ms/step - loss: 0.0608 - accuracy: 0.9738 - val_loss: 0.1085 - val_accuracy: 0.9571\n",
      "Epoch 13/500\n",
      "2/2 [==============================] - 0s 53ms/step - loss: 0.0490 - accuracy: 0.9819 - val_loss: 0.1121 - val_accuracy: 0.9598\n",
      "Epoch 14/500\n",
      "2/2 [==============================] - 0s 68ms/step - loss: 0.0546 - accuracy: 0.9819 - val_loss: 0.1123 - val_accuracy: 0.9598\n",
      "Epoch 15/500\n",
      "2/2 [==============================] - 0s 62ms/step - loss: 0.0481 - accuracy: 0.9852 - val_loss: 0.1083 - val_accuracy: 0.9651\n",
      "Epoch 16/500\n",
      "2/2 [==============================] - 0s 70ms/step - loss: 0.0578 - accuracy: 0.9805 - val_loss: 0.1058 - val_accuracy: 0.9705\n",
      "Epoch 17/500\n",
      "2/2 [==============================] - 0s 59ms/step - loss: 0.0494 - accuracy: 0.9819 - val_loss: 0.1011 - val_accuracy: 0.9705\n",
      "Epoch 18/500\n",
      "2/2 [==============================] - 0s 38ms/step - loss: 0.0502 - accuracy: 0.9805 - val_loss: 0.1010 - val_accuracy: 0.9651\n",
      "Epoch 19/500\n",
      "2/2 [==============================] - 0s 48ms/step - loss: 0.0497 - accuracy: 0.9825 - val_loss: 0.1026 - val_accuracy: 0.9651\n",
      "Epoch 20/500\n",
      "2/2 [==============================] - 0s 46ms/step - loss: 0.0522 - accuracy: 0.9785 - val_loss: 0.1004 - val_accuracy: 0.9651\n",
      "Epoch 21/500\n",
      "2/2 [==============================] - 0s 48ms/step - loss: 0.0455 - accuracy: 0.9859 - val_loss: 0.1049 - val_accuracy: 0.9651\n",
      "Epoch 22/500\n",
      "2/2 [==============================] - 0s 45ms/step - loss: 0.0567 - accuracy: 0.9758 - val_loss: 0.1080 - val_accuracy: 0.9625\n",
      "Epoch 23/500\n",
      "2/2 [==============================] - 0s 40ms/step - loss: 0.0533 - accuracy: 0.9805 - val_loss: 0.1062 - val_accuracy: 0.9625\n",
      "Epoch 24/500\n",
      "2/2 [==============================] - 0s 42ms/step - loss: 0.0495 - accuracy: 0.9832 - val_loss: 0.1064 - val_accuracy: 0.9571\n",
      "Epoch 25/500\n",
      "2/2 [==============================] - 0s 42ms/step - loss: 0.0504 - accuracy: 0.9832 - val_loss: 0.1050 - val_accuracy: 0.9571\n",
      "Epoch 26/500\n",
      "2/2 [==============================] - 0s 48ms/step - loss: 0.0418 - accuracy: 0.9846 - val_loss: 0.0969 - val_accuracy: 0.9571\n",
      "Epoch 27/500\n",
      "2/2 [==============================] - 0s 45ms/step - loss: 0.0559 - accuracy: 0.9812 - val_loss: 0.0986 - val_accuracy: 0.9571\n",
      "Epoch 28/500\n",
      "2/2 [==============================] - 0s 44ms/step - loss: 0.0608 - accuracy: 0.9772 - val_loss: 0.1012 - val_accuracy: 0.9625\n",
      "Epoch 29/500\n",
      "2/2 [==============================] - 0s 44ms/step - loss: 0.0604 - accuracy: 0.9765 - val_loss: 0.1185 - val_accuracy: 0.9598\n",
      "Epoch 30/500\n",
      "2/2 [==============================] - 0s 48ms/step - loss: 0.0444 - accuracy: 0.9825 - val_loss: 0.1167 - val_accuracy: 0.9625\n",
      "Epoch 31/500\n",
      "2/2 [==============================] - 0s 48ms/step - loss: 0.0433 - accuracy: 0.9852 - val_loss: 0.1134 - val_accuracy: 0.9651\n",
      "Epoch 32/500\n",
      "2/2 [==============================] - 0s 43ms/step - loss: 0.0474 - accuracy: 0.9832 - val_loss: 0.1083 - val_accuracy: 0.9625\n",
      "Epoch 33/500\n",
      "2/2 [==============================] - 0s 44ms/step - loss: 0.0554 - accuracy: 0.9839 - val_loss: 0.1111 - val_accuracy: 0.9571\n",
      "Epoch 34/500\n",
      "2/2 [==============================] - 0s 48ms/step - loss: 0.0625 - accuracy: 0.9718 - val_loss: 0.1127 - val_accuracy: 0.9598\n",
      "Epoch 35/500\n",
      "2/2 [==============================] - 0s 41ms/step - loss: 0.0431 - accuracy: 0.9852 - val_loss: 0.1071 - val_accuracy: 0.9625\n",
      "Epoch 36/500\n",
      "2/2 [==============================] - 0s 47ms/step - loss: 0.0455 - accuracy: 0.9852 - val_loss: 0.1055 - val_accuracy: 0.9598\n",
      "Epoch 37/500\n",
      "2/2 [==============================] - 0s 41ms/step - loss: 0.0515 - accuracy: 0.9799 - val_loss: 0.1001 - val_accuracy: 0.9625\n",
      "Epoch 38/500\n",
      "2/2 [==============================] - 0s 45ms/step - loss: 0.0466 - accuracy: 0.9825 - val_loss: 0.1132 - val_accuracy: 0.9598\n",
      "Epoch 39/500\n",
      "2/2 [==============================] - 0s 36ms/step - loss: 0.0556 - accuracy: 0.9792 - val_loss: 0.1131 - val_accuracy: 0.9625\n",
      "Epoch 40/500\n",
      "2/2 [==============================] - 0s 53ms/step - loss: 0.0505 - accuracy: 0.9812 - val_loss: 0.1193 - val_accuracy: 0.9625\n",
      "Epoch 41/500\n",
      "2/2 [==============================] - 0s 41ms/step - loss: 0.0571 - accuracy: 0.9825 - val_loss: 0.1294 - val_accuracy: 0.9571\n",
      "Epoch 42/500\n",
      "2/2 [==============================] - 0s 46ms/step - loss: 0.0499 - accuracy: 0.9825 - val_loss: 0.1390 - val_accuracy: 0.9571\n",
      "Epoch 43/500\n",
      "2/2 [==============================] - 0s 54ms/step - loss: 0.0589 - accuracy: 0.9752 - val_loss: 0.1372 - val_accuracy: 0.9598\n",
      "Epoch 44/500\n",
      "2/2 [==============================] - 0s 41ms/step - loss: 0.0518 - accuracy: 0.9785 - val_loss: 0.1292 - val_accuracy: 0.9625\n",
      "Epoch 45/500\n",
      "2/2 [==============================] - 0s 45ms/step - loss: 0.0476 - accuracy: 0.9825 - val_loss: 0.1137 - val_accuracy: 0.9651\n",
      "Epoch 46/500\n",
      "2/2 [==============================] - 0s 41ms/step - loss: 0.0504 - accuracy: 0.9819 - val_loss: 0.1061 - val_accuracy: 0.9678\n",
      "Epoch 47/500\n",
      "2/2 [==============================] - 0s 45ms/step - loss: 0.0566 - accuracy: 0.9792 - val_loss: 0.1061 - val_accuracy: 0.9651\n",
      "Epoch 48/500\n",
      "2/2 [==============================] - 0s 44ms/step - loss: 0.0526 - accuracy: 0.9819 - val_loss: 0.1152 - val_accuracy: 0.9651\n",
      "Epoch 49/500\n",
      "2/2 [==============================] - 0s 45ms/step - loss: 0.0474 - accuracy: 0.9805 - val_loss: 0.1218 - val_accuracy: 0.9651\n",
      "Epoch 50/500\n",
      "2/2 [==============================] - 0s 44ms/step - loss: 0.0549 - accuracy: 0.9792 - val_loss: 0.1185 - val_accuracy: 0.9598\n",
      "Epoch 51/500\n",
      "2/2 [==============================] - 0s 49ms/step - loss: 0.0430 - accuracy: 0.9852 - val_loss: 0.1189 - val_accuracy: 0.9544\n",
      "Epoch 52/500\n",
      "2/2 [==============================] - 0s 40ms/step - loss: 0.0561 - accuracy: 0.9832 - val_loss: 0.1045 - val_accuracy: 0.9598\n",
      "Epoch 53/500\n",
      "2/2 [==============================] - 0s 47ms/step - loss: 0.0507 - accuracy: 0.9805 - val_loss: 0.0982 - val_accuracy: 0.9651\n",
      "Epoch 54/500\n",
      "2/2 [==============================] - 0s 43ms/step - loss: 0.0466 - accuracy: 0.9839 - val_loss: 0.1029 - val_accuracy: 0.9651\n",
      "Epoch 55/500\n",
      "2/2 [==============================] - 0s 41ms/step - loss: 0.0484 - accuracy: 0.9805 - val_loss: 0.1114 - val_accuracy: 0.9678\n",
      "Epoch 56/500\n",
      "2/2 [==============================] - 0s 44ms/step - loss: 0.0475 - accuracy: 0.9805 - val_loss: 0.1002 - val_accuracy: 0.9651\n",
      "Epoch 57/500\n",
      "2/2 [==============================] - 0s 55ms/step - loss: 0.0518 - accuracy: 0.9819 - val_loss: 0.1061 - val_accuracy: 0.9625\n",
      "Epoch 58/500\n",
      "2/2 [==============================] - 0s 54ms/step - loss: 0.0518 - accuracy: 0.9805 - val_loss: 0.1081 - val_accuracy: 0.9571\n",
      "Epoch 59/500\n",
      "2/2 [==============================] - 0s 71ms/step - loss: 0.0461 - accuracy: 0.9819 - val_loss: 0.1136 - val_accuracy: 0.9571\n",
      "Epoch 60/500\n",
      "2/2 [==============================] - 0s 45ms/step - loss: 0.0504 - accuracy: 0.9778 - val_loss: 0.1073 - val_accuracy: 0.9598\n",
      "Epoch 61/500\n",
      "2/2 [==============================] - 0s 58ms/step - loss: 0.0481 - accuracy: 0.9819 - val_loss: 0.1011 - val_accuracy: 0.9705\n",
      "Epoch 62/500\n",
      "2/2 [==============================] - 0s 44ms/step - loss: 0.0473 - accuracy: 0.9825 - val_loss: 0.1040 - val_accuracy: 0.9678\n",
      "Epoch 63/500\n",
      "2/2 [==============================] - 0s 57ms/step - loss: 0.0467 - accuracy: 0.9799 - val_loss: 0.1051 - val_accuracy: 0.9678\n",
      "Epoch 64/500\n",
      "2/2 [==============================] - 0s 57ms/step - loss: 0.0422 - accuracy: 0.9839 - val_loss: 0.1074 - val_accuracy: 0.9625\n",
      "Epoch 65/500\n",
      "2/2 [==============================] - 0s 52ms/step - loss: 0.0471 - accuracy: 0.9832 - val_loss: 0.1072 - val_accuracy: 0.9625\n",
      "Epoch 66/500\n",
      "2/2 [==============================] - 0s 47ms/step - loss: 0.0447 - accuracy: 0.9839 - val_loss: 0.1054 - val_accuracy: 0.9598\n",
      "Epoch 67/500\n",
      "2/2 [==============================] - 0s 69ms/step - loss: 0.0503 - accuracy: 0.9799 - val_loss: 0.1052 - val_accuracy: 0.9598\n",
      "Epoch 68/500\n",
      "2/2 [==============================] - 0s 112ms/step - loss: 0.0471 - accuracy: 0.9792 - val_loss: 0.1148 - val_accuracy: 0.9544\n",
      "Epoch 69/500\n",
      "2/2 [==============================] - 0s 52ms/step - loss: 0.0514 - accuracy: 0.9778 - val_loss: 0.1031 - val_accuracy: 0.9598\n",
      "Epoch 70/500\n",
      "2/2 [==============================] - 0s 59ms/step - loss: 0.0419 - accuracy: 0.9839 - val_loss: 0.0978 - val_accuracy: 0.9705\n",
      "Epoch 71/500\n",
      "2/2 [==============================] - 0s 56ms/step - loss: 0.0575 - accuracy: 0.9765 - val_loss: 0.1086 - val_accuracy: 0.9651\n",
      "Epoch 72/500\n",
      "2/2 [==============================] - 0s 54ms/step - loss: 0.0473 - accuracy: 0.9825 - val_loss: 0.1211 - val_accuracy: 0.9598\n",
      "Epoch 73/500\n",
      "2/2 [==============================] - 0s 56ms/step - loss: 0.0483 - accuracy: 0.9819 - val_loss: 0.1217 - val_accuracy: 0.9651\n",
      "Epoch 74/500\n",
      "2/2 [==============================] - 0s 53ms/step - loss: 0.0525 - accuracy: 0.9792 - val_loss: 0.1147 - val_accuracy: 0.9625\n",
      "Epoch 75/500\n",
      "2/2 [==============================] - 0s 70ms/step - loss: 0.0427 - accuracy: 0.9839 - val_loss: 0.1192 - val_accuracy: 0.9625\n",
      "Epoch 76/500\n",
      "2/2 [==============================] - 0s 45ms/step - loss: 0.0587 - accuracy: 0.9765 - val_loss: 0.1166 - val_accuracy: 0.9625\n",
      "Epoch 77/500\n",
      "2/2 [==============================] - 0s 50ms/step - loss: 0.0446 - accuracy: 0.9846 - val_loss: 0.1268 - val_accuracy: 0.9678\n",
      "Epoch 78/500\n",
      "2/2 [==============================] - 0s 42ms/step - loss: 0.0581 - accuracy: 0.9778 - val_loss: 0.1244 - val_accuracy: 0.9625\n",
      "Epoch 79/500\n",
      "2/2 [==============================] - 0s 48ms/step - loss: 0.0540 - accuracy: 0.9799 - val_loss: 0.1222 - val_accuracy: 0.9625\n",
      "Epoch 80/500\n",
      "2/2 [==============================] - 0s 44ms/step - loss: 0.0503 - accuracy: 0.9819 - val_loss: 0.1076 - val_accuracy: 0.9651\n",
      "Epoch 81/500\n",
      "2/2 [==============================] - 0s 50ms/step - loss: 0.0515 - accuracy: 0.9825 - val_loss: 0.1071 - val_accuracy: 0.9705\n",
      "Epoch 82/500\n",
      "2/2 [==============================] - 0s 48ms/step - loss: 0.0480 - accuracy: 0.9812 - val_loss: 0.1129 - val_accuracy: 0.9651\n",
      "Epoch 83/500\n",
      "2/2 [==============================] - 0s 58ms/step - loss: 0.0391 - accuracy: 0.9852 - val_loss: 0.1298 - val_accuracy: 0.9598\n",
      "Epoch 84/500\n",
      "2/2 [==============================] - 0s 47ms/step - loss: 0.0530 - accuracy: 0.9799 - val_loss: 0.1232 - val_accuracy: 0.9625\n",
      "Epoch 85/500\n",
      "2/2 [==============================] - 0s 52ms/step - loss: 0.0491 - accuracy: 0.9799 - val_loss: 0.1238 - val_accuracy: 0.9625\n",
      "Epoch 86/500\n",
      "2/2 [==============================] - 0s 53ms/step - loss: 0.0593 - accuracy: 0.9785 - val_loss: 0.1127 - val_accuracy: 0.9678\n",
      "Epoch 87/500\n",
      "2/2 [==============================] - 0s 57ms/step - loss: 0.0482 - accuracy: 0.9825 - val_loss: 0.1182 - val_accuracy: 0.9651\n",
      "Epoch 88/500\n",
      "2/2 [==============================] - 0s 62ms/step - loss: 0.0503 - accuracy: 0.9799 - val_loss: 0.1129 - val_accuracy: 0.9651\n",
      "Epoch 89/500\n",
      "2/2 [==============================] - 0s 59ms/step - loss: 0.0503 - accuracy: 0.9805 - val_loss: 0.1138 - val_accuracy: 0.9625\n",
      "Epoch 90/500\n",
      "2/2 [==============================] - 0s 50ms/step - loss: 0.0482 - accuracy: 0.9825 - val_loss: 0.1179 - val_accuracy: 0.9571\n",
      "Epoch 91/500\n",
      "2/2 [==============================] - 0s 67ms/step - loss: 0.0596 - accuracy: 0.9778 - val_loss: 0.1171 - val_accuracy: 0.9598\n",
      "Epoch 92/500\n",
      "2/2 [==============================] - 0s 79ms/step - loss: 0.0474 - accuracy: 0.9819 - val_loss: 0.1107 - val_accuracy: 0.9678\n",
      "Epoch 93/500\n",
      "2/2 [==============================] - 0s 57ms/step - loss: 0.0536 - accuracy: 0.9772 - val_loss: 0.1092 - val_accuracy: 0.9678\n",
      "Epoch 94/500\n",
      "2/2 [==============================] - 0s 58ms/step - loss: 0.0487 - accuracy: 0.9832 - val_loss: 0.1170 - val_accuracy: 0.9571\n",
      "Epoch 95/500\n",
      "2/2 [==============================] - 0s 68ms/step - loss: 0.0425 - accuracy: 0.9825 - val_loss: 0.1251 - val_accuracy: 0.9517\n",
      "Epoch 96/500\n",
      "2/2 [==============================] - 0s 50ms/step - loss: 0.0524 - accuracy: 0.9819 - val_loss: 0.1237 - val_accuracy: 0.9598\n",
      "Epoch 97/500\n",
      "2/2 [==============================] - 0s 58ms/step - loss: 0.0449 - accuracy: 0.9846 - val_loss: 0.1167 - val_accuracy: 0.9625\n",
      "Epoch 98/500\n",
      "2/2 [==============================] - 0s 63ms/step - loss: 0.0429 - accuracy: 0.9812 - val_loss: 0.1100 - val_accuracy: 0.9651\n",
      "Epoch 99/500\n",
      "2/2 [==============================] - 0s 53ms/step - loss: 0.0466 - accuracy: 0.9805 - val_loss: 0.1145 - val_accuracy: 0.9598\n",
      "Epoch 100/500\n",
      "2/2 [==============================] - 0s 51ms/step - loss: 0.0551 - accuracy: 0.9785 - val_loss: 0.1156 - val_accuracy: 0.9651\n",
      "Epoch 101/500\n",
      "2/2 [==============================] - 0s 45ms/step - loss: 0.0457 - accuracy: 0.9839 - val_loss: 0.1181 - val_accuracy: 0.9625\n",
      "Epoch 102/500\n",
      "2/2 [==============================] - 0s 49ms/step - loss: 0.0501 - accuracy: 0.9799 - val_loss: 0.1326 - val_accuracy: 0.9598\n",
      "Epoch 103/500\n",
      "2/2 [==============================] - 0s 49ms/step - loss: 0.0437 - accuracy: 0.9839 - val_loss: 0.1481 - val_accuracy: 0.9437\n",
      "Epoch 104/500\n",
      "2/2 [==============================] - 0s 45ms/step - loss: 0.0471 - accuracy: 0.9846 - val_loss: 0.1346 - val_accuracy: 0.9517\n",
      "Epoch 105/500\n",
      "2/2 [==============================] - 0s 51ms/step - loss: 0.0463 - accuracy: 0.9832 - val_loss: 0.1190 - val_accuracy: 0.9625\n",
      "Epoch 106/500\n",
      "2/2 [==============================] - 0s 62ms/step - loss: 0.0421 - accuracy: 0.9852 - val_loss: 0.1096 - val_accuracy: 0.9705\n",
      "Epoch 107/500\n",
      "2/2 [==============================] - 0s 57ms/step - loss: 0.0531 - accuracy: 0.9799 - val_loss: 0.1126 - val_accuracy: 0.9625\n",
      "Epoch 108/500\n",
      "2/2 [==============================] - 0s 72ms/step - loss: 0.0487 - accuracy: 0.9839 - val_loss: 0.1077 - val_accuracy: 0.9625\n",
      "Epoch 109/500\n",
      "2/2 [==============================] - 0s 56ms/step - loss: 0.0493 - accuracy: 0.9832 - val_loss: 0.1151 - val_accuracy: 0.9651\n",
      "Epoch 110/500\n",
      "2/2 [==============================] - 0s 65ms/step - loss: 0.0476 - accuracy: 0.9839 - val_loss: 0.1250 - val_accuracy: 0.9705\n",
      "Epoch 111/500\n",
      "2/2 [==============================] - 0s 58ms/step - loss: 0.0493 - accuracy: 0.9812 - val_loss: 0.1318 - val_accuracy: 0.9625\n",
      "Epoch 112/500\n",
      "2/2 [==============================] - 0s 48ms/step - loss: 0.0459 - accuracy: 0.9805 - val_loss: 0.1270 - val_accuracy: 0.9598\n",
      "Epoch 113/500\n",
      "2/2 [==============================] - 0s 69ms/step - loss: 0.0491 - accuracy: 0.9799 - val_loss: 0.1236 - val_accuracy: 0.9625\n",
      "Epoch 114/500\n",
      "2/2 [==============================] - 0s 54ms/step - loss: 0.0411 - accuracy: 0.9846 - val_loss: 0.1236 - val_accuracy: 0.9571\n",
      "Epoch 115/500\n",
      "2/2 [==============================] - 0s 56ms/step - loss: 0.0443 - accuracy: 0.9852 - val_loss: 0.1215 - val_accuracy: 0.9598\n",
      "Epoch 116/500\n",
      "2/2 [==============================] - 0s 67ms/step - loss: 0.0518 - accuracy: 0.9825 - val_loss: 0.1322 - val_accuracy: 0.9625\n",
      "Epoch 117/500\n",
      "2/2 [==============================] - 0s 49ms/step - loss: 0.0500 - accuracy: 0.9832 - val_loss: 0.1256 - val_accuracy: 0.9625\n",
      "Epoch 118/500\n",
      "2/2 [==============================] - 0s 62ms/step - loss: 0.0437 - accuracy: 0.9825 - val_loss: 0.1118 - val_accuracy: 0.9678\n",
      "Epoch 119/500\n",
      "2/2 [==============================] - 0s 50ms/step - loss: 0.0430 - accuracy: 0.9872 - val_loss: 0.1041 - val_accuracy: 0.9705\n",
      "Epoch 120/500\n",
      "2/2 [==============================] - 0s 74ms/step - loss: 0.0409 - accuracy: 0.9846 - val_loss: 0.1062 - val_accuracy: 0.9678\n",
      "Epoch 121/500\n",
      "2/2 [==============================] - 0s 48ms/step - loss: 0.0427 - accuracy: 0.9812 - val_loss: 0.1140 - val_accuracy: 0.9678\n",
      "Epoch 122/500\n",
      "2/2 [==============================] - 0s 59ms/step - loss: 0.0451 - accuracy: 0.9825 - val_loss: 0.1181 - val_accuracy: 0.9678\n",
      "Epoch 123/500\n",
      "2/2 [==============================] - 0s 59ms/step - loss: 0.0381 - accuracy: 0.9872 - val_loss: 0.1151 - val_accuracy: 0.9678\n",
      "Epoch 124/500\n",
      "2/2 [==============================] - 0s 46ms/step - loss: 0.0417 - accuracy: 0.9832 - val_loss: 0.1057 - val_accuracy: 0.9705\n",
      "Epoch 125/500\n",
      "2/2 [==============================] - 0s 44ms/step - loss: 0.0503 - accuracy: 0.9799 - val_loss: 0.1041 - val_accuracy: 0.9678\n",
      "Epoch 126/500\n",
      "2/2 [==============================] - 0s 63ms/step - loss: 0.0424 - accuracy: 0.9812 - val_loss: 0.1065 - val_accuracy: 0.9705\n",
      "Epoch 127/500\n",
      "2/2 [==============================] - 0s 57ms/step - loss: 0.0458 - accuracy: 0.9825 - val_loss: 0.1137 - val_accuracy: 0.9625\n",
      "Epoch 128/500\n",
      "2/2 [==============================] - 0s 66ms/step - loss: 0.0554 - accuracy: 0.9772 - val_loss: 0.1204 - val_accuracy: 0.9625\n",
      "Epoch 129/500\n",
      "2/2 [==============================] - 0s 50ms/step - loss: 0.0399 - accuracy: 0.9879 - val_loss: 0.1205 - val_accuracy: 0.9651\n",
      "Epoch 130/500\n",
      "2/2 [==============================] - 0s 47ms/step - loss: 0.0437 - accuracy: 0.9872 - val_loss: 0.1233 - val_accuracy: 0.9598\n",
      "Epoch 131/500\n",
      "2/2 [==============================] - 0s 51ms/step - loss: 0.0488 - accuracy: 0.9805 - val_loss: 0.1266 - val_accuracy: 0.9571\n",
      "Epoch 132/500\n",
      "2/2 [==============================] - 0s 61ms/step - loss: 0.0464 - accuracy: 0.9825 - val_loss: 0.1318 - val_accuracy: 0.9544\n",
      "Epoch 133/500\n",
      "2/2 [==============================] - 0s 80ms/step - loss: 0.0428 - accuracy: 0.9886 - val_loss: 0.1329 - val_accuracy: 0.9598\n",
      "Epoch 134/500\n",
      "2/2 [==============================] - 0s 75ms/step - loss: 0.0425 - accuracy: 0.9839 - val_loss: 0.1270 - val_accuracy: 0.9625\n",
      "Epoch 135/500\n",
      "2/2 [==============================] - 0s 61ms/step - loss: 0.0409 - accuracy: 0.9866 - val_loss: 0.1166 - val_accuracy: 0.9651\n",
      "Epoch 136/500\n",
      "2/2 [==============================] - 0s 55ms/step - loss: 0.0416 - accuracy: 0.9839 - val_loss: 0.1107 - val_accuracy: 0.9732\n",
      "Epoch 137/500\n",
      "2/2 [==============================] - 0s 46ms/step - loss: 0.0419 - accuracy: 0.9819 - val_loss: 0.1093 - val_accuracy: 0.9705\n",
      "Epoch 138/500\n",
      "2/2 [==============================] - 0s 52ms/step - loss: 0.0347 - accuracy: 0.9872 - val_loss: 0.1147 - val_accuracy: 0.9651\n",
      "Epoch 139/500\n",
      "2/2 [==============================] - 0s 52ms/step - loss: 0.0368 - accuracy: 0.9859 - val_loss: 0.1218 - val_accuracy: 0.9651\n",
      "Epoch 140/500\n",
      "2/2 [==============================] - 0s 67ms/step - loss: 0.0373 - accuracy: 0.9866 - val_loss: 0.1203 - val_accuracy: 0.9678\n",
      "Epoch 141/500\n",
      "2/2 [==============================] - 0s 52ms/step - loss: 0.0374 - accuracy: 0.9859 - val_loss: 0.1142 - val_accuracy: 0.9598\n",
      "Epoch 142/500\n",
      "2/2 [==============================] - 0s 74ms/step - loss: 0.0402 - accuracy: 0.9879 - val_loss: 0.1072 - val_accuracy: 0.9625\n",
      "Epoch 143/500\n",
      "2/2 [==============================] - 0s 67ms/step - loss: 0.0410 - accuracy: 0.9859 - val_loss: 0.1059 - val_accuracy: 0.9678\n",
      "Epoch 144/500\n",
      "2/2 [==============================] - 0s 49ms/step - loss: 0.0394 - accuracy: 0.9879 - val_loss: 0.1116 - val_accuracy: 0.9678\n",
      "Epoch 145/500\n",
      "2/2 [==============================] - 0s 47ms/step - loss: 0.0362 - accuracy: 0.9872 - val_loss: 0.1183 - val_accuracy: 0.9651\n",
      "Epoch 146/500\n",
      "2/2 [==============================] - 0s 50ms/step - loss: 0.0258 - accuracy: 0.9913 - val_loss: 0.1189 - val_accuracy: 0.9651\n",
      "Epoch 147/500\n",
      "2/2 [==============================] - 0s 40ms/step - loss: 0.0320 - accuracy: 0.9893 - val_loss: 0.1198 - val_accuracy: 0.9625\n",
      "Epoch 148/500\n",
      "2/2 [==============================] - 0s 49ms/step - loss: 0.0439 - accuracy: 0.9839 - val_loss: 0.1173 - val_accuracy: 0.9651\n",
      "Epoch 149/500\n",
      "2/2 [==============================] - 0s 42ms/step - loss: 0.0392 - accuracy: 0.9872 - val_loss: 0.1143 - val_accuracy: 0.9625\n",
      "Epoch 150/500\n",
      "2/2 [==============================] - 0s 45ms/step - loss: 0.0336 - accuracy: 0.9893 - val_loss: 0.1142 - val_accuracy: 0.9651\n",
      "Epoch 151/500\n",
      "2/2 [==============================] - 0s 51ms/step - loss: 0.0347 - accuracy: 0.9886 - val_loss: 0.1235 - val_accuracy: 0.9651\n",
      "Epoch 152/500\n",
      "2/2 [==============================] - 0s 46ms/step - loss: 0.0557 - accuracy: 0.9778 - val_loss: 0.1189 - val_accuracy: 0.9651\n",
      "Epoch 153/500\n",
      "2/2 [==============================] - 0s 43ms/step - loss: 0.0471 - accuracy: 0.9825 - val_loss: 0.1213 - val_accuracy: 0.9571\n",
      "Epoch 154/500\n",
      "2/2 [==============================] - 0s 39ms/step - loss: 0.0376 - accuracy: 0.9852 - val_loss: 0.1241 - val_accuracy: 0.9598\n",
      "Epoch 155/500\n",
      "2/2 [==============================] - 0s 41ms/step - loss: 0.0424 - accuracy: 0.9832 - val_loss: 0.1149 - val_accuracy: 0.9651\n",
      "Epoch 156/500\n",
      "2/2 [==============================] - 0s 46ms/step - loss: 0.0451 - accuracy: 0.9859 - val_loss: 0.1187 - val_accuracy: 0.9651\n",
      "Epoch 157/500\n",
      "2/2 [==============================] - 0s 67ms/step - loss: 0.0416 - accuracy: 0.9832 - val_loss: 0.1341 - val_accuracy: 0.9678\n",
      "Epoch 158/500\n",
      "2/2 [==============================] - 0s 78ms/step - loss: 0.0471 - accuracy: 0.9819 - val_loss: 0.1289 - val_accuracy: 0.9625\n",
      "Epoch 159/500\n",
      "2/2 [==============================] - 0s 65ms/step - loss: 0.0376 - accuracy: 0.9866 - val_loss: 0.1313 - val_accuracy: 0.9571\n",
      "Epoch 160/500\n",
      "2/2 [==============================] - 0s 38ms/step - loss: 0.0472 - accuracy: 0.9859 - val_loss: 0.1226 - val_accuracy: 0.9598\n",
      "Epoch 161/500\n",
      "2/2 [==============================] - 0s 44ms/step - loss: 0.0403 - accuracy: 0.9859 - val_loss: 0.1184 - val_accuracy: 0.9678\n",
      "Epoch 162/500\n",
      "2/2 [==============================] - 0s 40ms/step - loss: 0.0390 - accuracy: 0.9852 - val_loss: 0.1296 - val_accuracy: 0.9651\n",
      "Epoch 163/500\n",
      "2/2 [==============================] - 0s 39ms/step - loss: 0.0458 - accuracy: 0.9799 - val_loss: 0.1307 - val_accuracy: 0.9651\n",
      "Epoch 164/500\n",
      "2/2 [==============================] - 0s 46ms/step - loss: 0.0526 - accuracy: 0.9819 - val_loss: 0.1157 - val_accuracy: 0.9678\n",
      "Epoch 165/500\n",
      "2/2 [==============================] - 0s 54ms/step - loss: 0.0437 - accuracy: 0.9852 - val_loss: 0.1234 - val_accuracy: 0.9625\n",
      "Epoch 166/500\n",
      "2/2 [==============================] - 0s 69ms/step - loss: 0.0442 - accuracy: 0.9825 - val_loss: 0.1364 - val_accuracy: 0.9517\n",
      "Epoch 167/500\n",
      "2/2 [==============================] - 0s 53ms/step - loss: 0.0384 - accuracy: 0.9866 - val_loss: 0.1364 - val_accuracy: 0.9571\n",
      "Epoch 168/500\n",
      "2/2 [==============================] - 0s 80ms/step - loss: 0.0315 - accuracy: 0.9872 - val_loss: 0.1213 - val_accuracy: 0.9651\n",
      "Epoch 169/500\n",
      "2/2 [==============================] - 0s 60ms/step - loss: 0.0435 - accuracy: 0.9839 - val_loss: 0.1203 - val_accuracy: 0.9678\n",
      "Epoch 170/500\n",
      "2/2 [==============================] - 0s 62ms/step - loss: 0.0404 - accuracy: 0.9846 - val_loss: 0.1219 - val_accuracy: 0.9651\n",
      "Epoch 171/500\n",
      "2/2 [==============================] - 0s 74ms/step - loss: 0.0415 - accuracy: 0.9879 - val_loss: 0.1346 - val_accuracy: 0.9625\n",
      "Epoch 172/500\n",
      "2/2 [==============================] - 0s 48ms/step - loss: 0.0378 - accuracy: 0.9846 - val_loss: 0.1499 - val_accuracy: 0.9625\n",
      "Epoch 173/500\n",
      "2/2 [==============================] - 0s 60ms/step - loss: 0.0396 - accuracy: 0.9852 - val_loss: 0.1486 - val_accuracy: 0.9625\n",
      "Epoch 174/500\n",
      "2/2 [==============================] - 0s 58ms/step - loss: 0.0410 - accuracy: 0.9859 - val_loss: 0.1357 - val_accuracy: 0.9625\n",
      "Epoch 175/500\n",
      "2/2 [==============================] - 0s 65ms/step - loss: 0.0357 - accuracy: 0.9886 - val_loss: 0.1245 - val_accuracy: 0.9678\n",
      "Epoch 176/500\n",
      "2/2 [==============================] - 0s 60ms/step - loss: 0.0480 - accuracy: 0.9825 - val_loss: 0.1181 - val_accuracy: 0.9678\n",
      "Epoch 177/500\n",
      "2/2 [==============================] - 0s 54ms/step - loss: 0.0401 - accuracy: 0.9872 - val_loss: 0.1171 - val_accuracy: 0.9705\n",
      "Epoch 178/500\n",
      "2/2 [==============================] - 0s 48ms/step - loss: 0.0439 - accuracy: 0.9832 - val_loss: 0.1272 - val_accuracy: 0.9598\n",
      "Epoch 179/500\n",
      "2/2 [==============================] - 0s 47ms/step - loss: 0.0411 - accuracy: 0.9832 - val_loss: 0.1360 - val_accuracy: 0.9625\n",
      "Epoch 180/500\n",
      "2/2 [==============================] - 0s 48ms/step - loss: 0.0399 - accuracy: 0.9846 - val_loss: 0.1411 - val_accuracy: 0.9625\n",
      "Epoch 181/500\n",
      "2/2 [==============================] - 0s 61ms/step - loss: 0.0366 - accuracy: 0.9879 - val_loss: 0.1376 - val_accuracy: 0.9625\n",
      "Epoch 182/500\n",
      "2/2 [==============================] - 0s 54ms/step - loss: 0.0404 - accuracy: 0.9846 - val_loss: 0.1266 - val_accuracy: 0.9598\n",
      "Epoch 183/500\n",
      "2/2 [==============================] - 0s 50ms/step - loss: 0.0356 - accuracy: 0.9893 - val_loss: 0.1249 - val_accuracy: 0.9571\n",
      "Epoch 184/500\n",
      "2/2 [==============================] - 0s 46ms/step - loss: 0.0363 - accuracy: 0.9852 - val_loss: 0.1175 - val_accuracy: 0.9678\n",
      "Epoch 185/500\n",
      "2/2 [==============================] - 0s 49ms/step - loss: 0.0428 - accuracy: 0.9825 - val_loss: 0.1198 - val_accuracy: 0.9651\n",
      "Epoch 186/500\n",
      "2/2 [==============================] - 0s 41ms/step - loss: 0.0334 - accuracy: 0.9893 - val_loss: 0.1158 - val_accuracy: 0.9544\n",
      "Epoch 187/500\n",
      "2/2 [==============================] - 0s 46ms/step - loss: 0.0327 - accuracy: 0.9893 - val_loss: 0.1176 - val_accuracy: 0.9544\n",
      "Epoch 188/500\n",
      "2/2 [==============================] - 0s 42ms/step - loss: 0.0415 - accuracy: 0.9866 - val_loss: 0.1111 - val_accuracy: 0.9678\n",
      "Epoch 189/500\n",
      "2/2 [==============================] - 0s 49ms/step - loss: 0.0393 - accuracy: 0.9825 - val_loss: 0.1161 - val_accuracy: 0.9705\n",
      "Epoch 190/500\n",
      "2/2 [==============================] - 0s 37ms/step - loss: 0.0419 - accuracy: 0.9825 - val_loss: 0.1236 - val_accuracy: 0.9625\n",
      "Epoch 191/500\n",
      "2/2 [==============================] - 0s 43ms/step - loss: 0.0310 - accuracy: 0.9879 - val_loss: 0.1279 - val_accuracy: 0.9598\n",
      "Epoch 192/500\n",
      "2/2 [==============================] - 0s 47ms/step - loss: 0.0478 - accuracy: 0.9819 - val_loss: 0.1186 - val_accuracy: 0.9651\n",
      "Epoch 193/500\n",
      "2/2 [==============================] - 0s 42ms/step - loss: 0.0354 - accuracy: 0.9872 - val_loss: 0.1087 - val_accuracy: 0.9705\n",
      "Epoch 194/500\n",
      "2/2 [==============================] - 0s 51ms/step - loss: 0.0355 - accuracy: 0.9859 - val_loss: 0.1117 - val_accuracy: 0.9678\n",
      "Epoch 195/500\n",
      "2/2 [==============================] - 0s 40ms/step - loss: 0.0412 - accuracy: 0.9846 - val_loss: 0.1200 - val_accuracy: 0.9571\n",
      "Epoch 196/500\n",
      "2/2 [==============================] - 0s 50ms/step - loss: 0.0410 - accuracy: 0.9846 - val_loss: 0.1350 - val_accuracy: 0.9544\n",
      "Epoch 197/500\n",
      "2/2 [==============================] - 0s 47ms/step - loss: 0.0360 - accuracy: 0.9872 - val_loss: 0.1288 - val_accuracy: 0.9651\n",
      "Epoch 198/500\n",
      "2/2 [==============================] - 0s 47ms/step - loss: 0.0315 - accuracy: 0.9899 - val_loss: 0.1194 - val_accuracy: 0.9678\n",
      "Epoch 199/500\n",
      "2/2 [==============================] - 0s 46ms/step - loss: 0.0449 - accuracy: 0.9825 - val_loss: 0.1157 - val_accuracy: 0.9678\n",
      "Epoch 200/500\n",
      "2/2 [==============================] - 0s 48ms/step - loss: 0.0353 - accuracy: 0.9879 - val_loss: 0.1212 - val_accuracy: 0.9625\n",
      "Epoch 201/500\n",
      "2/2 [==============================] - 0s 46ms/step - loss: 0.0395 - accuracy: 0.9859 - val_loss: 0.1263 - val_accuracy: 0.9625\n",
      "Epoch 202/500\n",
      "2/2 [==============================] - 0s 43ms/step - loss: 0.0375 - accuracy: 0.9866 - val_loss: 0.1194 - val_accuracy: 0.9651\n",
      "Epoch 203/500\n",
      "2/2 [==============================] - 0s 43ms/step - loss: 0.0396 - accuracy: 0.9879 - val_loss: 0.1117 - val_accuracy: 0.9732\n",
      "Epoch 204/500\n",
      "2/2 [==============================] - 0s 47ms/step - loss: 0.0271 - accuracy: 0.9906 - val_loss: 0.1144 - val_accuracy: 0.9705\n",
      "Epoch 205/500\n",
      "2/2 [==============================] - 0s 47ms/step - loss: 0.0397 - accuracy: 0.9839 - val_loss: 0.1190 - val_accuracy: 0.9625\n",
      "Epoch 206/500\n",
      "2/2 [==============================] - 0s 41ms/step - loss: 0.0397 - accuracy: 0.9825 - val_loss: 0.1239 - val_accuracy: 0.9625\n",
      "Epoch 207/500\n",
      "2/2 [==============================] - 0s 47ms/step - loss: 0.0340 - accuracy: 0.9872 - val_loss: 0.1263 - val_accuracy: 0.9625\n",
      "Epoch 208/500\n",
      "2/2 [==============================] - 0s 42ms/step - loss: 0.0350 - accuracy: 0.9886 - val_loss: 0.1260 - val_accuracy: 0.9625\n",
      "Epoch 209/500\n",
      "2/2 [==============================] - 0s 52ms/step - loss: 0.0308 - accuracy: 0.9899 - val_loss: 0.1207 - val_accuracy: 0.9678\n",
      "Epoch 210/500\n",
      "2/2 [==============================] - 0s 46ms/step - loss: 0.0335 - accuracy: 0.9872 - val_loss: 0.1157 - val_accuracy: 0.9678\n",
      "Epoch 211/500\n",
      "2/2 [==============================] - 0s 46ms/step - loss: 0.0328 - accuracy: 0.9879 - val_loss: 0.1167 - val_accuracy: 0.9625\n",
      "Epoch 212/500\n",
      "2/2 [==============================] - 0s 44ms/step - loss: 0.0402 - accuracy: 0.9846 - val_loss: 0.1253 - val_accuracy: 0.9625\n",
      "Epoch 213/500\n",
      "2/2 [==============================] - 0s 45ms/step - loss: 0.0318 - accuracy: 0.9899 - val_loss: 0.1301 - val_accuracy: 0.9625\n",
      "Epoch 214/500\n",
      "2/2 [==============================] - 0s 46ms/step - loss: 0.0315 - accuracy: 0.9872 - val_loss: 0.1321 - val_accuracy: 0.9571\n",
      "Epoch 215/500\n",
      "2/2 [==============================] - 0s 51ms/step - loss: 0.0390 - accuracy: 0.9846 - val_loss: 0.1248 - val_accuracy: 0.9598\n",
      "Epoch 216/500\n",
      "2/2 [==============================] - 0s 45ms/step - loss: 0.0362 - accuracy: 0.9866 - val_loss: 0.1235 - val_accuracy: 0.9625\n",
      "Epoch 217/500\n",
      "2/2 [==============================] - 0s 45ms/step - loss: 0.0399 - accuracy: 0.9839 - val_loss: 0.1126 - val_accuracy: 0.9651\n",
      "Epoch 218/500\n",
      "2/2 [==============================] - 0s 47ms/step - loss: 0.0340 - accuracy: 0.9879 - val_loss: 0.1100 - val_accuracy: 0.9678\n",
      "Epoch 219/500\n",
      "2/2 [==============================] - 0s 39ms/step - loss: 0.0314 - accuracy: 0.9899 - val_loss: 0.1112 - val_accuracy: 0.9625\n",
      "Epoch 220/500\n",
      "2/2 [==============================] - 0s 49ms/step - loss: 0.0293 - accuracy: 0.9899 - val_loss: 0.1125 - val_accuracy: 0.9625\n",
      "Epoch 221/500\n",
      "2/2 [==============================] - 0s 42ms/step - loss: 0.0332 - accuracy: 0.9866 - val_loss: 0.1152 - val_accuracy: 0.9571\n",
      "Epoch 222/500\n",
      "2/2 [==============================] - 0s 40ms/step - loss: 0.0370 - accuracy: 0.9839 - val_loss: 0.1146 - val_accuracy: 0.9651\n",
      "Epoch 223/500\n",
      "2/2 [==============================] - 0s 43ms/step - loss: 0.0355 - accuracy: 0.9846 - val_loss: 0.1144 - val_accuracy: 0.9705\n",
      "Epoch 224/500\n",
      "2/2 [==============================] - 0s 43ms/step - loss: 0.0415 - accuracy: 0.9846 - val_loss: 0.1205 - val_accuracy: 0.9651\n",
      "Epoch 225/500\n",
      "2/2 [==============================] - 0s 45ms/step - loss: 0.0345 - accuracy: 0.9872 - val_loss: 0.1294 - val_accuracy: 0.9598\n",
      "Epoch 226/500\n",
      "2/2 [==============================] - 0s 43ms/step - loss: 0.0394 - accuracy: 0.9825 - val_loss: 0.1292 - val_accuracy: 0.9651\n",
      "Epoch 227/500\n",
      "2/2 [==============================] - 0s 40ms/step - loss: 0.0289 - accuracy: 0.9886 - val_loss: 0.1238 - val_accuracy: 0.9651\n",
      "Epoch 228/500\n",
      "2/2 [==============================] - 0s 44ms/step - loss: 0.0334 - accuracy: 0.9886 - val_loss: 0.1162 - val_accuracy: 0.9678\n",
      "Epoch 229/500\n",
      "2/2 [==============================] - 0s 44ms/step - loss: 0.0354 - accuracy: 0.9859 - val_loss: 0.1174 - val_accuracy: 0.9651\n",
      "Epoch 230/500\n",
      "2/2 [==============================] - 0s 42ms/step - loss: 0.0332 - accuracy: 0.9913 - val_loss: 0.1271 - val_accuracy: 0.9651\n",
      "Epoch 231/500\n",
      "2/2 [==============================] - 0s 48ms/step - loss: 0.0344 - accuracy: 0.9906 - val_loss: 0.1342 - val_accuracy: 0.9625\n",
      "Epoch 232/500\n",
      "2/2 [==============================] - 0s 49ms/step - loss: 0.0374 - accuracy: 0.9859 - val_loss: 0.1397 - val_accuracy: 0.9571\n",
      "Epoch 233/500\n",
      "2/2 [==============================] - 0s 64ms/step - loss: 0.0297 - accuracy: 0.9899 - val_loss: 0.1534 - val_accuracy: 0.9571\n",
      "Epoch 234/500\n",
      "2/2 [==============================] - 0s 50ms/step - loss: 0.0351 - accuracy: 0.9859 - val_loss: 0.1423 - val_accuracy: 0.9544\n",
      "Epoch 235/500\n",
      "2/2 [==============================] - 0s 64ms/step - loss: 0.0314 - accuracy: 0.9899 - val_loss: 0.1290 - val_accuracy: 0.9625\n",
      "Epoch 236/500\n",
      "2/2 [==============================] - 0s 61ms/step - loss: 0.0347 - accuracy: 0.9899 - val_loss: 0.1265 - val_accuracy: 0.9625\n",
      "Epoch 237/500\n",
      "2/2 [==============================] - 0s 52ms/step - loss: 0.0317 - accuracy: 0.9879 - val_loss: 0.1319 - val_accuracy: 0.9651\n",
      "Epoch 238/500\n",
      "2/2 [==============================] - 0s 65ms/step - loss: 0.0285 - accuracy: 0.9899 - val_loss: 0.1268 - val_accuracy: 0.9651\n",
      "Epoch 239/500\n",
      "2/2 [==============================] - 0s 60ms/step - loss: 0.0396 - accuracy: 0.9872 - val_loss: 0.1347 - val_accuracy: 0.9678\n",
      "Epoch 240/500\n",
      "2/2 [==============================] - 0s 51ms/step - loss: 0.0425 - accuracy: 0.9852 - val_loss: 0.1394 - val_accuracy: 0.9625\n",
      "Epoch 241/500\n",
      "2/2 [==============================] - 0s 50ms/step - loss: 0.0350 - accuracy: 0.9886 - val_loss: 0.1324 - val_accuracy: 0.9651\n",
      "Epoch 242/500\n",
      "2/2 [==============================] - 0s 60ms/step - loss: 0.0351 - accuracy: 0.9886 - val_loss: 0.1230 - val_accuracy: 0.9705\n",
      "Epoch 243/500\n",
      "2/2 [==============================] - 0s 49ms/step - loss: 0.0291 - accuracy: 0.9879 - val_loss: 0.1217 - val_accuracy: 0.9678\n",
      "Epoch 244/500\n",
      "2/2 [==============================] - 0s 53ms/step - loss: 0.0383 - accuracy: 0.9832 - val_loss: 0.1242 - val_accuracy: 0.9678\n",
      "Epoch 245/500\n",
      "2/2 [==============================] - 0s 54ms/step - loss: 0.0374 - accuracy: 0.9846 - val_loss: 0.1320 - val_accuracy: 0.9625\n",
      "Epoch 246/500\n",
      "2/2 [==============================] - 0s 65ms/step - loss: 0.0273 - accuracy: 0.9886 - val_loss: 0.1507 - val_accuracy: 0.9517\n",
      "Epoch 247/500\n",
      "2/2 [==============================] - 0s 72ms/step - loss: 0.0484 - accuracy: 0.9785 - val_loss: 0.1296 - val_accuracy: 0.9625\n",
      "Epoch 248/500\n",
      "2/2 [==============================] - 0s 49ms/step - loss: 0.0313 - accuracy: 0.9859 - val_loss: 0.1289 - val_accuracy: 0.9732\n",
      "Epoch 249/500\n",
      "2/2 [==============================] - 0s 50ms/step - loss: 0.0442 - accuracy: 0.9805 - val_loss: 0.1329 - val_accuracy: 0.9598\n",
      "Epoch 250/500\n",
      "2/2 [==============================] - 0s 66ms/step - loss: 0.0362 - accuracy: 0.9913 - val_loss: 0.1485 - val_accuracy: 0.9598\n",
      "Epoch 251/500\n",
      "2/2 [==============================] - 0s 54ms/step - loss: 0.0457 - accuracy: 0.9839 - val_loss: 0.1439 - val_accuracy: 0.9544\n",
      "Epoch 252/500\n",
      "2/2 [==============================] - 0s 44ms/step - loss: 0.0394 - accuracy: 0.9859 - val_loss: 0.1486 - val_accuracy: 0.9598\n",
      "Epoch 253/500\n",
      "2/2 [==============================] - 0s 48ms/step - loss: 0.0406 - accuracy: 0.9859 - val_loss: 0.1457 - val_accuracy: 0.9598\n",
      "Epoch 254/500\n",
      "2/2 [==============================] - 0s 44ms/step - loss: 0.0307 - accuracy: 0.9919 - val_loss: 0.1486 - val_accuracy: 0.9598\n",
      "Epoch 255/500\n",
      "2/2 [==============================] - 0s 45ms/step - loss: 0.0441 - accuracy: 0.9852 - val_loss: 0.1405 - val_accuracy: 0.9598\n",
      "Epoch 256/500\n",
      "2/2 [==============================] - 0s 42ms/step - loss: 0.0360 - accuracy: 0.9879 - val_loss: 0.1299 - val_accuracy: 0.9651\n",
      "Epoch 257/500\n",
      "2/2 [==============================] - 0s 46ms/step - loss: 0.0378 - accuracy: 0.9859 - val_loss: 0.1185 - val_accuracy: 0.9678\n",
      "Epoch 258/500\n",
      "2/2 [==============================] - 0s 44ms/step - loss: 0.0412 - accuracy: 0.9825 - val_loss: 0.1170 - val_accuracy: 0.9651\n",
      "Epoch 259/500\n",
      "2/2 [==============================] - 0s 45ms/step - loss: 0.0330 - accuracy: 0.9846 - val_loss: 0.1305 - val_accuracy: 0.9625\n",
      "Epoch 260/500\n",
      "2/2 [==============================] - 0s 44ms/step - loss: 0.0465 - accuracy: 0.9792 - val_loss: 0.1274 - val_accuracy: 0.9625\n",
      "Epoch 261/500\n",
      "2/2 [==============================] - 0s 55ms/step - loss: 0.0432 - accuracy: 0.9846 - val_loss: 0.1376 - val_accuracy: 0.9571\n",
      "Epoch 262/500\n",
      "2/2 [==============================] - 0s 57ms/step - loss: 0.0462 - accuracy: 0.9839 - val_loss: 0.1289 - val_accuracy: 0.9651\n",
      "Epoch 263/500\n",
      "2/2 [==============================] - 0s 72ms/step - loss: 0.0338 - accuracy: 0.9886 - val_loss: 0.1458 - val_accuracy: 0.9517\n",
      "Epoch 264/500\n",
      "2/2 [==============================] - 0s 56ms/step - loss: 0.0435 - accuracy: 0.9832 - val_loss: 0.1334 - val_accuracy: 0.9598\n",
      "Epoch 265/500\n",
      "2/2 [==============================] - 0s 57ms/step - loss: 0.0303 - accuracy: 0.9919 - val_loss: 0.1332 - val_accuracy: 0.9571\n",
      "Epoch 266/500\n",
      "2/2 [==============================] - 0s 76ms/step - loss: 0.0414 - accuracy: 0.9839 - val_loss: 0.1328 - val_accuracy: 0.9598\n",
      "Epoch 267/500\n",
      "2/2 [==============================] - 0s 51ms/step - loss: 0.0312 - accuracy: 0.9879 - val_loss: 0.1431 - val_accuracy: 0.9571\n",
      "Epoch 268/500\n",
      "2/2 [==============================] - 0s 74ms/step - loss: 0.0460 - accuracy: 0.9819 - val_loss: 0.1356 - val_accuracy: 0.9625\n",
      "Epoch 269/500\n",
      "2/2 [==============================] - 0s 52ms/step - loss: 0.0408 - accuracy: 0.9872 - val_loss: 0.1230 - val_accuracy: 0.9651\n",
      "Epoch 270/500\n",
      "2/2 [==============================] - 0s 49ms/step - loss: 0.0381 - accuracy: 0.9866 - val_loss: 0.1193 - val_accuracy: 0.9678\n",
      "Epoch 271/500\n",
      "2/2 [==============================] - 0s 54ms/step - loss: 0.0435 - accuracy: 0.9832 - val_loss: 0.1222 - val_accuracy: 0.9625\n",
      "Epoch 272/500\n",
      "2/2 [==============================] - 0s 66ms/step - loss: 0.0374 - accuracy: 0.9852 - val_loss: 0.1280 - val_accuracy: 0.9598\n",
      "Epoch 273/500\n",
      "2/2 [==============================] - 0s 69ms/step - loss: 0.0370 - accuracy: 0.9866 - val_loss: 0.1327 - val_accuracy: 0.9598\n",
      "Epoch 274/500\n",
      "2/2 [==============================] - 0s 61ms/step - loss: 0.0386 - accuracy: 0.9872 - val_loss: 0.1293 - val_accuracy: 0.9625\n",
      "Epoch 275/500\n",
      "2/2 [==============================] - 0s 76ms/step - loss: 0.0329 - accuracy: 0.9879 - val_loss: 0.1140 - val_accuracy: 0.9651\n",
      "Epoch 276/500\n",
      "2/2 [==============================] - 0s 68ms/step - loss: 0.0404 - accuracy: 0.9872 - val_loss: 0.1124 - val_accuracy: 0.9651\n",
      "Epoch 277/500\n",
      "2/2 [==============================] - 0s 62ms/step - loss: 0.0424 - accuracy: 0.9879 - val_loss: 0.1168 - val_accuracy: 0.9625\n",
      "Epoch 278/500\n",
      "2/2 [==============================] - 0s 60ms/step - loss: 0.0379 - accuracy: 0.9866 - val_loss: 0.1206 - val_accuracy: 0.9678\n",
      "Epoch 279/500\n",
      "2/2 [==============================] - 0s 57ms/step - loss: 0.0347 - accuracy: 0.9859 - val_loss: 0.1241 - val_accuracy: 0.9651\n",
      "Epoch 280/500\n",
      "2/2 [==============================] - 0s 58ms/step - loss: 0.0353 - accuracy: 0.9886 - val_loss: 0.1338 - val_accuracy: 0.9625\n",
      "Epoch 281/500\n",
      "2/2 [==============================] - 0s 43ms/step - loss: 0.0292 - accuracy: 0.9913 - val_loss: 0.1374 - val_accuracy: 0.9625\n",
      "Epoch 282/500\n",
      "2/2 [==============================] - 0s 46ms/step - loss: 0.0347 - accuracy: 0.9893 - val_loss: 0.1306 - val_accuracy: 0.9625\n",
      "Epoch 283/500\n",
      "2/2 [==============================] - 0s 77ms/step - loss: 0.0319 - accuracy: 0.9879 - val_loss: 0.1277 - val_accuracy: 0.9678\n",
      "Epoch 284/500\n",
      "2/2 [==============================] - 0s 78ms/step - loss: 0.0331 - accuracy: 0.9886 - val_loss: 0.1291 - val_accuracy: 0.9651\n",
      "Epoch 285/500\n",
      "2/2 [==============================] - 0s 67ms/step - loss: 0.0423 - accuracy: 0.9859 - val_loss: 0.1308 - val_accuracy: 0.9625\n",
      "Epoch 286/500\n",
      "2/2 [==============================] - 0s 58ms/step - loss: 0.0308 - accuracy: 0.9906 - val_loss: 0.1354 - val_accuracy: 0.9598\n",
      "Epoch 287/500\n",
      "2/2 [==============================] - 0s 63ms/step - loss: 0.0351 - accuracy: 0.9866 - val_loss: 0.1335 - val_accuracy: 0.9544\n",
      "Epoch 288/500\n",
      "2/2 [==============================] - 0s 55ms/step - loss: 0.0302 - accuracy: 0.9906 - val_loss: 0.1288 - val_accuracy: 0.9598\n",
      "Epoch 289/500\n",
      "2/2 [==============================] - 0s 50ms/step - loss: 0.0418 - accuracy: 0.9839 - val_loss: 0.1190 - val_accuracy: 0.9651\n",
      "Epoch 290/500\n",
      "2/2 [==============================] - 0s 58ms/step - loss: 0.0376 - accuracy: 0.9872 - val_loss: 0.1161 - val_accuracy: 0.9651\n",
      "Epoch 291/500\n",
      "2/2 [==============================] - 0s 62ms/step - loss: 0.0239 - accuracy: 0.9940 - val_loss: 0.1162 - val_accuracy: 0.9678\n",
      "Epoch 292/500\n",
      "2/2 [==============================] - 0s 59ms/step - loss: 0.0327 - accuracy: 0.9893 - val_loss: 0.1231 - val_accuracy: 0.9678\n",
      "Epoch 293/500\n",
      "2/2 [==============================] - 0s 75ms/step - loss: 0.0353 - accuracy: 0.9899 - val_loss: 0.1288 - val_accuracy: 0.9678\n",
      "Epoch 294/500\n",
      "2/2 [==============================] - 0s 62ms/step - loss: 0.0237 - accuracy: 0.9913 - val_loss: 0.1312 - val_accuracy: 0.9651\n",
      "Epoch 295/500\n",
      "2/2 [==============================] - 0s 73ms/step - loss: 0.0390 - accuracy: 0.9872 - val_loss: 0.1275 - val_accuracy: 0.9651\n",
      "Epoch 296/500\n",
      "2/2 [==============================] - 0s 54ms/step - loss: 0.0350 - accuracy: 0.9872 - val_loss: 0.1279 - val_accuracy: 0.9651\n",
      "Epoch 297/500\n",
      "2/2 [==============================] - 0s 65ms/step - loss: 0.0272 - accuracy: 0.9886 - val_loss: 0.1379 - val_accuracy: 0.9625\n",
      "Epoch 298/500\n",
      "2/2 [==============================] - 0s 50ms/step - loss: 0.0289 - accuracy: 0.9913 - val_loss: 0.1481 - val_accuracy: 0.9571\n",
      "Epoch 299/500\n",
      "2/2 [==============================] - 0s 86ms/step - loss: 0.0266 - accuracy: 0.9926 - val_loss: 0.1501 - val_accuracy: 0.9598\n",
      "Epoch 300/500\n",
      "2/2 [==============================] - 0s 51ms/step - loss: 0.0485 - accuracy: 0.9825 - val_loss: 0.1461 - val_accuracy: 0.9598\n",
      "Epoch 301/500\n",
      "2/2 [==============================] - 0s 57ms/step - loss: 0.0398 - accuracy: 0.9846 - val_loss: 0.1369 - val_accuracy: 0.9705\n",
      "Epoch 302/500\n",
      "2/2 [==============================] - 0s 57ms/step - loss: 0.0385 - accuracy: 0.9886 - val_loss: 0.1355 - val_accuracy: 0.9705\n",
      "Epoch 303/500\n",
      "2/2 [==============================] - 0s 64ms/step - loss: 0.0309 - accuracy: 0.9893 - val_loss: 0.1426 - val_accuracy: 0.9625\n",
      "Epoch 304/500\n",
      "2/2 [==============================] - 0s 68ms/step - loss: 0.0263 - accuracy: 0.9906 - val_loss: 0.1553 - val_accuracy: 0.9625\n",
      "Epoch 305/500\n",
      "2/2 [==============================] - 0s 62ms/step - loss: 0.0290 - accuracy: 0.9913 - val_loss: 0.1638 - val_accuracy: 0.9571\n",
      "Epoch 306/500\n",
      "2/2 [==============================] - 0s 61ms/step - loss: 0.0376 - accuracy: 0.9859 - val_loss: 0.1525 - val_accuracy: 0.9598\n",
      "Epoch 307/500\n",
      "2/2 [==============================] - 0s 68ms/step - loss: 0.0312 - accuracy: 0.9886 - val_loss: 0.1417 - val_accuracy: 0.9625\n",
      "Epoch 308/500\n",
      "2/2 [==============================] - 0s 63ms/step - loss: 0.0291 - accuracy: 0.9893 - val_loss: 0.1277 - val_accuracy: 0.9678\n",
      "Epoch 309/500\n",
      "2/2 [==============================] - 0s 53ms/step - loss: 0.0326 - accuracy: 0.9879 - val_loss: 0.1154 - val_accuracy: 0.9651\n",
      "Epoch 310/500\n",
      "2/2 [==============================] - 0s 54ms/step - loss: 0.0361 - accuracy: 0.9872 - val_loss: 0.1231 - val_accuracy: 0.9625\n",
      "Epoch 311/500\n",
      "2/2 [==============================] - 0s 60ms/step - loss: 0.0260 - accuracy: 0.9893 - val_loss: 0.1380 - val_accuracy: 0.9544\n",
      "Epoch 312/500\n",
      "2/2 [==============================] - 0s 56ms/step - loss: 0.0389 - accuracy: 0.9866 - val_loss: 0.1392 - val_accuracy: 0.9544\n",
      "Epoch 313/500\n",
      "2/2 [==============================] - 0s 93ms/step - loss: 0.0343 - accuracy: 0.9899 - val_loss: 0.1307 - val_accuracy: 0.9598\n",
      "Epoch 314/500\n",
      "2/2 [==============================] - 0s 50ms/step - loss: 0.0334 - accuracy: 0.9886 - val_loss: 0.1281 - val_accuracy: 0.9705\n",
      "Epoch 315/500\n",
      "2/2 [==============================] - 0s 66ms/step - loss: 0.0357 - accuracy: 0.9866 - val_loss: 0.1272 - val_accuracy: 0.9651\n",
      "Epoch 316/500\n",
      "2/2 [==============================] - 0s 60ms/step - loss: 0.0311 - accuracy: 0.9893 - val_loss: 0.1318 - val_accuracy: 0.9625\n",
      "Epoch 317/500\n",
      "2/2 [==============================] - 0s 72ms/step - loss: 0.0308 - accuracy: 0.9886 - val_loss: 0.1487 - val_accuracy: 0.9625\n",
      "Epoch 318/500\n",
      "2/2 [==============================] - 0s 75ms/step - loss: 0.0303 - accuracy: 0.9886 - val_loss: 0.1415 - val_accuracy: 0.9598\n",
      "Epoch 319/500\n",
      "2/2 [==============================] - 0s 66ms/step - loss: 0.0348 - accuracy: 0.9879 - val_loss: 0.1290 - val_accuracy: 0.9678\n",
      "Epoch 320/500\n",
      "2/2 [==============================] - 0s 78ms/step - loss: 0.0277 - accuracy: 0.9913 - val_loss: 0.1201 - val_accuracy: 0.9732\n",
      "Epoch 321/500\n",
      "2/2 [==============================] - 0s 54ms/step - loss: 0.0383 - accuracy: 0.9879 - val_loss: 0.1208 - val_accuracy: 0.9678\n",
      "Epoch 322/500\n",
      "2/2 [==============================] - 0s 49ms/step - loss: 0.0363 - accuracy: 0.9879 - val_loss: 0.1300 - val_accuracy: 0.9625\n",
      "Epoch 323/500\n",
      "2/2 [==============================] - 0s 61ms/step - loss: 0.0242 - accuracy: 0.9913 - val_loss: 0.1398 - val_accuracy: 0.9571\n",
      "Epoch 324/500\n",
      "2/2 [==============================] - 0s 74ms/step - loss: 0.0286 - accuracy: 0.9899 - val_loss: 0.1376 - val_accuracy: 0.9625\n",
      "Epoch 325/500\n",
      "2/2 [==============================] - 0s 58ms/step - loss: 0.0286 - accuracy: 0.9886 - val_loss: 0.1356 - val_accuracy: 0.9651\n",
      "Epoch 326/500\n",
      "2/2 [==============================] - 0s 56ms/step - loss: 0.0294 - accuracy: 0.9872 - val_loss: 0.1357 - val_accuracy: 0.9625\n",
      "Epoch 327/500\n",
      "2/2 [==============================] - 0s 53ms/step - loss: 0.0344 - accuracy: 0.9866 - val_loss: 0.1263 - val_accuracy: 0.9651\n",
      "Epoch 328/500\n",
      "2/2 [==============================] - 0s 54ms/step - loss: 0.0301 - accuracy: 0.9906 - val_loss: 0.1229 - val_accuracy: 0.9598\n",
      "Epoch 329/500\n",
      "2/2 [==============================] - 0s 85ms/step - loss: 0.0349 - accuracy: 0.9886 - val_loss: 0.1260 - val_accuracy: 0.9544\n",
      "Epoch 330/500\n",
      "2/2 [==============================] - 0s 60ms/step - loss: 0.0329 - accuracy: 0.9879 - val_loss: 0.1397 - val_accuracy: 0.9544\n",
      "Epoch 331/500\n",
      "2/2 [==============================] - 0s 66ms/step - loss: 0.0298 - accuracy: 0.9899 - val_loss: 0.1539 - val_accuracy: 0.9571\n",
      "Epoch 332/500\n",
      "2/2 [==============================] - 0s 71ms/step - loss: 0.0370 - accuracy: 0.9872 - val_loss: 0.1450 - val_accuracy: 0.9598\n",
      "Epoch 333/500\n",
      "2/2 [==============================] - 0s 45ms/step - loss: 0.0284 - accuracy: 0.9893 - val_loss: 0.1239 - val_accuracy: 0.9678\n",
      "Epoch 334/500\n",
      "2/2 [==============================] - 0s 66ms/step - loss: 0.0319 - accuracy: 0.9879 - val_loss: 0.1162 - val_accuracy: 0.9625\n",
      "Epoch 335/500\n",
      "2/2 [==============================] - 0s 48ms/step - loss: 0.0342 - accuracy: 0.9872 - val_loss: 0.1133 - val_accuracy: 0.9625\n",
      "Epoch 336/500\n",
      "2/2 [==============================] - 0s 67ms/step - loss: 0.0465 - accuracy: 0.9839 - val_loss: 0.1141 - val_accuracy: 0.9705\n",
      "Epoch 337/500\n",
      "2/2 [==============================] - 0s 52ms/step - loss: 0.0330 - accuracy: 0.9906 - val_loss: 0.1276 - val_accuracy: 0.9625\n",
      "Epoch 338/500\n",
      "2/2 [==============================] - 0s 65ms/step - loss: 0.0331 - accuracy: 0.9872 - val_loss: 0.1429 - val_accuracy: 0.9571\n",
      "Epoch 339/500\n",
      "2/2 [==============================] - 0s 72ms/step - loss: 0.0397 - accuracy: 0.9859 - val_loss: 0.1278 - val_accuracy: 0.9651\n",
      "Epoch 340/500\n",
      "2/2 [==============================] - 0s 59ms/step - loss: 0.0388 - accuracy: 0.9846 - val_loss: 0.1255 - val_accuracy: 0.9678\n",
      "Epoch 341/500\n",
      "2/2 [==============================] - 0s 50ms/step - loss: 0.0426 - accuracy: 0.9846 - val_loss: 0.1333 - val_accuracy: 0.9571\n",
      "Epoch 342/500\n",
      "2/2 [==============================] - 0s 55ms/step - loss: 0.0330 - accuracy: 0.9886 - val_loss: 0.1348 - val_accuracy: 0.9598\n",
      "Epoch 343/500\n",
      "2/2 [==============================] - 0s 66ms/step - loss: 0.0354 - accuracy: 0.9879 - val_loss: 0.1313 - val_accuracy: 0.9598\n",
      "Epoch 344/500\n",
      "2/2 [==============================] - 0s 75ms/step - loss: 0.0328 - accuracy: 0.9879 - val_loss: 0.1332 - val_accuracy: 0.9678\n",
      "Epoch 345/500\n",
      "2/2 [==============================] - 0s 64ms/step - loss: 0.0393 - accuracy: 0.9846 - val_loss: 0.1221 - val_accuracy: 0.9651\n",
      "Epoch 346/500\n",
      "2/2 [==============================] - 0s 59ms/step - loss: 0.0324 - accuracy: 0.9893 - val_loss: 0.1325 - val_accuracy: 0.9598\n",
      "Epoch 347/500\n",
      "2/2 [==============================] - 0s 53ms/step - loss: 0.0308 - accuracy: 0.9886 - val_loss: 0.1289 - val_accuracy: 0.9598\n",
      "Epoch 348/500\n",
      "2/2 [==============================] - 0s 84ms/step - loss: 0.0350 - accuracy: 0.9872 - val_loss: 0.1197 - val_accuracy: 0.9678\n",
      "Epoch 349/500\n",
      "2/2 [==============================] - 0s 59ms/step - loss: 0.0391 - accuracy: 0.9872 - val_loss: 0.1242 - val_accuracy: 0.9678\n",
      "Epoch 350/500\n",
      "2/2 [==============================] - 0s 49ms/step - loss: 0.0324 - accuracy: 0.9879 - val_loss: 0.1376 - val_accuracy: 0.9625\n",
      "Epoch 351/500\n",
      "2/2 [==============================] - 0s 72ms/step - loss: 0.0337 - accuracy: 0.9899 - val_loss: 0.1401 - val_accuracy: 0.9625\n",
      "Epoch 352/500\n",
      "2/2 [==============================] - 0s 63ms/step - loss: 0.0313 - accuracy: 0.9893 - val_loss: 0.1307 - val_accuracy: 0.9651\n",
      "Epoch 353/500\n",
      "2/2 [==============================] - 0s 84ms/step - loss: 0.0281 - accuracy: 0.9933 - val_loss: 0.1242 - val_accuracy: 0.9651\n",
      "Epoch 354/500\n",
      "2/2 [==============================] - 0s 43ms/step - loss: 0.0295 - accuracy: 0.9893 - val_loss: 0.1225 - val_accuracy: 0.9651\n",
      "Epoch 355/500\n",
      "2/2 [==============================] - 0s 42ms/step - loss: 0.0277 - accuracy: 0.9899 - val_loss: 0.1297 - val_accuracy: 0.9598\n",
      "Epoch 356/500\n",
      "2/2 [==============================] - 0s 61ms/step - loss: 0.0270 - accuracy: 0.9886 - val_loss: 0.1314 - val_accuracy: 0.9625\n",
      "Epoch 357/500\n",
      "2/2 [==============================] - 0s 69ms/step - loss: 0.0284 - accuracy: 0.9940 - val_loss: 0.1404 - val_accuracy: 0.9571\n",
      "Epoch 358/500\n",
      "2/2 [==============================] - 0s 57ms/step - loss: 0.0272 - accuracy: 0.9906 - val_loss: 0.1497 - val_accuracy: 0.9571\n",
      "Epoch 359/500\n",
      "2/2 [==============================] - 0s 80ms/step - loss: 0.0301 - accuracy: 0.9893 - val_loss: 0.1480 - val_accuracy: 0.9544\n",
      "Epoch 360/500\n",
      "2/2 [==============================] - 0s 51ms/step - loss: 0.0306 - accuracy: 0.9886 - val_loss: 0.1413 - val_accuracy: 0.9517\n",
      "Epoch 361/500\n",
      "2/2 [==============================] - 0s 51ms/step - loss: 0.0281 - accuracy: 0.9913 - val_loss: 0.1360 - val_accuracy: 0.9625\n",
      "Epoch 362/500\n",
      "2/2 [==============================] - 0s 61ms/step - loss: 0.0316 - accuracy: 0.9899 - val_loss: 0.1366 - val_accuracy: 0.9625\n",
      "Epoch 363/500\n",
      "2/2 [==============================] - 0s 52ms/step - loss: 0.0359 - accuracy: 0.9852 - val_loss: 0.1424 - val_accuracy: 0.9651\n",
      "Epoch 364/500\n",
      "2/2 [==============================] - 0s 47ms/step - loss: 0.0239 - accuracy: 0.9946 - val_loss: 0.1508 - val_accuracy: 0.9651\n",
      "Epoch 365/500\n",
      "2/2 [==============================] - 0s 52ms/step - loss: 0.0328 - accuracy: 0.9886 - val_loss: 0.1512 - val_accuracy: 0.9625\n",
      "Epoch 366/500\n",
      "2/2 [==============================] - 0s 48ms/step - loss: 0.0314 - accuracy: 0.9879 - val_loss: 0.1497 - val_accuracy: 0.9598\n",
      "Epoch 367/500\n",
      "2/2 [==============================] - 0s 51ms/step - loss: 0.0379 - accuracy: 0.9859 - val_loss: 0.1456 - val_accuracy: 0.9598\n",
      "Epoch 368/500\n",
      "2/2 [==============================] - 0s 50ms/step - loss: 0.0265 - accuracy: 0.9926 - val_loss: 0.1459 - val_accuracy: 0.9625\n",
      "Epoch 369/500\n",
      "2/2 [==============================] - 0s 45ms/step - loss: 0.0262 - accuracy: 0.9906 - val_loss: 0.1446 - val_accuracy: 0.9598\n",
      "Epoch 370/500\n",
      "2/2 [==============================] - 0s 47ms/step - loss: 0.0330 - accuracy: 0.9859 - val_loss: 0.1417 - val_accuracy: 0.9598\n",
      "Epoch 371/500\n",
      "2/2 [==============================] - 0s 45ms/step - loss: 0.0287 - accuracy: 0.9919 - val_loss: 0.1426 - val_accuracy: 0.9571\n",
      "Epoch 372/500\n",
      "2/2 [==============================] - 0s 44ms/step - loss: 0.0273 - accuracy: 0.9893 - val_loss: 0.1478 - val_accuracy: 0.9571\n",
      "Epoch 373/500\n",
      "2/2 [==============================] - 0s 49ms/step - loss: 0.0309 - accuracy: 0.9886 - val_loss: 0.1422 - val_accuracy: 0.9625\n",
      "Epoch 374/500\n",
      "2/2 [==============================] - 0s 42ms/step - loss: 0.0265 - accuracy: 0.9893 - val_loss: 0.1349 - val_accuracy: 0.9625\n",
      "Epoch 375/500\n",
      "2/2 [==============================] - 0s 44ms/step - loss: 0.0353 - accuracy: 0.9872 - val_loss: 0.1364 - val_accuracy: 0.9598\n",
      "Epoch 376/500\n",
      "2/2 [==============================] - 0s 43ms/step - loss: 0.0340 - accuracy: 0.9866 - val_loss: 0.1519 - val_accuracy: 0.9598\n",
      "Epoch 377/500\n",
      "2/2 [==============================] - 0s 45ms/step - loss: 0.0264 - accuracy: 0.9886 - val_loss: 0.1641 - val_accuracy: 0.9598\n",
      "Epoch 378/500\n",
      "2/2 [==============================] - 0s 44ms/step - loss: 0.0301 - accuracy: 0.9893 - val_loss: 0.1642 - val_accuracy: 0.9598\n",
      "Epoch 379/500\n",
      "2/2 [==============================] - 0s 47ms/step - loss: 0.0311 - accuracy: 0.9913 - val_loss: 0.1545 - val_accuracy: 0.9598\n",
      "Epoch 380/500\n",
      "2/2 [==============================] - 0s 56ms/step - loss: 0.0302 - accuracy: 0.9872 - val_loss: 0.1420 - val_accuracy: 0.9598\n",
      "Epoch 381/500\n",
      "2/2 [==============================] - 0s 50ms/step - loss: 0.0324 - accuracy: 0.9886 - val_loss: 0.1342 - val_accuracy: 0.9625\n",
      "Epoch 382/500\n",
      "2/2 [==============================] - 0s 41ms/step - loss: 0.0288 - accuracy: 0.9899 - val_loss: 0.1381 - val_accuracy: 0.9571\n",
      "Epoch 383/500\n",
      "2/2 [==============================] - 0s 44ms/step - loss: 0.0292 - accuracy: 0.9899 - val_loss: 0.1408 - val_accuracy: 0.9544\n",
      "Epoch 384/500\n",
      "2/2 [==============================] - 0s 45ms/step - loss: 0.0295 - accuracy: 0.9899 - val_loss: 0.1468 - val_accuracy: 0.9598\n",
      "Epoch 385/500\n",
      "2/2 [==============================] - 0s 42ms/step - loss: 0.0305 - accuracy: 0.9899 - val_loss: 0.1467 - val_accuracy: 0.9625\n",
      "Epoch 386/500\n",
      "2/2 [==============================] - 0s 54ms/step - loss: 0.0321 - accuracy: 0.9879 - val_loss: 0.1454 - val_accuracy: 0.9544\n",
      "Epoch 387/500\n",
      "2/2 [==============================] - 0s 60ms/step - loss: 0.0290 - accuracy: 0.9899 - val_loss: 0.1353 - val_accuracy: 0.9598\n",
      "Epoch 388/500\n",
      "2/2 [==============================] - 0s 49ms/step - loss: 0.0217 - accuracy: 0.9919 - val_loss: 0.1264 - val_accuracy: 0.9625\n",
      "Epoch 389/500\n",
      "2/2 [==============================] - 0s 57ms/step - loss: 0.0279 - accuracy: 0.9913 - val_loss: 0.1299 - val_accuracy: 0.9598\n",
      "Epoch 390/500\n",
      "2/2 [==============================] - 0s 51ms/step - loss: 0.0346 - accuracy: 0.9872 - val_loss: 0.1364 - val_accuracy: 0.9544\n",
      "Epoch 391/500\n",
      "2/2 [==============================] - 0s 60ms/step - loss: 0.0324 - accuracy: 0.9893 - val_loss: 0.1435 - val_accuracy: 0.9544\n",
      "Epoch 392/500\n",
      "2/2 [==============================] - 0s 61ms/step - loss: 0.0331 - accuracy: 0.9879 - val_loss: 0.1454 - val_accuracy: 0.9544\n",
      "Epoch 393/500\n",
      "2/2 [==============================] - 0s 68ms/step - loss: 0.0300 - accuracy: 0.9913 - val_loss: 0.1439 - val_accuracy: 0.9651\n",
      "Epoch 394/500\n",
      "2/2 [==============================] - 0s 54ms/step - loss: 0.0255 - accuracy: 0.9899 - val_loss: 0.1403 - val_accuracy: 0.9625\n",
      "Epoch 395/500\n",
      "2/2 [==============================] - 0s 58ms/step - loss: 0.0291 - accuracy: 0.9926 - val_loss: 0.1357 - val_accuracy: 0.9625\n",
      "Epoch 396/500\n",
      "2/2 [==============================] - 0s 49ms/step - loss: 0.0326 - accuracy: 0.9879 - val_loss: 0.1344 - val_accuracy: 0.9625\n",
      "Epoch 397/500\n",
      "2/2 [==============================] - 0s 58ms/step - loss: 0.0296 - accuracy: 0.9906 - val_loss: 0.1286 - val_accuracy: 0.9598\n",
      "Epoch 398/500\n",
      "2/2 [==============================] - 0s 66ms/step - loss: 0.0366 - accuracy: 0.9866 - val_loss: 0.1315 - val_accuracy: 0.9571\n",
      "Epoch 399/500\n",
      "2/2 [==============================] - 0s 62ms/step - loss: 0.0275 - accuracy: 0.9899 - val_loss: 0.1420 - val_accuracy: 0.9544\n",
      "Epoch 400/500\n",
      "2/2 [==============================] - 0s 54ms/step - loss: 0.0282 - accuracy: 0.9886 - val_loss: 0.1482 - val_accuracy: 0.9571\n",
      "Epoch 401/500\n",
      "2/2 [==============================] - 0s 70ms/step - loss: 0.0283 - accuracy: 0.9886 - val_loss: 0.1413 - val_accuracy: 0.9625\n",
      "Epoch 402/500\n",
      "2/2 [==============================] - 0s 54ms/step - loss: 0.0282 - accuracy: 0.9926 - val_loss: 0.1261 - val_accuracy: 0.9651\n",
      "Epoch 403/500\n",
      "2/2 [==============================] - 0s 68ms/step - loss: 0.0255 - accuracy: 0.9913 - val_loss: 0.1155 - val_accuracy: 0.9705\n",
      "Epoch 404/500\n",
      "2/2 [==============================] - 0s 61ms/step - loss: 0.0286 - accuracy: 0.9879 - val_loss: 0.1168 - val_accuracy: 0.9651\n",
      "Epoch 405/500\n",
      "2/2 [==============================] - 0s 63ms/step - loss: 0.0319 - accuracy: 0.9899 - val_loss: 0.1283 - val_accuracy: 0.9625\n",
      "Epoch 406/500\n",
      "2/2 [==============================] - 0s 43ms/step - loss: 0.0280 - accuracy: 0.9893 - val_loss: 0.1354 - val_accuracy: 0.9625\n",
      "Epoch 407/500\n",
      "2/2 [==============================] - 0s 43ms/step - loss: 0.0320 - accuracy: 0.9866 - val_loss: 0.1406 - val_accuracy: 0.9678\n",
      "Epoch 408/500\n",
      "2/2 [==============================] - 0s 46ms/step - loss: 0.0251 - accuracy: 0.9919 - val_loss: 0.1398 - val_accuracy: 0.9651\n",
      "Epoch 409/500\n",
      "2/2 [==============================] - 0s 48ms/step - loss: 0.0298 - accuracy: 0.9879 - val_loss: 0.1353 - val_accuracy: 0.9651\n",
      "Epoch 410/500\n",
      "2/2 [==============================] - 0s 45ms/step - loss: 0.0301 - accuracy: 0.9906 - val_loss: 0.1313 - val_accuracy: 0.9625\n",
      "Epoch 411/500\n",
      "2/2 [==============================] - 0s 52ms/step - loss: 0.0311 - accuracy: 0.9879 - val_loss: 0.1243 - val_accuracy: 0.9571\n",
      "Epoch 412/500\n",
      "2/2 [==============================] - 0s 48ms/step - loss: 0.0229 - accuracy: 0.9933 - val_loss: 0.1205 - val_accuracy: 0.9651\n",
      "Epoch 413/500\n",
      "2/2 [==============================] - 0s 41ms/step - loss: 0.0304 - accuracy: 0.9872 - val_loss: 0.1173 - val_accuracy: 0.9625\n",
      "Epoch 414/500\n",
      "2/2 [==============================] - 0s 40ms/step - loss: 0.0371 - accuracy: 0.9879 - val_loss: 0.1207 - val_accuracy: 0.9678\n",
      "Epoch 415/500\n",
      "2/2 [==============================] - 0s 44ms/step - loss: 0.0357 - accuracy: 0.9859 - val_loss: 0.1304 - val_accuracy: 0.9598\n",
      "Epoch 416/500\n",
      "2/2 [==============================] - 0s 48ms/step - loss: 0.0207 - accuracy: 0.9953 - val_loss: 0.1470 - val_accuracy: 0.9571\n",
      "Epoch 417/500\n",
      "2/2 [==============================] - 0s 49ms/step - loss: 0.0313 - accuracy: 0.9899 - val_loss: 0.1511 - val_accuracy: 0.9625\n",
      "Epoch 418/500\n",
      "2/2 [==============================] - 0s 48ms/step - loss: 0.0282 - accuracy: 0.9906 - val_loss: 0.1474 - val_accuracy: 0.9598\n",
      "Epoch 419/500\n",
      "2/2 [==============================] - 0s 47ms/step - loss: 0.0233 - accuracy: 0.9926 - val_loss: 0.1385 - val_accuracy: 0.9598\n",
      "Epoch 420/500\n",
      "2/2 [==============================] - 0s 46ms/step - loss: 0.0317 - accuracy: 0.9906 - val_loss: 0.1316 - val_accuracy: 0.9651\n",
      "Epoch 421/500\n",
      "2/2 [==============================] - 0s 43ms/step - loss: 0.0289 - accuracy: 0.9899 - val_loss: 0.1402 - val_accuracy: 0.9625\n",
      "Epoch 422/500\n",
      "2/2 [==============================] - 0s 45ms/step - loss: 0.0229 - accuracy: 0.9940 - val_loss: 0.1457 - val_accuracy: 0.9625\n",
      "Epoch 423/500\n",
      "2/2 [==============================] - 0s 44ms/step - loss: 0.0230 - accuracy: 0.9919 - val_loss: 0.1509 - val_accuracy: 0.9544\n",
      "Epoch 424/500\n",
      "2/2 [==============================] - 0s 44ms/step - loss: 0.0258 - accuracy: 0.9906 - val_loss: 0.1566 - val_accuracy: 0.9464\n",
      "Epoch 425/500\n",
      "2/2 [==============================] - 0s 46ms/step - loss: 0.0175 - accuracy: 0.9960 - val_loss: 0.1594 - val_accuracy: 0.9464\n",
      "Epoch 426/500\n",
      "2/2 [==============================] - 0s 44ms/step - loss: 0.0243 - accuracy: 0.9899 - val_loss: 0.1555 - val_accuracy: 0.9491\n",
      "Epoch 427/500\n",
      "2/2 [==============================] - 0s 48ms/step - loss: 0.0274 - accuracy: 0.9893 - val_loss: 0.1444 - val_accuracy: 0.9625\n",
      "Epoch 428/500\n",
      "2/2 [==============================] - 0s 44ms/step - loss: 0.0251 - accuracy: 0.9899 - val_loss: 0.1436 - val_accuracy: 0.9651\n",
      "Epoch 429/500\n",
      "2/2 [==============================] - 0s 42ms/step - loss: 0.0266 - accuracy: 0.9919 - val_loss: 0.1478 - val_accuracy: 0.9625\n",
      "Epoch 430/500\n",
      "2/2 [==============================] - 0s 43ms/step - loss: 0.0284 - accuracy: 0.9893 - val_loss: 0.1446 - val_accuracy: 0.9517\n",
      "Epoch 431/500\n",
      "2/2 [==============================] - 0s 39ms/step - loss: 0.0397 - accuracy: 0.9872 - val_loss: 0.1331 - val_accuracy: 0.9571\n",
      "Epoch 432/500\n",
      "2/2 [==============================] - 0s 48ms/step - loss: 0.0290 - accuracy: 0.9899 - val_loss: 0.1356 - val_accuracy: 0.9651\n",
      "Epoch 433/500\n",
      "2/2 [==============================] - 0s 88ms/step - loss: 0.0369 - accuracy: 0.9832 - val_loss: 0.1398 - val_accuracy: 0.9625\n",
      "Epoch 434/500\n",
      "2/2 [==============================] - 0s 60ms/step - loss: 0.0316 - accuracy: 0.9893 - val_loss: 0.1600 - val_accuracy: 0.9571\n",
      "Epoch 435/500\n",
      "2/2 [==============================] - 0s 79ms/step - loss: 0.0324 - accuracy: 0.9893 - val_loss: 0.1576 - val_accuracy: 0.9625\n",
      "Epoch 436/500\n",
      "2/2 [==============================] - 0s 66ms/step - loss: 0.0304 - accuracy: 0.9886 - val_loss: 0.1381 - val_accuracy: 0.9625\n",
      "Epoch 437/500\n",
      "2/2 [==============================] - 0s 71ms/step - loss: 0.0229 - accuracy: 0.9946 - val_loss: 0.1422 - val_accuracy: 0.9598\n",
      "Epoch 438/500\n",
      "2/2 [==============================] - 0s 46ms/step - loss: 0.0322 - accuracy: 0.9906 - val_loss: 0.1453 - val_accuracy: 0.9598\n",
      "Epoch 439/500\n",
      "2/2 [==============================] - 0s 72ms/step - loss: 0.0265 - accuracy: 0.9926 - val_loss: 0.1535 - val_accuracy: 0.9544\n",
      "Epoch 440/500\n",
      "2/2 [==============================] - 0s 49ms/step - loss: 0.0309 - accuracy: 0.9899 - val_loss: 0.1502 - val_accuracy: 0.9625\n",
      "Epoch 441/500\n",
      "2/2 [==============================] - 0s 63ms/step - loss: 0.0348 - accuracy: 0.9879 - val_loss: 0.1503 - val_accuracy: 0.9651\n",
      "Epoch 442/500\n",
      "2/2 [==============================] - 0s 52ms/step - loss: 0.0364 - accuracy: 0.9886 - val_loss: 0.1339 - val_accuracy: 0.9598\n",
      "Epoch 443/500\n",
      "2/2 [==============================] - 0s 83ms/step - loss: 0.0264 - accuracy: 0.9906 - val_loss: 0.1385 - val_accuracy: 0.9651\n",
      "Epoch 444/500\n",
      "2/2 [==============================] - 0s 43ms/step - loss: 0.0349 - accuracy: 0.9886 - val_loss: 0.1361 - val_accuracy: 0.9651\n",
      "Epoch 445/500\n",
      "2/2 [==============================] - 0s 57ms/step - loss: 0.0291 - accuracy: 0.9899 - val_loss: 0.1411 - val_accuracy: 0.9598\n",
      "Epoch 446/500\n",
      "2/2 [==============================] - 0s 58ms/step - loss: 0.0310 - accuracy: 0.9913 - val_loss: 0.1682 - val_accuracy: 0.9678\n",
      "Epoch 447/500\n",
      "2/2 [==============================] - 0s 52ms/step - loss: 0.0363 - accuracy: 0.9872 - val_loss: 0.1688 - val_accuracy: 0.9598\n",
      "Epoch 448/500\n",
      "2/2 [==============================] - 0s 47ms/step - loss: 0.0303 - accuracy: 0.9872 - val_loss: 0.1624 - val_accuracy: 0.9571\n",
      "Epoch 449/500\n",
      "2/2 [==============================] - 0s 56ms/step - loss: 0.0457 - accuracy: 0.9839 - val_loss: 0.1431 - val_accuracy: 0.9651\n",
      "Epoch 450/500\n",
      "2/2 [==============================] - 0s 67ms/step - loss: 0.0299 - accuracy: 0.9906 - val_loss: 0.1391 - val_accuracy: 0.9678\n",
      "Epoch 451/500\n",
      "2/2 [==============================] - 0s 49ms/step - loss: 0.0413 - accuracy: 0.9852 - val_loss: 0.1383 - val_accuracy: 0.9625\n",
      "Epoch 452/500\n",
      "2/2 [==============================] - 0s 45ms/step - loss: 0.0273 - accuracy: 0.9893 - val_loss: 0.1676 - val_accuracy: 0.9517\n",
      "Epoch 453/500\n",
      "2/2 [==============================] - 0s 45ms/step - loss: 0.0370 - accuracy: 0.9859 - val_loss: 0.1715 - val_accuracy: 0.9544\n",
      "Epoch 454/500\n",
      "2/2 [==============================] - 0s 47ms/step - loss: 0.0289 - accuracy: 0.9893 - val_loss: 0.1577 - val_accuracy: 0.9625\n",
      "Epoch 455/500\n",
      "2/2 [==============================] - 0s 66ms/step - loss: 0.0239 - accuracy: 0.9919 - val_loss: 0.1431 - val_accuracy: 0.9598\n",
      "Epoch 456/500\n",
      "2/2 [==============================] - 0s 69ms/step - loss: 0.0252 - accuracy: 0.9926 - val_loss: 0.1302 - val_accuracy: 0.9651\n",
      "Epoch 457/500\n",
      "2/2 [==============================] - 0s 60ms/step - loss: 0.0371 - accuracy: 0.9866 - val_loss: 0.1289 - val_accuracy: 0.9732\n",
      "Epoch 458/500\n",
      "2/2 [==============================] - 0s 64ms/step - loss: 0.0243 - accuracy: 0.9919 - val_loss: 0.1397 - val_accuracy: 0.9678\n",
      "Epoch 459/500\n",
      "2/2 [==============================] - 0s 71ms/step - loss: 0.0293 - accuracy: 0.9879 - val_loss: 0.1510 - val_accuracy: 0.9598\n",
      "Epoch 460/500\n",
      "2/2 [==============================] - 0s 56ms/step - loss: 0.0269 - accuracy: 0.9899 - val_loss: 0.1500 - val_accuracy: 0.9598\n",
      "Epoch 461/500\n",
      "2/2 [==============================] - 0s 76ms/step - loss: 0.0337 - accuracy: 0.9893 - val_loss: 0.1395 - val_accuracy: 0.9625\n",
      "Epoch 462/500\n",
      "2/2 [==============================] - 0s 81ms/step - loss: 0.0331 - accuracy: 0.9899 - val_loss: 0.1356 - val_accuracy: 0.9651\n",
      "Epoch 463/500\n",
      "2/2 [==============================] - 0s 75ms/step - loss: 0.0358 - accuracy: 0.9852 - val_loss: 0.1435 - val_accuracy: 0.9571\n",
      "Epoch 464/500\n",
      "2/2 [==============================] - 0s 81ms/step - loss: 0.0275 - accuracy: 0.9926 - val_loss: 0.1354 - val_accuracy: 0.9625\n",
      "Epoch 465/500\n",
      "2/2 [==============================] - 0s 68ms/step - loss: 0.0246 - accuracy: 0.9926 - val_loss: 0.1276 - val_accuracy: 0.9651\n",
      "Epoch 466/500\n",
      "2/2 [==============================] - 0s 44ms/step - loss: 0.0213 - accuracy: 0.9940 - val_loss: 0.1328 - val_accuracy: 0.9544\n",
      "Epoch 467/500\n",
      "2/2 [==============================] - 0s 51ms/step - loss: 0.0334 - accuracy: 0.9866 - val_loss: 0.1345 - val_accuracy: 0.9571\n",
      "Epoch 468/500\n",
      "2/2 [==============================] - 0s 54ms/step - loss: 0.0263 - accuracy: 0.9893 - val_loss: 0.1395 - val_accuracy: 0.9571\n",
      "Epoch 469/500\n",
      "2/2 [==============================] - 0s 77ms/step - loss: 0.0280 - accuracy: 0.9919 - val_loss: 0.1379 - val_accuracy: 0.9571\n",
      "Epoch 470/500\n",
      "2/2 [==============================] - 0s 47ms/step - loss: 0.0310 - accuracy: 0.9879 - val_loss: 0.1341 - val_accuracy: 0.9571\n",
      "Epoch 471/500\n",
      "2/2 [==============================] - 0s 67ms/step - loss: 0.0251 - accuracy: 0.9926 - val_loss: 0.1293 - val_accuracy: 0.9598\n",
      "Epoch 472/500\n",
      "2/2 [==============================] - 0s 51ms/step - loss: 0.0254 - accuracy: 0.9913 - val_loss: 0.1243 - val_accuracy: 0.9571\n",
      "Epoch 473/500\n",
      "2/2 [==============================] - 0s 43ms/step - loss: 0.0307 - accuracy: 0.9899 - val_loss: 0.1247 - val_accuracy: 0.9625\n",
      "Epoch 474/500\n",
      "2/2 [==============================] - 0s 47ms/step - loss: 0.0248 - accuracy: 0.9926 - val_loss: 0.1368 - val_accuracy: 0.9571\n",
      "Epoch 475/500\n",
      "2/2 [==============================] - 0s 46ms/step - loss: 0.0247 - accuracy: 0.9913 - val_loss: 0.1426 - val_accuracy: 0.9571\n",
      "Epoch 476/500\n",
      "2/2 [==============================] - 0s 48ms/step - loss: 0.0270 - accuracy: 0.9913 - val_loss: 0.1432 - val_accuracy: 0.9625\n",
      "Epoch 477/500\n",
      "2/2 [==============================] - 0s 48ms/step - loss: 0.0307 - accuracy: 0.9913 - val_loss: 0.1323 - val_accuracy: 0.9651\n",
      "Epoch 478/500\n",
      "2/2 [==============================] - 0s 49ms/step - loss: 0.0337 - accuracy: 0.9866 - val_loss: 0.1201 - val_accuracy: 0.9678\n",
      "Epoch 479/500\n",
      "2/2 [==============================] - 0s 43ms/step - loss: 0.0241 - accuracy: 0.9919 - val_loss: 0.1161 - val_accuracy: 0.9759\n",
      "Epoch 480/500\n",
      "2/2 [==============================] - 0s 49ms/step - loss: 0.0205 - accuracy: 0.9933 - val_loss: 0.1282 - val_accuracy: 0.9678\n",
      "Epoch 481/500\n",
      "2/2 [==============================] - 0s 50ms/step - loss: 0.0289 - accuracy: 0.9899 - val_loss: 0.1368 - val_accuracy: 0.9571\n",
      "Epoch 482/500\n",
      "2/2 [==============================] - 0s 49ms/step - loss: 0.0230 - accuracy: 0.9913 - val_loss: 0.1445 - val_accuracy: 0.9598\n",
      "Epoch 483/500\n",
      "2/2 [==============================] - 0s 65ms/step - loss: 0.0319 - accuracy: 0.9899 - val_loss: 0.1428 - val_accuracy: 0.9571\n",
      "Epoch 484/500\n",
      "2/2 [==============================] - 0s 54ms/step - loss: 0.0281 - accuracy: 0.9893 - val_loss: 0.1573 - val_accuracy: 0.9517\n",
      "Epoch 485/500\n",
      "2/2 [==============================] - 0s 64ms/step - loss: 0.0308 - accuracy: 0.9919 - val_loss: 0.1388 - val_accuracy: 0.9598\n",
      "Epoch 486/500\n",
      "2/2 [==============================] - 0s 62ms/step - loss: 0.0318 - accuracy: 0.9906 - val_loss: 0.1212 - val_accuracy: 0.9625\n",
      "Epoch 487/500\n",
      "2/2 [==============================] - 0s 52ms/step - loss: 0.0374 - accuracy: 0.9859 - val_loss: 0.1260 - val_accuracy: 0.9705\n",
      "Epoch 488/500\n",
      "2/2 [==============================] - 0s 61ms/step - loss: 0.0211 - accuracy: 0.9913 - val_loss: 0.1360 - val_accuracy: 0.9651\n",
      "Epoch 489/500\n",
      "2/2 [==============================] - 0s 57ms/step - loss: 0.0298 - accuracy: 0.9906 - val_loss: 0.1321 - val_accuracy: 0.9651\n",
      "Epoch 490/500\n",
      "2/2 [==============================] - 0s 54ms/step - loss: 0.0316 - accuracy: 0.9859 - val_loss: 0.1241 - val_accuracy: 0.9625\n",
      "Epoch 491/500\n",
      "2/2 [==============================] - 0s 66ms/step - loss: 0.0170 - accuracy: 0.9946 - val_loss: 0.1315 - val_accuracy: 0.9651\n",
      "Epoch 492/500\n",
      "2/2 [==============================] - 0s 75ms/step - loss: 0.0406 - accuracy: 0.9879 - val_loss: 0.1293 - val_accuracy: 0.9625\n",
      "Epoch 493/500\n",
      "2/2 [==============================] - 0s 68ms/step - loss: 0.0270 - accuracy: 0.9913 - val_loss: 0.1374 - val_accuracy: 0.9598\n",
      "Epoch 494/500\n",
      "2/2 [==============================] - 0s 84ms/step - loss: 0.0279 - accuracy: 0.9906 - val_loss: 0.1303 - val_accuracy: 0.9625\n",
      "Epoch 495/500\n",
      "2/2 [==============================] - 0s 69ms/step - loss: 0.0160 - accuracy: 0.9966 - val_loss: 0.1414 - val_accuracy: 0.9625\n",
      "Epoch 496/500\n",
      "2/2 [==============================] - 0s 63ms/step - loss: 0.0320 - accuracy: 0.9906 - val_loss: 0.1308 - val_accuracy: 0.9625\n",
      "Epoch 497/500\n",
      "2/2 [==============================] - 0s 66ms/step - loss: 0.0217 - accuracy: 0.9940 - val_loss: 0.1259 - val_accuracy: 0.9651\n",
      "Epoch 498/500\n",
      "2/2 [==============================] - 0s 62ms/step - loss: 0.0228 - accuracy: 0.9899 - val_loss: 0.1308 - val_accuracy: 0.9625\n",
      "Epoch 499/500\n",
      "2/2 [==============================] - 0s 49ms/step - loss: 0.0268 - accuracy: 0.9926 - val_loss: 0.1242 - val_accuracy: 0.9651\n",
      "Epoch 500/500\n",
      "2/2 [==============================] - 0s 61ms/step - loss: 0.0257 - accuracy: 0.9872 - val_loss: 0.1193 - val_accuracy: 0.9625\n"
     ]
    }
   ],
   "source": [
    "history1 = model.fit(X_train, Y_train, validation_data=(X_test, Y_test), epochs=500, batch_size=1024)"
   ],
   "metadata": {
    "collapsed": false,
    "pycharm": {
     "name": "#%%\n"
    }
   }
  },
  {
   "cell_type": "markdown",
   "source": [],
   "metadata": {
    "collapsed": false,
    "pycharm": {
     "name": "#%% md\n"
    }
   }
  },
  {
   "cell_type": "code",
   "execution_count": 92,
   "outputs": [
    {
     "name": "stdout",
     "output_type": "stream",
     "text": [
      "12/12 [==============================] - 0s 3ms/step - loss: 0.1093 - accuracy: 0.9571\n"
     ]
    },
    {
     "data": {
      "text/plain": "[0.10931070894002914, 0.9571045637130737]"
     },
     "execution_count": 92,
     "metadata": {},
     "output_type": "execute_result"
    }
   ],
   "source": [
    "model.evaluate(X_test, Y_test)"
   ],
   "metadata": {
    "collapsed": false,
    "pycharm": {
     "name": "#%%\n"
    }
   }
  },
  {
   "cell_type": "code",
   "execution_count": 93,
   "outputs": [],
   "source": [
    "model.save(\"/home/muzammil/PycharmProjects/Intrusion Detection in the Internet of Vehicles/models/VANET.h5\")"
   ],
   "metadata": {
    "collapsed": false,
    "pycharm": {
     "name": "#%%\n"
    }
   }
  },
  {
   "cell_type": "code",
   "execution_count": 94,
   "outputs": [
    {
     "data": {
      "text/plain": "<Figure size 1440x720 with 1 Axes>",
      "image/png": "[encoded data removed]"
     },
     "metadata": {},
     "output_type": "display_data"
    }
   ],
   "source": [
    "plt.figure(figsize=(20, 10))\n",
    "plt.plot(history.history['accuracy'])\n",
    "plt.plot(history.history['val_accuracy'])\n",
    "plt.title('model accuracy')\n",
    "plt.ylabel('accuracy')\n",
    "plt.xlabel('epoch')\n",
    "plt.legend(['train', 'test'], loc='upper left')\n",
    "plt.show()"
   ],
   "metadata": {
    "collapsed": false,
    "pycharm": {
     "name": "#%%\n"
    }
   }
  },
  {
   "cell_type": "code",
   "execution_count": 95,
   "outputs": [
    {
     "data": {
      "text/plain": "<Figure size 1440x720 with 1 Axes>",
      "image/png": "[encoded data removed]"
     },
     "metadata": {},
     "output_type": "display_data"
    }
   ],
   "source": [
    "plt.figure(figsize=(20, 10))\n",
    "plt.plot(history.history['loss'])\n",
    "plt.plot(history.history['val_loss'])\n",
    "plt.title('model loss')\n",
    "plt.ylabel('loss')\n",
    "plt.xlabel('epoch')\n",
    "plt.legend(['train', 'test'], loc='upper left')\n",
    "plt.show()"
   ],
   "metadata": {
    "collapsed": false,
    "pycharm": {
     "name": "#%%\n"
    }
   }
  },
  {
   "cell_type": "code",
   "execution_count": 96,
   "outputs": [],
   "source": [
    "model = tf.keras.models.load_model(\"D:\\PycharmProjects\\Intrusion Detection in the Internet of Vehicles\\models\\VANET.h5\")"
   ],
   "metadata": {
    "collapsed": false,
    "pycharm": {
     "name": "#%%\n"
    }
   }
  },
  {
   "cell_type": "code",
   "execution_count": 99,
   "outputs": [
    {
     "name": "stdout",
     "output_type": "stream",
     "text": [
      "12/12 [==============================] - 0s 1ms/step\n"
     ]
    }
   ],
   "source": [
    "y_pred = model.predict(X_test)\n",
    "y_obs = np.argmax(y_pred, axis=1)\n",
    "y_true = np.argmax(Y_test, axis=1)"
   ],
   "metadata": {
    "collapsed": false,
    "pycharm": {
     "name": "#%%\n"
    }
   }
  },
  {
   "cell_type": "code",
   "execution_count": 100,
   "outputs": [
    {
     "ename": "TypeError",
     "evalue": "Singleton array 0 cannot be considered a valid collection.",
     "output_type": "error",
     "traceback": [
      "\u001B[1;31m---------------------------------------------------------------------------\u001B[0m",
      "\u001B[1;31mTypeError\u001B[0m                                 Traceback (most recent call last)",
      "\u001B[1;32m<ipython-input-100-f000a557fbb7>\u001B[0m in \u001B[0;36m<module>\u001B[1;34m\u001B[0m\n\u001B[0;32m      1\u001B[0m \u001B[1;32mfrom\u001B[0m \u001B[0msklearn\u001B[0m\u001B[1;33m.\u001B[0m\u001B[0mmetrics\u001B[0m \u001B[1;32mimport\u001B[0m \u001B[0mconfusion_matrix\u001B[0m\u001B[1;33m\u001B[0m\u001B[1;33m\u001B[0m\u001B[0m\n\u001B[0;32m      2\u001B[0m \u001B[1;33m\u001B[0m\u001B[0m\n\u001B[1;32m----> 3\u001B[1;33m \u001B[0mtest_acc\u001B[0m \u001B[1;33m=\u001B[0m \u001B[0maccuracy_score\u001B[0m\u001B[1;33m(\u001B[0m\u001B[0my_true\u001B[0m\u001B[1;33m,\u001B[0m \u001B[0my_obs\u001B[0m\u001B[1;33m)\u001B[0m\u001B[1;33m\u001B[0m\u001B[1;33m\u001B[0m\u001B[0m\n\u001B[0m\u001B[0;32m      4\u001B[0m \u001B[0mcm\u001B[0m \u001B[1;33m=\u001B[0m \u001B[0mconfusion_matrix\u001B[0m\u001B[1;33m(\u001B[0m\u001B[0my_true\u001B[0m\u001B[1;33m,\u001B[0m \u001B[0my_obs\u001B[0m\u001B[1;33m)\u001B[0m\u001B[1;33m\u001B[0m\u001B[1;33m\u001B[0m\u001B[0m\n\u001B[0;32m      5\u001B[0m \u001B[1;33m\u001B[0m\u001B[0m\n",
      "\u001B[1;32mD:\\Softwares\\Anaconda\\lib\\site-packages\\sklearn\\utils\\validation.py\u001B[0m in \u001B[0;36minner_f\u001B[1;34m(*args, **kwargs)\u001B[0m\n\u001B[0;32m     61\u001B[0m             \u001B[0mextra_args\u001B[0m \u001B[1;33m=\u001B[0m \u001B[0mlen\u001B[0m\u001B[1;33m(\u001B[0m\u001B[0margs\u001B[0m\u001B[1;33m)\u001B[0m \u001B[1;33m-\u001B[0m \u001B[0mlen\u001B[0m\u001B[1;33m(\u001B[0m\u001B[0mall_args\u001B[0m\u001B[1;33m)\u001B[0m\u001B[1;33m\u001B[0m\u001B[1;33m\u001B[0m\u001B[0m\n\u001B[0;32m     62\u001B[0m             \u001B[1;32mif\u001B[0m \u001B[0mextra_args\u001B[0m \u001B[1;33m<=\u001B[0m \u001B[1;36m0\u001B[0m\u001B[1;33m:\u001B[0m\u001B[1;33m\u001B[0m\u001B[1;33m\u001B[0m\u001B[0m\n\u001B[1;32m---> 63\u001B[1;33m                 \u001B[1;32mreturn\u001B[0m \u001B[0mf\u001B[0m\u001B[1;33m(\u001B[0m\u001B[1;33m*\u001B[0m\u001B[0margs\u001B[0m\u001B[1;33m,\u001B[0m \u001B[1;33m**\u001B[0m\u001B[0mkwargs\u001B[0m\u001B[1;33m)\u001B[0m\u001B[1;33m\u001B[0m\u001B[1;33m\u001B[0m\u001B[0m\n\u001B[0m\u001B[0;32m     64\u001B[0m \u001B[1;33m\u001B[0m\u001B[0m\n\u001B[0;32m     65\u001B[0m             \u001B[1;31m# extra_args > 0\u001B[0m\u001B[1;33m\u001B[0m\u001B[1;33m\u001B[0m\u001B[1;33m\u001B[0m\u001B[0m\n",
      "\u001B[1;32mD:\\Softwares\\Anaconda\\lib\\site-packages\\sklearn\\metrics\\_classification.py\u001B[0m in \u001B[0;36maccuracy_score\u001B[1;34m(y_true, y_pred, normalize, sample_weight)\u001B[0m\n\u001B[0;32m    200\u001B[0m \u001B[1;33m\u001B[0m\u001B[0m\n\u001B[0;32m    201\u001B[0m     \u001B[1;31m# Compute accuracy for each possible representation\u001B[0m\u001B[1;33m\u001B[0m\u001B[1;33m\u001B[0m\u001B[1;33m\u001B[0m\u001B[0m\n\u001B[1;32m--> 202\u001B[1;33m     \u001B[0my_type\u001B[0m\u001B[1;33m,\u001B[0m \u001B[0my_true\u001B[0m\u001B[1;33m,\u001B[0m \u001B[0my_pred\u001B[0m \u001B[1;33m=\u001B[0m \u001B[0m_check_targets\u001B[0m\u001B[1;33m(\u001B[0m\u001B[0my_true\u001B[0m\u001B[1;33m,\u001B[0m \u001B[0my_pred\u001B[0m\u001B[1;33m)\u001B[0m\u001B[1;33m\u001B[0m\u001B[1;33m\u001B[0m\u001B[0m\n\u001B[0m\u001B[0;32m    203\u001B[0m     \u001B[0mcheck_consistent_length\u001B[0m\u001B[1;33m(\u001B[0m\u001B[0my_true\u001B[0m\u001B[1;33m,\u001B[0m \u001B[0my_pred\u001B[0m\u001B[1;33m,\u001B[0m \u001B[0msample_weight\u001B[0m\u001B[1;33m)\u001B[0m\u001B[1;33m\u001B[0m\u001B[1;33m\u001B[0m\u001B[0m\n\u001B[0;32m    204\u001B[0m     \u001B[1;32mif\u001B[0m \u001B[0my_type\u001B[0m\u001B[1;33m.\u001B[0m\u001B[0mstartswith\u001B[0m\u001B[1;33m(\u001B[0m\u001B[1;34m'multilabel'\u001B[0m\u001B[1;33m)\u001B[0m\u001B[1;33m:\u001B[0m\u001B[1;33m\u001B[0m\u001B[1;33m\u001B[0m\u001B[0m\n",
      "\u001B[1;32mD:\\Softwares\\Anaconda\\lib\\site-packages\\sklearn\\metrics\\_classification.py\u001B[0m in \u001B[0;36m_check_targets\u001B[1;34m(y_true, y_pred)\u001B[0m\n\u001B[0;32m     81\u001B[0m     \u001B[0my_pred\u001B[0m \u001B[1;33m:\u001B[0m \u001B[0marray\u001B[0m \u001B[1;32mor\u001B[0m \u001B[0mindicator\u001B[0m \u001B[0mmatrix\u001B[0m\u001B[1;33m\u001B[0m\u001B[1;33m\u001B[0m\u001B[0m\n\u001B[0;32m     82\u001B[0m     \"\"\"\n\u001B[1;32m---> 83\u001B[1;33m     \u001B[0mcheck_consistent_length\u001B[0m\u001B[1;33m(\u001B[0m\u001B[0my_true\u001B[0m\u001B[1;33m,\u001B[0m \u001B[0my_pred\u001B[0m\u001B[1;33m)\u001B[0m\u001B[1;33m\u001B[0m\u001B[1;33m\u001B[0m\u001B[0m\n\u001B[0m\u001B[0;32m     84\u001B[0m     \u001B[0mtype_true\u001B[0m \u001B[1;33m=\u001B[0m \u001B[0mtype_of_target\u001B[0m\u001B[1;33m(\u001B[0m\u001B[0my_true\u001B[0m\u001B[1;33m)\u001B[0m\u001B[1;33m\u001B[0m\u001B[1;33m\u001B[0m\u001B[0m\n\u001B[0;32m     85\u001B[0m     \u001B[0mtype_pred\u001B[0m \u001B[1;33m=\u001B[0m \u001B[0mtype_of_target\u001B[0m\u001B[1;33m(\u001B[0m\u001B[0my_pred\u001B[0m\u001B[1;33m)\u001B[0m\u001B[1;33m\u001B[0m\u001B[1;33m\u001B[0m\u001B[0m\n",
      "\u001B[1;32mD:\\Softwares\\Anaconda\\lib\\site-packages\\sklearn\\utils\\validation.py\u001B[0m in \u001B[0;36mcheck_consistent_length\u001B[1;34m(*arrays)\u001B[0m\n\u001B[0;32m    257\u001B[0m     \"\"\"\n\u001B[0;32m    258\u001B[0m \u001B[1;33m\u001B[0m\u001B[0m\n\u001B[1;32m--> 259\u001B[1;33m     \u001B[0mlengths\u001B[0m \u001B[1;33m=\u001B[0m \u001B[1;33m[\u001B[0m\u001B[0m_num_samples\u001B[0m\u001B[1;33m(\u001B[0m\u001B[0mX\u001B[0m\u001B[1;33m)\u001B[0m \u001B[1;32mfor\u001B[0m \u001B[0mX\u001B[0m \u001B[1;32min\u001B[0m \u001B[0marrays\u001B[0m \u001B[1;32mif\u001B[0m \u001B[0mX\u001B[0m \u001B[1;32mis\u001B[0m \u001B[1;32mnot\u001B[0m \u001B[1;32mNone\u001B[0m\u001B[1;33m]\u001B[0m\u001B[1;33m\u001B[0m\u001B[1;33m\u001B[0m\u001B[0m\n\u001B[0m\u001B[0;32m    260\u001B[0m     \u001B[0muniques\u001B[0m \u001B[1;33m=\u001B[0m \u001B[0mnp\u001B[0m\u001B[1;33m.\u001B[0m\u001B[0munique\u001B[0m\u001B[1;33m(\u001B[0m\u001B[0mlengths\u001B[0m\u001B[1;33m)\u001B[0m\u001B[1;33m\u001B[0m\u001B[1;33m\u001B[0m\u001B[0m\n\u001B[0;32m    261\u001B[0m     \u001B[1;32mif\u001B[0m \u001B[0mlen\u001B[0m\u001B[1;33m(\u001B[0m\u001B[0muniques\u001B[0m\u001B[1;33m)\u001B[0m \u001B[1;33m>\u001B[0m \u001B[1;36m1\u001B[0m\u001B[1;33m:\u001B[0m\u001B[1;33m\u001B[0m\u001B[1;33m\u001B[0m\u001B[0m\n",
      "\u001B[1;32mD:\\Softwares\\Anaconda\\lib\\site-packages\\sklearn\\utils\\validation.py\u001B[0m in \u001B[0;36m<listcomp>\u001B[1;34m(.0)\u001B[0m\n\u001B[0;32m    257\u001B[0m     \"\"\"\n\u001B[0;32m    258\u001B[0m \u001B[1;33m\u001B[0m\u001B[0m\n\u001B[1;32m--> 259\u001B[1;33m     \u001B[0mlengths\u001B[0m \u001B[1;33m=\u001B[0m \u001B[1;33m[\u001B[0m\u001B[0m_num_samples\u001B[0m\u001B[1;33m(\u001B[0m\u001B[0mX\u001B[0m\u001B[1;33m)\u001B[0m \u001B[1;32mfor\u001B[0m \u001B[0mX\u001B[0m \u001B[1;32min\u001B[0m \u001B[0marrays\u001B[0m \u001B[1;32mif\u001B[0m \u001B[0mX\u001B[0m \u001B[1;32mis\u001B[0m \u001B[1;32mnot\u001B[0m \u001B[1;32mNone\u001B[0m\u001B[1;33m]\u001B[0m\u001B[1;33m\u001B[0m\u001B[1;33m\u001B[0m\u001B[0m\n\u001B[0m\u001B[0;32m    260\u001B[0m     \u001B[0muniques\u001B[0m \u001B[1;33m=\u001B[0m \u001B[0mnp\u001B[0m\u001B[1;33m.\u001B[0m\u001B[0munique\u001B[0m\u001B[1;33m(\u001B[0m\u001B[0mlengths\u001B[0m\u001B[1;33m)\u001B[0m\u001B[1;33m\u001B[0m\u001B[1;33m\u001B[0m\u001B[0m\n\u001B[0;32m    261\u001B[0m     \u001B[1;32mif\u001B[0m \u001B[0mlen\u001B[0m\u001B[1;33m(\u001B[0m\u001B[0muniques\u001B[0m\u001B[1;33m)\u001B[0m \u001B[1;33m>\u001B[0m \u001B[1;36m1\u001B[0m\u001B[1;33m:\u001B[0m\u001B[1;33m\u001B[0m\u001B[1;33m\u001B[0m\u001B[0m\n",
      "\u001B[1;32mD:\\Softwares\\Anaconda\\lib\\site-packages\\sklearn\\utils\\validation.py\u001B[0m in \u001B[0;36m_num_samples\u001B[1;34m(x)\u001B[0m\n\u001B[0;32m    200\u001B[0m     \u001B[1;32mif\u001B[0m \u001B[0mhasattr\u001B[0m\u001B[1;33m(\u001B[0m\u001B[0mx\u001B[0m\u001B[1;33m,\u001B[0m \u001B[1;34m'shape'\u001B[0m\u001B[1;33m)\u001B[0m \u001B[1;32mand\u001B[0m \u001B[0mx\u001B[0m\u001B[1;33m.\u001B[0m\u001B[0mshape\u001B[0m \u001B[1;32mis\u001B[0m \u001B[1;32mnot\u001B[0m \u001B[1;32mNone\u001B[0m\u001B[1;33m:\u001B[0m\u001B[1;33m\u001B[0m\u001B[1;33m\u001B[0m\u001B[0m\n\u001B[0;32m    201\u001B[0m         \u001B[1;32mif\u001B[0m \u001B[0mlen\u001B[0m\u001B[1;33m(\u001B[0m\u001B[0mx\u001B[0m\u001B[1;33m.\u001B[0m\u001B[0mshape\u001B[0m\u001B[1;33m)\u001B[0m \u001B[1;33m==\u001B[0m \u001B[1;36m0\u001B[0m\u001B[1;33m:\u001B[0m\u001B[1;33m\u001B[0m\u001B[1;33m\u001B[0m\u001B[0m\n\u001B[1;32m--> 202\u001B[1;33m             raise TypeError(\"Singleton array %r cannot be considered\"\n\u001B[0m\u001B[0;32m    203\u001B[0m                             \" a valid collection.\" % x)\n\u001B[0;32m    204\u001B[0m         \u001B[1;31m# Check that shape is returning an integer or default to len\u001B[0m\u001B[1;33m\u001B[0m\u001B[1;33m\u001B[0m\u001B[1;33m\u001B[0m\u001B[0m\n",
      "\u001B[1;31mTypeError\u001B[0m: Singleton array 0 cannot be considered a valid collection."
     ]
    }
   ],
   "source": [
    "from sklearn.metrics import confusion_matrix\n",
    "\n",
    "test_acc = accuracy_score(y_true, y_obs)\n",
    "cm = confusion_matrix(y_true, y_obs)\n",
    "\n",
    "print(\"Test Accuracy: \", test_acc)\n",
    "fig, ax = plt.subplots(figsize=(30, 20))\n",
    "sns.heatmap(cm, annot=True, fmt=\"d\")\n",
    "plt.xlabel(\"Predicted\")\n",
    "plt.ylabel(\"true\")\n",
    "plt.show()"
   ],
   "metadata": {
    "collapsed": false,
    "pycharm": {
     "name": "#%%\n"
    }
   }
  },
  {
   "cell_type": "code",
   "execution_count": 37,
   "outputs": [
    {
     "name": "stdout",
     "output_type": "stream",
     "text": [
      "              precision    recall  f1-score   support\n",
      "\n",
      "           0       0.98      0.99      0.99       249\n",
      "           1       0.92      0.94      0.93       101\n",
      "           2       0.90      0.78      0.84        23\n",
      "\n",
      "    accuracy                           0.96       373\n",
      "   macro avg       0.94      0.90      0.92       373\n",
      "weighted avg       0.96      0.96      0.96       373\n",
      "\n"
     ]
    }
   ],
   "source": [
    "\n",
    "print(classification_report(y_true, y_obs))"
   ],
   "metadata": {
    "collapsed": false,
    "pycharm": {
     "name": "#%%\n"
    }
   }
  },
  {
   "cell_type": "code",
   "execution_count": 107,
   "outputs": [],
   "source": [
    "prediction_labels = []\n",
    "for i in y_pred:\n",
    "    prediction_labels.append(np.argmax(i))"
   ],
   "metadata": {
    "collapsed": false,
    "pycharm": {
     "name": "#%%\n"
    }
   }
  },
  {
   "cell_type": "code",
   "execution_count": 103,
   "outputs": [
    {
     "data": {
      "text/plain": "      20000  30000  40000\n233       1      0      0\n530       1      0      0\n1220      1      0      0\n471       0      1      0\n415       1      0      0\n...     ...    ...    ...\n438       1      0      0\n506       1      0      0\n593       1      0      0\n271       1      0      0\n184       1      0      0\n\n[373 rows x 3 columns]",
      "text/html": "<div>\n<style scoped>\n    .dataframe tbody tr th:only-of-type {\n        vertical-align: middle;\n    }\n\n    .dataframe tbody tr th {\n        vertical-align: top;\n    }\n\n    .dataframe thead th {\n        text-align: right;\n    }\n</style>\n<table border=\"1\" class=\"dataframe\">\n  <thead>\n    <tr style=\"text-align: right;\">\n      <th></th>\n      <th>20000</th>\n      <th>30000</th>\n      <th>40000</th>\n    </tr>\n  </thead>\n  <tbody>\n    <tr>\n      <th>233</th>\n      <td>1</td>\n      <td>0</td>\n      <td>0</td>\n    </tr>\n    <tr>\n      <th>530</th>\n      <td>1</td>\n      <td>0</td>\n      <td>0</td>\n    </tr>\n    <tr>\n      <th>1220</th>\n      <td>1</td>\n      <td>0</td>\n      <td>0</td>\n    </tr>\n    <tr>\n      <th>471</th>\n      <td>0</td>\n      <td>1</td>\n      <td>0</td>\n    </tr>\n    <tr>\n      <th>415</th>\n      <td>1</td>\n      <td>0</td>\n      <td>0</td>\n    </tr>\n    <tr>\n      <th>...</th>\n      <td>...</td>\n      <td>...</td>\n      <td>...</td>\n    </tr>\n    <tr>\n      <th>438</th>\n      <td>1</td>\n      <td>0</td>\n      <td>0</td>\n    </tr>\n    <tr>\n      <th>506</th>\n      <td>1</td>\n      <td>0</td>\n      <td>0</td>\n    </tr>\n    <tr>\n      <th>593</th>\n      <td>1</td>\n      <td>0</td>\n      <td>0</td>\n    </tr>\n    <tr>\n      <th>271</th>\n      <td>1</td>\n      <td>0</td>\n      <td>0</td>\n    </tr>\n    <tr>\n      <th>184</th>\n      <td>1</td>\n      <td>0</td>\n      <td>0</td>\n    </tr>\n  </tbody>\n</table>\n<p>373 rows × 3 columns</p>\n</div>"
     },
     "execution_count": 103,
     "metadata": {},
     "output_type": "execute_result"
    }
   ],
   "source": [
    "Y_test"
   ],
   "metadata": {
    "collapsed": false,
    "pycharm": {
     "name": "#%%\n"
    }
   }
  },
  {
   "cell_type": "code",
   "execution_count": 108,
   "outputs": [
    {
     "data": {
      "text/plain": "[0,\n 0,\n 0,\n 1,\n 0,\n 1,\n 0,\n 0,\n 0,\n 0,\n 1,\n 0,\n 0,\n 1,\n 0,\n 0,\n 0,\n 1,\n 0,\n 1,\n 1,\n 0,\n 0,\n 1,\n 0,\n 0,\n 0,\n 0,\n 0,\n 1,\n 0,\n 0,\n 1,\n 0,\n 1,\n 0,\n 0,\n 0,\n 0,\n 0,\n 0,\n 2,\n 0,\n 0,\n 0,\n 0,\n 1,\n 0,\n 0,\n 1,\n 0,\n 1,\n 0,\n 0,\n 0,\n 0,\n 1,\n 0,\n 0,\n 2,\n 1,\n 1,\n 0,\n 0,\n 0,\n 0,\n 0,\n 0,\n 0,\n 0,\n 1,\n 2,\n 0,\n 0,\n 0,\n 2,\n 0,\n 1,\n 0,\n 0,\n 1,\n 0,\n 1,\n 0,\n 0,\n 1,\n 0,\n 1,\n 0,\n 0,\n 0,\n 0,\n 0,\n 1,\n 0,\n 0,\n 0,\n 1,\n 0,\n 1,\n 1,\n 0,\n 0,\n 0,\n 0,\n 1,\n 0,\n 0,\n 0,\n 0,\n 0,\n 1,\n 2,\n 1,\n 0,\n 1,\n 0,\n 0,\n 1,\n 1,\n 1,\n 0,\n 1,\n 0,\n 1,\n 0,\n 0,\n 0,\n 1,\n 0,\n 0,\n 1,\n 0,\n 0,\n 0,\n 1,\n 0,\n 0,\n 1,\n 1,\n 0,\n 0,\n 1,\n 1,\n 1,\n 1,\n 0,\n 1,\n 0,\n 1,\n 0,\n 1,\n 0,\n 0,\n 1,\n 0,\n 0,\n 0,\n 2,\n 1,\n 0,\n 0,\n 1,\n 0,\n 0,\n 0,\n 0,\n 1,\n 0,\n 2,\n 1,\n 0,\n 0,\n 0,\n 0,\n 2,\n 1,\n 1,\n 0,\n 0,\n 1,\n 2,\n 0,\n 0,\n 0,\n 0,\n 1,\n 0,\n 0,\n 0,\n 1,\n 1,\n 1,\n 0,\n 1,\n 1,\n 0,\n 0,\n 0,\n 0,\n 0,\n 0,\n 0,\n 1,\n 0,\n 0,\n 2,\n 1,\n 2,\n 0,\n 1,\n 1,\n 0,\n 0,\n 1,\n 0,\n 1,\n 0,\n 0,\n 2,\n 2,\n 0,\n 2,\n 0,\n 0,\n 1,\n 0,\n 2,\n 2,\n 1,\n 0,\n 0,\n 1,\n 1,\n 0,\n 1,\n 0,\n 0,\n 1,\n 0,\n 0,\n 0,\n 0,\n 0,\n 1,\n 0,\n 1,\n 1,\n 0,\n 1,\n 1,\n 0,\n 0,\n 0,\n 0,\n 0,\n 0,\n 1,\n 1,\n 0,\n 0,\n 0,\n 1,\n 0,\n 1,\n 0,\n 0,\n 0,\n 0,\n 1,\n 0,\n 0,\n 0,\n 0,\n 0,\n 0,\n 0,\n 0,\n 0,\n 0,\n 0,\n 0,\n 1,\n 1,\n 0,\n 0,\n 1,\n 1,\n 0,\n 0,\n 0,\n 0,\n 0,\n 0,\n 0,\n 0,\n 0,\n 0,\n 0,\n 1,\n 2,\n 1,\n 1,\n 1,\n 0,\n 0,\n 0,\n 2,\n 1,\n 1,\n 0,\n 0,\n 1,\n 1,\n 1,\n 0,\n 0,\n 0,\n 0,\n 0,\n 0,\n 1,\n 0,\n 0,\n 0,\n 0,\n 1,\n 0,\n 0,\n 0,\n 1,\n 0,\n 0,\n 1,\n 1,\n 0,\n 0,\n 1,\n 0,\n 1,\n 0,\n 0,\n 2,\n 0,\n 0,\n 0,\n 0,\n 0,\n 0,\n 0,\n 0,\n 0,\n 1,\n 0,\n 0,\n 1,\n 0,\n 0,\n 0,\n 0,\n 0,\n 0,\n 0,\n 0,\n 0,\n 0,\n 1,\n 0,\n 1,\n 0,\n 0,\n 1,\n 0]"
     },
     "execution_count": 108,
     "metadata": {},
     "output_type": "execute_result"
    }
   ],
   "source": [
    "prediction_labels"
   ],
   "metadata": {
    "collapsed": false,
    "pycharm": {
     "name": "#%%\n"
    }
   }
  },
  {
   "cell_type": "code",
   "execution_count": 104,
   "outputs": [
    {
     "data": {
      "text/plain": "array([0, 1, 2], dtype=int64)"
     },
     "execution_count": 104,
     "metadata": {},
     "output_type": "execute_result"
    }
   ],
   "source": [
    "np.unique(prediction_labels)"
   ],
   "metadata": {
    "collapsed": false,
    "pycharm": {
     "name": "#%%\n"
    }
   }
  },
  {
   "cell_type": "code",
   "execution_count": 110,
   "outputs": [],
   "source": [
    "labels ={2:\"High\",1:\"Medium\",0:\"Low\"}"
   ],
   "metadata": {
    "collapsed": false,
    "pycharm": {
     "name": "#%%\n"
    }
   }
  },
  {
   "cell_type": "code",
   "execution_count": 111,
   "outputs": [
    {
     "data": {
      "text/plain": "['Low',\n 'Low',\n 'Low',\n 'Medium',\n 'Low',\n 'Medium',\n 'Low',\n 'Low',\n 'Low',\n 'Low',\n 'Medium',\n 'Low',\n 'Low',\n 'Medium',\n 'Low',\n 'Low',\n 'Low',\n 'Medium',\n 'Low',\n 'Medium',\n 'Medium',\n 'Low',\n 'Low',\n 'Medium',\n 'Low',\n 'Low',\n 'Low',\n 'Low',\n 'Low',\n 'Medium',\n 'Low',\n 'Low',\n 'Medium',\n 'Low',\n 'Medium',\n 'Low',\n 'Low',\n 'Low',\n 'Low',\n 'Low',\n 'Low',\n 'High',\n 'Low',\n 'Low',\n 'Low',\n 'Low',\n 'Medium',\n 'Low',\n 'Low',\n 'Medium',\n 'Low',\n 'Medium',\n 'Low',\n 'Low',\n 'Low',\n 'Low',\n 'Medium',\n 'Low',\n 'Low',\n 'High',\n 'Medium',\n 'Medium',\n 'Low',\n 'Low',\n 'Low',\n 'Low',\n 'Low',\n 'Low',\n 'Low',\n 'Low',\n 'Medium',\n 'High',\n 'Low',\n 'Low',\n 'Low',\n 'High',\n 'Low',\n 'Medium',\n 'Low',\n 'Low',\n 'Medium',\n 'Low',\n 'Medium',\n 'Low',\n 'Low',\n 'Medium',\n 'Low',\n 'Medium',\n 'Low',\n 'Low',\n 'Low',\n 'Low',\n 'Low',\n 'Medium',\n 'Low',\n 'Low',\n 'Low',\n 'Medium',\n 'Low',\n 'Medium',\n 'Medium',\n 'Low',\n 'Low',\n 'Low',\n 'Low',\n 'Medium',\n 'Low',\n 'Low',\n 'Low',\n 'Low',\n 'Low',\n 'Medium',\n 'High',\n 'Medium',\n 'Low',\n 'Medium',\n 'Low',\n 'Low',\n 'Medium',\n 'Medium',\n 'Medium',\n 'Low',\n 'Medium',\n 'Low',\n 'Medium',\n 'Low',\n 'Low',\n 'Low',\n 'Medium',\n 'Low',\n 'Low',\n 'Medium',\n 'Low',\n 'Low',\n 'Low',\n 'Medium',\n 'Low',\n 'Low',\n 'Medium',\n 'Medium',\n 'Low',\n 'Low',\n 'Medium',\n 'Medium',\n 'Medium',\n 'Medium',\n 'Low',\n 'Medium',\n 'Low',\n 'Medium',\n 'Low',\n 'Medium',\n 'Low',\n 'Low',\n 'Medium',\n 'Low',\n 'Low',\n 'Low',\n 'High',\n 'Medium',\n 'Low',\n 'Low',\n 'Medium',\n 'Low',\n 'Low',\n 'Low',\n 'Low',\n 'Medium',\n 'Low',\n 'High',\n 'Medium',\n 'Low',\n 'Low',\n 'Low',\n 'Low',\n 'High',\n 'Medium',\n 'Medium',\n 'Low',\n 'Low',\n 'Medium',\n 'High',\n 'Low',\n 'Low',\n 'Low',\n 'Low',\n 'Medium',\n 'Low',\n 'Low',\n 'Low',\n 'Medium',\n 'Medium',\n 'Medium',\n 'Low',\n 'Medium',\n 'Medium',\n 'Low',\n 'Low',\n 'Low',\n 'Low',\n 'Low',\n 'Low',\n 'Low',\n 'Medium',\n 'Low',\n 'Low',\n 'High',\n 'Medium',\n 'High',\n 'Low',\n 'Medium',\n 'Medium',\n 'Low',\n 'Low',\n 'Medium',\n 'Low',\n 'Medium',\n 'Low',\n 'Low',\n 'High',\n 'High',\n 'Low',\n 'High',\n 'Low',\n 'Low',\n 'Medium',\n 'Low',\n 'High',\n 'High',\n 'Medium',\n 'Low',\n 'Low',\n 'Medium',\n 'Medium',\n 'Low',\n 'Medium',\n 'Low',\n 'Low',\n 'Medium',\n 'Low',\n 'Low',\n 'Low',\n 'Low',\n 'Low',\n 'Medium',\n 'Low',\n 'Medium',\n 'Medium',\n 'Low',\n 'Medium',\n 'Medium',\n 'Low',\n 'Low',\n 'Low',\n 'Low',\n 'Low',\n 'Low',\n 'Medium',\n 'Medium',\n 'Low',\n 'Low',\n 'Low',\n 'Medium',\n 'Low',\n 'Medium',\n 'Low',\n 'Low',\n 'Low',\n 'Low',\n 'Medium',\n 'Low',\n 'Low',\n 'Low',\n 'Low',\n 'Low',\n 'Low',\n 'Low',\n 'Low',\n 'Low',\n 'Low',\n 'Low',\n 'Low',\n 'Medium',\n 'Medium',\n 'Low',\n 'Low',\n 'Medium',\n 'Medium',\n 'Low',\n 'Low',\n 'Low',\n 'Low',\n 'Low',\n 'Low',\n 'Low',\n 'Low',\n 'Low',\n 'Low',\n 'Low',\n 'Medium',\n 'High',\n 'Medium',\n 'Medium',\n 'Medium',\n 'Low',\n 'Low',\n 'Low',\n 'High',\n 'Medium',\n 'Medium',\n 'Low',\n 'Low',\n 'Medium',\n 'Medium',\n 'Medium',\n 'Low',\n 'Low',\n 'Low',\n 'Low',\n 'Low',\n 'Low',\n 'Medium',\n 'Low',\n 'Low',\n 'Low',\n 'Low',\n 'Medium',\n 'Low',\n 'Low',\n 'Low',\n 'Medium',\n 'Low',\n 'Low',\n 'Medium',\n 'Medium',\n 'Low',\n 'Low',\n 'Medium',\n 'Low',\n 'Medium',\n 'Low',\n 'Low',\n 'High',\n 'Low',\n 'Low',\n 'Low',\n 'Low',\n 'Low',\n 'Low',\n 'Low',\n 'Low',\n 'Low',\n 'Medium',\n 'Low',\n 'Low',\n 'Medium',\n 'Low',\n 'Low',\n 'Low',\n 'Low',\n 'Low',\n 'Low',\n 'Low',\n 'Low',\n 'Low',\n 'Low',\n 'Medium',\n 'Low',\n 'Medium',\n 'Low',\n 'Low',\n 'Medium',\n 'Low']"
     },
     "execution_count": 111,
     "metadata": {},
     "output_type": "execute_result"
    }
   ],
   "source": [
    "predictions =[]\n",
    "for i in prediction_labels:\n",
    "    predictions.append(labels.get(i))\n",
    "predictions"
   ],
   "metadata": {
    "collapsed": false,
    "pycharm": {
     "name": "#%%\n"
    }
   }
  },
  {
   "cell_type": "code",
   "execution_count": 115,
   "outputs": [
    {
     "data": {
      "text/plain": "<Figure size 1080x1080 with 1 Axes>",
      "image/png": "[encoded data removed]"
     },
     "metadata": {},
     "output_type": "display_data"
    }
   ],
   "source": [
    "plt.figure(figsize=(15,15))\n",
    "plt.grid()\n",
    "plt.title(\"Distribution graph of Messages.\")\n",
    "plt.xlabel(\"Severity\")\n",
    "plt.ylabel(\"No of Messages\")\n",
    "plt.hist(predictions, bins=3)\n",
    "plt.show()"
   ],
   "metadata": {
    "collapsed": false,
    "pycharm": {
     "name": "#%%\n"
    }
   }
  },
  {
   "cell_type": "markdown",
   "source": [],
   "metadata": {
    "collapsed": false,
    "pycharm": {
     "name": "#%% md\n"
    }
   }
  },
  {
   "cell_type": "markdown",
   "source": [],
   "metadata": {
    "collapsed": false,
    "pycharm": {
     "name": "#%% md\n"
    }
   }
  },
  {
   "cell_type": "markdown",
   "source": [],
   "metadata": {
    "collapsed": false,
    "pycharm": {
     "name": "#%% md\n"
    }
   }
  },
  {
   "cell_type": "code",
   "execution_count": 385,
   "outputs": [
    {
     "name": "stdout",
     "output_type": "stream",
     "text": [
      "ann\n"
     ]
    },
    {
     "data": {
      "text/plain": "array([[246,   3,   0],\n       [  4,  95,   2],\n       [  0,   5,  18]])"
     },
     "execution_count": 385,
     "metadata": {},
     "output_type": "execute_result"
    }
   ],
   "source": [
    "print(\"ann\")\n",
    "cm"
   ],
   "metadata": {
    "collapsed": false,
    "pycharm": {
     "name": "#%%\n"
    }
   }
  },
  {
   "cell_type": "code",
   "execution_count": 356,
   "outputs": [],
   "source": [
    "X = mergedDf[['Start time','End time','Time Period', 'Packets', 'Rate', 'Sender', 'Receiver', 'Actual Distance']]\n",
    "Y = mergedDf.Severity"
   ],
   "metadata": {
    "collapsed": false,
    "pycharm": {
     "name": "#%%\n"
    }
   }
  },
  {
   "cell_type": "code",
   "execution_count": 357,
   "outputs": [],
   "source": [
    "#Y = encoder.fit_transform(Y)\n",
    "X = minMaxScaler.fit_transform(X)\n",
    "X_train, X_test, Y_train, Y_test = train_test_split(X, Y, test_size=0.2, random_state=42)\n"
   ],
   "metadata": {
    "collapsed": false,
    "pycharm": {
     "name": "#%%\n"
    }
   }
  },
  {
   "cell_type": "code",
   "execution_count": 377,
   "outputs": [
    {
     "data": {
      "text/plain": "0.8927613941018767"
     },
     "execution_count": 377,
     "metadata": {},
     "output_type": "execute_result"
    }
   ],
   "source": [
    "from sklearn.svm import SVC\n",
    "\n",
    "svc = SVC()\n",
    "svc.fit(X_train, Y_train)\n",
    "svc.score(X_test, Y_test)"
   ],
   "metadata": {
    "collapsed": false,
    "pycharm": {
     "name": "#%%\n"
    }
   }
  },
  {
   "cell_type": "code",
   "execution_count": 378,
   "outputs": [
    {
     "name": "stdout",
     "output_type": "stream",
     "text": [
      "Test Accuracy:  0.8927613941018767\n"
     ]
    },
    {
     "data": {
      "text/plain": "<Figure size 1440x1080 with 2 Axes>",
      "image/png": "[encoded data removed]"
     },
     "metadata": {
      "needs_background": "light"
     },
     "output_type": "display_data"
    }
   ],
   "source": [
    "y_pred = svc.predict(X_test)\n",
    "\n",
    "test_acc = accuracy_score(Y_test, y_pred)\n",
    "cm = confusion_matrix(Y_test, y_pred)\n",
    "\n",
    "print(\"Test Accuracy: \", test_acc)\n",
    "fig, ax = plt.subplots(figsize=(20, 15))\n",
    "sns.heatmap(cm, annot=True, fmt=\"d\")\n",
    "plt.xlabel(\"Predicted\")\n",
    "plt.ylabel(\"true\")\n",
    "plt.show()"
   ],
   "metadata": {
    "collapsed": false,
    "pycharm": {
     "name": "#%%\n"
    }
   }
  },
  {
   "cell_type": "code",
   "execution_count": 379,
   "outputs": [
    {
     "name": "stdout",
     "output_type": "stream",
     "text": [
      "              precision    recall  f1-score   support\n",
      "\n",
      "       20000       0.93      0.96      0.94       249\n",
      "       30000       0.81      0.82      0.82       101\n",
      "       40000       0.83      0.43      0.57        23\n",
      "\n",
      "    accuracy                           0.89       373\n",
      "   macro avg       0.86      0.74      0.78       373\n",
      "weighted avg       0.89      0.89      0.89       373\n",
      "\n"
     ]
    }
   ],
   "source": [
    "print(classification_report(Y_test, y_pred))"
   ],
   "metadata": {
    "collapsed": false,
    "pycharm": {
     "name": "#%%\n"
    }
   }
  },
  {
   "cell_type": "code",
   "execution_count": 380,
   "outputs": [
    {
     "name": "stdout",
     "output_type": "stream",
     "text": [
      "svc \n"
     ]
    },
    {
     "data": {
      "text/plain": "array([[240,   9,   0],\n       [ 16,  83,   2],\n       [  3,  10,  10]])"
     },
     "execution_count": 380,
     "metadata": {},
     "output_type": "execute_result"
    }
   ],
   "source": [
    "print(\"svc \")\n",
    "cm"
   ],
   "metadata": {
    "collapsed": false,
    "pycharm": {
     "name": "#%%\n"
    }
   }
  },
  {
   "cell_type": "code",
   "execution_count": 373,
   "outputs": [
    {
     "data": {
      "text/plain": "0.9142091152815014"
     },
     "execution_count": 373,
     "metadata": {},
     "output_type": "execute_result"
    }
   ],
   "source": [
    "from sklearn.tree import DecisionTreeClassifier\n",
    "\n",
    "decisionTree = DecisionTreeClassifier()\n",
    "decisionTree.fit(X_train, Y_train)\n",
    "decisionTree.score(X_test, Y_test)"
   ],
   "metadata": {
    "collapsed": false,
    "pycharm": {
     "name": "#%%\n"
    }
   }
  },
  {
   "cell_type": "code",
   "execution_count": 374,
   "outputs": [
    {
     "name": "stdout",
     "output_type": "stream",
     "text": [
      "Test Accuracy:  0.9142091152815014\n"
     ]
    },
    {
     "data": {
      "text/plain": "<Figure size 1440x1080 with 2 Axes>",
      "image/png": "[encoded data removed]"
     },
     "metadata": {
      "needs_background": "light"
     },
     "output_type": "display_data"
    }
   ],
   "source": [
    "y_pred = decisionTree.predict(X_test)\n",
    "\n",
    "test_acc = accuracy_score(Y_test, y_pred)\n",
    "cm = confusion_matrix(Y_test, y_pred)\n",
    "\n",
    "print(\"Test Accuracy: \", test_acc)\n",
    "fig, ax = plt.subplots(figsize=(20, 15))\n",
    "sns.heatmap(cm, annot=True, fmt=\"d\")\n",
    "plt.xlabel(\"Predicted\")\n",
    "plt.ylabel(\"true\")\n",
    "plt.show()"
   ],
   "metadata": {
    "collapsed": false,
    "pycharm": {
     "name": "#%%\n"
    }
   }
  },
  {
   "cell_type": "code",
   "execution_count": 375,
   "outputs": [
    {
     "name": "stdout",
     "output_type": "stream",
     "text": [
      "              precision    recall  f1-score   support\n",
      "\n",
      "       20000       0.96      0.94      0.95       249\n",
      "       30000       0.81      0.90      0.85       101\n",
      "       40000       0.88      0.65      0.75        23\n",
      "\n",
      "    accuracy                           0.91       373\n",
      "   macro avg       0.89      0.83      0.85       373\n",
      "weighted avg       0.92      0.91      0.91       373\n",
      "\n"
     ]
    }
   ],
   "source": [
    "print(classification_report(Y_test, y_pred))"
   ],
   "metadata": {
    "collapsed": false,
    "pycharm": {
     "name": "#%%\n"
    }
   }
  },
  {
   "cell_type": "code",
   "execution_count": 376,
   "outputs": [
    {
     "name": "stdout",
     "output_type": "stream",
     "text": [
      "decision tree\n"
     ]
    },
    {
     "data": {
      "text/plain": "array([[235,  13,   1],\n       [  9,  91,   1],\n       [  0,   8,  15]])"
     },
     "execution_count": 376,
     "metadata": {},
     "output_type": "execute_result"
    }
   ],
   "source": [
    "print(\"decision tree\")\n",
    "cm"
   ],
   "metadata": {
    "collapsed": false,
    "pycharm": {
     "name": "#%%\n"
    }
   }
  },
  {
   "cell_type": "code",
   "execution_count": 369,
   "outputs": [
    {
     "data": {
      "text/plain": "0.67828418230563"
     },
     "execution_count": 369,
     "metadata": {},
     "output_type": "execute_result"
    }
   ],
   "source": [
    "from sklearn.naive_bayes import BernoulliNB\n",
    "\n",
    "modelNB = BernoulliNB()\n",
    "modelNB.fit(X_train, Y_train)\n",
    "modelNB.score(X_test, Y_test)"
   ],
   "metadata": {
    "collapsed": false,
    "pycharm": {
     "name": "#%%\n"
    }
   }
  },
  {
   "cell_type": "code",
   "execution_count": 370,
   "outputs": [
    {
     "name": "stdout",
     "output_type": "stream",
     "text": [
      "Test Accuracy:  0.67828418230563\n"
     ]
    },
    {
     "data": {
      "text/plain": "<Figure size 1440x1080 with 2 Axes>",
      "image/png": "[encoded data removed]"
     },
     "metadata": {
      "needs_background": "light"
     },
     "output_type": "display_data"
    }
   ],
   "source": [
    "y_pred = modelNB.predict(X_test)\n",
    "\n",
    "test_acc = accuracy_score(Y_test, y_pred)\n",
    "cm = confusion_matrix(Y_test, y_pred)\n",
    "\n",
    "print(\"Test Accuracy: \", test_acc)\n",
    "fig, ax = plt.subplots(figsize=(20, 15))\n",
    "sns.heatmap(cm, annot=True, fmt=\"d\")\n",
    "plt.xlabel(\"Predicted\")\n",
    "plt.ylabel(\"true\")\n",
    "plt.show()"
   ],
   "metadata": {
    "collapsed": false,
    "pycharm": {
     "name": "#%%\n"
    }
   }
  },
  {
   "cell_type": "code",
   "execution_count": 371,
   "outputs": [
    {
     "name": "stdout",
     "output_type": "stream",
     "text": [
      "              precision    recall  f1-score   support\n",
      "\n",
      "       20000       0.68      1.00      0.81       249\n",
      "       30000       0.00      0.00      0.00       101\n",
      "       40000       0.50      0.22      0.30        23\n",
      "\n",
      "    accuracy                           0.68       373\n",
      "   macro avg       0.39      0.40      0.37       373\n",
      "weighted avg       0.49      0.68      0.56       373\n",
      "\n"
     ]
    },
    {
     "name": "stderr",
     "output_type": "stream",
     "text": [
      "/home/muzammil/Python_programs/PycharmProjects/ML/venv/lib/python3.10/site-packages/sklearn/metrics/_classification.py:1318: UndefinedMetricWarning: Precision and F-score are ill-defined and being set to 0.0 in labels with no predicted samples. Use `zero_division` parameter to control this behavior.\n",
      "  _warn_prf(average, modifier, msg_start, len(result))\n",
      "/home/muzammil/Python_programs/PycharmProjects/ML/venv/lib/python3.10/site-packages/sklearn/metrics/_classification.py:1318: UndefinedMetricWarning: Precision and F-score are ill-defined and being set to 0.0 in labels with no predicted samples. Use `zero_division` parameter to control this behavior.\n",
      "  _warn_prf(average, modifier, msg_start, len(result))\n",
      "/home/muzammil/Python_programs/PycharmProjects/ML/venv/lib/python3.10/site-packages/sklearn/metrics/_classification.py:1318: UndefinedMetricWarning: Precision and F-score are ill-defined and being set to 0.0 in labels with no predicted samples. Use `zero_division` parameter to control this behavior.\n",
      "  _warn_prf(average, modifier, msg_start, len(result))\n"
     ]
    }
   ],
   "source": [
    "print(classification_report(Y_test, y_pred))"
   ],
   "metadata": {
    "collapsed": false,
    "pycharm": {
     "name": "#%%\n"
    }
   }
  },
  {
   "cell_type": "code",
   "execution_count": 372,
   "outputs": [
    {
     "name": "stdout",
     "output_type": "stream",
     "text": [
      "bernoulli NB\n"
     ]
    },
    {
     "data": {
      "text/plain": "array([[248,   0,   1],\n       [ 97,   0,   4],\n       [ 18,   0,   5]])"
     },
     "execution_count": 372,
     "metadata": {},
     "output_type": "execute_result"
    }
   ],
   "source": [
    "print(\"bernoulli NB\")\n",
    "cm"
   ],
   "metadata": {
    "collapsed": false,
    "pycharm": {
     "name": "#%%\n"
    }
   }
  },
  {
   "cell_type": "code",
   "execution_count": 364,
   "outputs": [
    {
     "data": {
      "text/plain": "0.9276139410187667"
     },
     "execution_count": 364,
     "metadata": {},
     "output_type": "execute_result"
    }
   ],
   "source": [
    "from sklearn.ensemble import RandomForestClassifier\n",
    "\n",
    "RF = RandomForestClassifier()\n",
    "RF.fit(X_train, Y_train)\n",
    "RF.score(X_test, Y_test)"
   ],
   "metadata": {
    "collapsed": false,
    "pycharm": {
     "name": "#%%\n"
    }
   }
  },
  {
   "cell_type": "code",
   "execution_count": 365,
   "outputs": [
    {
     "name": "stdout",
     "output_type": "stream",
     "text": [
      "Test Accuracy:  0.9276139410187667\n"
     ]
    },
    {
     "data": {
      "text/plain": "<Figure size 1440x1080 with 2 Axes>",
      "image/png": "[encoded data removed]"
     },
     "metadata": {
      "needs_background": "light"
     },
     "output_type": "display_data"
    }
   ],
   "source": [
    "y_pred = RF.predict(X_test)\n",
    "\n",
    "test_acc = accuracy_score(Y_test, y_pred)\n",
    "cm = confusion_matrix(Y_test, y_pred)\n",
    "\n",
    "print(\"Test Accuracy: \", test_acc)\n",
    "fig, ax = plt.subplots(figsize=(20, 15))\n",
    "sns.heatmap(cm, annot=True, fmt=\"d\")\n",
    "plt.xlabel(\"Predicted\")\n",
    "plt.ylabel(\"true\")\n",
    "plt.show()"
   ],
   "metadata": {
    "collapsed": false,
    "pycharm": {
     "name": "#%%\n"
    }
   }
  },
  {
   "cell_type": "code",
   "execution_count": 366,
   "outputs": [
    {
     "name": "stdout",
     "output_type": "stream",
     "text": [
      "              precision    recall  f1-score   support\n",
      "\n",
      "       20000       0.95      0.97      0.96       249\n",
      "       30000       0.87      0.90      0.88       101\n",
      "       40000       0.93      0.61      0.74        23\n",
      "\n",
      "    accuracy                           0.93       373\n",
      "   macro avg       0.92      0.83      0.86       373\n",
      "weighted avg       0.93      0.93      0.93       373\n",
      "\n"
     ]
    }
   ],
   "source": [
    "print(classification_report(Y_test, y_pred))"
   ],
   "metadata": {
    "collapsed": false,
    "pycharm": {
     "name": "#%%\n"
    }
   }
  },
  {
   "cell_type": "code",
   "execution_count": 368,
   "outputs": [
    {
     "name": "stdout",
     "output_type": "stream",
     "text": [
      "random forest\n"
     ]
    },
    {
     "data": {
      "text/plain": "array([[241,   7,   1],\n       [ 10,  91,   0],\n       [  2,   7,  14]])"
     },
     "execution_count": 368,
     "metadata": {},
     "output_type": "execute_result"
    }
   ],
   "source": [
    "print(\"random forest\")\n",
    "cm"
   ],
   "metadata": {
    "collapsed": false,
    "pycharm": {
     "name": "#%%\n"
    }
   }
  },
  {
   "cell_type": "code",
   "execution_count": 360,
   "outputs": [
    {
     "data": {
      "text/plain": "0.8096514745308311"
     },
     "execution_count": 360,
     "metadata": {},
     "output_type": "execute_result"
    }
   ],
   "source": [
    "from sklearn.linear_model import LogisticRegression\n",
    "\n",
    "LR = LogisticRegression()\n",
    "LR.fit(X_train, Y_train)\n",
    "LR.score(X_test, Y_test)"
   ],
   "metadata": {
    "collapsed": false,
    "pycharm": {
     "name": "#%%\n"
    }
   }
  },
  {
   "cell_type": "code",
   "execution_count": 361,
   "outputs": [
    {
     "name": "stdout",
     "output_type": "stream",
     "text": [
      "Test Accuracy:  0.8096514745308311\n"
     ]
    },
    {
     "data": {
      "text/plain": "<Figure size 1440x1080 with 2 Axes>",
      "image/png": "[encoded data removed]"
     },
     "metadata": {
      "needs_background": "light"
     },
     "output_type": "display_data"
    }
   ],
   "source": [
    "y_pred = LR.predict(X_test)\n",
    "\n",
    "test_acc = accuracy_score(Y_test, y_pred)\n",
    "cm = confusion_matrix(Y_test, y_pred)\n",
    "\n",
    "print(\"Test Accuracy: \", test_acc)\n",
    "fig, ax = plt.subplots(figsize=(20, 15))\n",
    "sns.heatmap(cm, annot=True, fmt=\"d\")\n",
    "plt.xlabel(\"Predicted\")\n",
    "plt.ylabel(\"true\")\n",
    "plt.show()"
   ],
   "metadata": {
    "collapsed": false,
    "pycharm": {
     "name": "#%%\n"
    }
   }
  },
  {
   "cell_type": "code",
   "execution_count": 362,
   "outputs": [
    {
     "name": "stdout",
     "output_type": "stream",
     "text": [
      "              precision    recall  f1-score   support\n",
      "\n",
      "       20000       0.85      0.95      0.90       249\n",
      "       30000       0.72      0.59      0.65       101\n",
      "       40000       0.50      0.22      0.30        23\n",
      "\n",
      "    accuracy                           0.81       373\n",
      "   macro avg       0.69      0.59      0.62       373\n",
      "weighted avg       0.79      0.81      0.79       373\n",
      "\n"
     ]
    }
   ],
   "source": [
    "print(classification_report(Y_test, y_pred))"
   ],
   "metadata": {
    "collapsed": false,
    "pycharm": {
     "name": "#%%\n"
    }
   }
  },
  {
   "cell_type": "code",
   "execution_count": 363,
   "outputs": [
    {
     "data": {
      "text/plain": "array([[237,  11,   1],\n       [ 37,  60,   4],\n       [  6,  12,   5]])"
     },
     "execution_count": 363,
     "metadata": {},
     "output_type": "execute_result"
    }
   ],
   "source": [
    "cm"
   ],
   "metadata": {
    "collapsed": false,
    "pycharm": {
     "name": "#%%\n"
    }
   }
  },
  {
   "cell_type": "code",
   "execution_count": null,
   "outputs": [],
   "source": [
    "import rembag"
   ],
   "metadata": {
    "collapsed": false,
    "pycharm": {
     "name": "#%%\n"
    }
   }
  }
 ],
 "metadata": {
  "kernelspec": {
   "display_name": "Python 3",
   "language": "python",
   "name": "python3"
  },
  "language_info": {
   "codemirror_mode": {
    "name": "ipython",
    "version": 2
   },
   "file_extension": ".py",
   "mimetype": "text/x-python",
   "name": "python",
   "nbconvert_exporter": "python",
   "pygments_lexer": "ipython2",
   "version": "2.7.6"
  }
 },
 "nbformat": 4,
 "nbformat_minor": 0
}